{
 "cells": [
  {
   "cell_type": "code",
   "execution_count": 2,
   "id": "2faad150-0296-4d86-8b47-80e8855415ae",
   "metadata": {},
   "outputs": [],
   "source": [
    "import pandas as pd\n",
    "\n",
    "data = pd.read_excel(r\"C:\\Users\\parkh\\OneDrive\\Desktop\\HateSpeech\\output0.xlsx\")\n"
   ]
  },
  {
   "cell_type": "code",
   "execution_count": 3,
   "id": "5a825a39-ff2a-4bd5-812c-7d5063b3d45a",
   "metadata": {},
   "outputs": [],
   "source": [
    "df = data.copy()"
   ]
  },
  {
   "cell_type": "code",
   "execution_count": 4,
   "id": "99ad0ff0-b2dc-4f30-a34d-56276da13b9c",
   "metadata": {},
   "outputs": [
    {
     "data": {
      "text/plain": [
       "Post          0\n",
       "Labels Set    0\n",
       "dtype: int64"
      ]
     },
     "execution_count": 4,
     "metadata": {},
     "output_type": "execute_result"
    }
   ],
   "source": [
    "df.isnull().sum()"
   ]
  },
  {
   "cell_type": "code",
   "execution_count": 5,
   "id": "d9e6abac-8a31-4766-bce8-f5bb918b2d98",
   "metadata": {},
   "outputs": [
    {
     "data": {
      "text/html": [
       "<div>\n",
       "<style scoped>\n",
       "    .dataframe tbody tr th:only-of-type {\n",
       "        vertical-align: middle;\n",
       "    }\n",
       "\n",
       "    .dataframe tbody tr th {\n",
       "        vertical-align: top;\n",
       "    }\n",
       "\n",
       "    .dataframe thead th {\n",
       "        text-align: right;\n",
       "    }\n",
       "</style>\n",
       "<table border=\"1\" class=\"dataframe\">\n",
       "  <thead>\n",
       "    <tr style=\"text-align: right;\">\n",
       "      <th></th>\n",
       "      <th>Post</th>\n",
       "      <th>Labels Set</th>\n",
       "    </tr>\n",
       "  </thead>\n",
       "  <tbody>\n",
       "    <tr>\n",
       "      <th>0</th>\n",
       "      <td>मेरे देश के हिन्दु बहुत निराले है। कुछ तो पक्क...</td>\n",
       "      <td>hate</td>\n",
       "    </tr>\n",
       "    <tr>\n",
       "      <th>1</th>\n",
       "      <td>सरकार हमेशा से किसानों की कमाई को बढ़ाने के लि...</td>\n",
       "      <td>normal</td>\n",
       "    </tr>\n",
       "    <tr>\n",
       "      <th>2</th>\n",
       "      <td>सुशांत ने जो बिजनेस डील 9 जून को की थी, वो डील...</td>\n",
       "      <td>normal</td>\n",
       "    </tr>\n",
       "    <tr>\n",
       "      <th>3</th>\n",
       "      <td>prabhav218 साले जेएनयू छाप कमिने लोग हिन्दुओं ...</td>\n",
       "      <td>hate</td>\n",
       "    </tr>\n",
       "    <tr>\n",
       "      <th>4</th>\n",
       "      <td>unlock4guidelines - अनलॉक-4 के लिए गाइडलाइन्स ...</td>\n",
       "      <td>normal</td>\n",
       "    </tr>\n",
       "  </tbody>\n",
       "</table>\n",
       "</div>"
      ],
      "text/plain": [
       "                                                Post Labels Set\n",
       "0  मेरे देश के हिन्दु बहुत निराले है। कुछ तो पक्क...       hate\n",
       "1  सरकार हमेशा से किसानों की कमाई को बढ़ाने के लि...     normal\n",
       "2  सुशांत ने जो बिजनेस डील 9 जून को की थी, वो डील...     normal\n",
       "3  prabhav218 साले जेएनयू छाप कमिने लोग हिन्दुओं ...       hate\n",
       "4  unlock4guidelines - अनलॉक-4 के लिए गाइडलाइन्स ...     normal"
      ]
     },
     "execution_count": 5,
     "metadata": {},
     "output_type": "execute_result"
    }
   ],
   "source": [
    "df.head()"
   ]
  },
  {
   "cell_type": "code",
   "execution_count": 6,
   "id": "cbd8855f-a852-4b0c-919d-2ab958dc9594",
   "metadata": {},
   "outputs": [],
   "source": [
    "# extract the text and labels\n",
    "X = list(data['Post'])\n",
    "y = list(data['Labels Set'])"
   ]
  },
  {
   "cell_type": "code",
   "execution_count": 7,
   "id": "15450bc4-cee9-4929-888a-1850bf8db990",
   "metadata": {},
   "outputs": [
    {
     "name": "stdout",
     "output_type": "stream",
     "text": [
      "Label mapping: {'hate': 0, 'normal': 1, 'fake': 2}\n"
     ]
    }
   ],
   "source": [
    "unique_labels = df['Labels Set'].unique()\n",
    "label_dict = {label: i for i, label in enumerate(unique_labels)}\n",
    "num_labels = len(unique_labels)\n",
    "print(\"Label mapping:\", label_dict)\n"
   ]
  },
  {
   "cell_type": "code",
   "execution_count": 8,
   "id": "e546a445-6a23-4541-8ebb-5b62d306a38e",
   "metadata": {},
   "outputs": [],
   "source": [
    "import re\n",
    "def clean_text(text):\n",
    "    if pd.isnull(text):  # Check for NaN values\n",
    "        return ''\n",
    "    \n",
    "    # Remove newlines\n",
    "    text = re.sub(r'\\n+', ' ', text)\n",
    "    \n",
    "    # Remove URLs (http, https, or www links)\n",
    "    text = re.sub(r'http\\S+|www\\S+|t\\.co\\S+', '', text)\n",
    "    \n",
    "    # Remove extra spaces\n",
    "    text = re.sub(r'\\s+', ' ', text).strip()\n",
    "    \n",
    "    return text\n",
    "\n",
    "# Apply the cleaning function to the 'cleaned_text' column\n",
    "df['preprocessed_text'] = df['Post'].apply(clean_text)"
   ]
  },
  {
   "cell_type": "code",
   "execution_count": 9,
   "id": "69ae57df-2617-471d-a49a-71b2c57752e8",
   "metadata": {},
   "outputs": [
    {
     "data": {
      "text/plain": [
       "0       मेरे देश के हिन्दु बहुत निराले है। कुछ तो पक्क...\n",
       "1       सरकार हमेशा से किसानों की कमाई को बढ़ाने के लि...\n",
       "2       सुशांत ने जो बिजनेस डील 9 जून को की थी, वो डील...\n",
       "3       prabhav218 साले जेएनयू छाप कमिने लोग हिन्दुओं ...\n",
       "4       unlock4guidelines - अनलॉक-4 के लिए गाइडलाइन्स ...\n",
       "                              ...                        \n",
       "8187    सोनू सूद से प्रेरणा लेकर आदिवासियों ने वो किया...\n",
       "8188    RT ShilpiSinghINC: उमर खालिद पर तो UAPA लगा दि...\n",
       "8189                              RahulGandhi पप्पू कमीना\n",
       "8190    मदर टेरेसा ने अपना पूरा जीवन पीड़ितों की सेवा ...\n",
       "8191    आईपीएल में कोरोना का डर: रैना के हटने के बाद ह...\n",
       "Name: preprocessed_text, Length: 8192, dtype: object"
      ]
     },
     "execution_count": 9,
     "metadata": {},
     "output_type": "execute_result"
    }
   ],
   "source": [
    "df['preprocessed_text']"
   ]
  },
  {
   "cell_type": "code",
   "execution_count": 10,
   "id": "79c97573-f2f6-40d6-ac15-1bf579e08be6",
   "metadata": {},
   "outputs": [],
   "source": [
    "import seaborn as sns\n",
    "import matplotlib.pyplot as plt\n",
    "%matplotlib inline\n",
    "import numpy as np\n",
    "import seaborn as sb\n",
    "import warnings\n",
    "from nltk.corpus import stopwords"
   ]
  },
  {
   "cell_type": "code",
   "execution_count": 11,
   "id": "074b2521-6681-41b3-b807-1fffd5d7f7e3",
   "metadata": {},
   "outputs": [],
   "source": [
    "from sklearn.model_selection import train_test_split\n",
    "from sklearn.base import BaseEstimator, TransformerMixin\n",
    "from sklearn.linear_model import LogisticRegression\n",
    "from sklearn.naive_bayes import MultinomialNB\n",
    "from sklearn.model_selection import cross_validate, StratifiedKFold\n",
    "from sklearn.metrics import accuracy_score, classification_report, confusion_matrix\n",
    "from sklearn.model_selection import GridSearchCV\n",
    "from sklearn.feature_extraction.text import TfidfTransformer\n",
    "from sklearn.preprocessing import Binarizer\n",
    "\n",
    "\n",
    "from collections import Counter\n",
    "from os import listdir, makedirs\n",
    "from os.path import isfile, join, splitext, split"
   ]
  },
  {
   "cell_type": "code",
   "execution_count": 12,
   "id": "cd0febe2-7a14-4e1b-a1db-b84e59d21121",
   "metadata": {},
   "outputs": [],
   "source": [
    "from wordcloud import STOPWORDS, WordCloud\n",
    "\n",
    "from sklearn.feature_extraction.text import CountVectorizer\n",
    "from sklearn.pipeline import Pipeline, FeatureUnion\n",
    "from sklearn.feature_extraction.text import TfidfVectorizer\n",
    "from sklearn.preprocessing import StandardScaler\n",
    "from sklearn.decomposition import TruncatedSVD\n",
    "from sklearn.metrics import accuracy_score, classification_report, confusion_matrix\n",
    "from sklearn.model_selection import cross_validate, StratifiedKFold\n",
    "from sklearn.naive_bayes import GaussianNB\n",
    "\n",
    "from sklearn import tree\n",
    "from sklearn.ensemble import RandomForestClassifier\n",
    "from sklearn import model_selection, naive_bayes, svm\n",
    "from sklearn.feature_extraction.text import TfidfVectorizer\n",
    "from sklearn.preprocessing import LabelEncoder\n",
    "from xgboost import XGBClassifier \n",
    "\n",
    "warnings.filterwarnings('ignore')\n",
    "np.random.seed(0)"
   ]
  },
  {
   "cell_type": "code",
   "execution_count": 60,
   "id": "0d452d4f-cf57-4295-b4e7-37fcdd6ba2f4",
   "metadata": {},
   "outputs": [
    {
     "data": {
      "image/png": "[encoded data removed]",
      "text/plain": [
       "<Figure size 700x800 with 1 Axes>"
      ]
     },
     "metadata": {},
     "output_type": "display_data"
    }
   ],
   "source": [
    "import matplotlib.font_manager as fm\n",
    "\n",
    "# Use Mangal or Nirmala UI, which support Hindi text\n",
    "font_path = fm.findSystemFonts(fontpaths=None, fontext='ttf')\n",
    "\n",
    "# Select a Hindi-compatible font\n",
    "hindi_font = None\n",
    "for font in font_path:\n",
    "    if 'Mangal' in font or 'Nirmala' in font:\n",
    "        hindi_font = font\n",
    "        break\n",
    "\n",
    "# If a compatible font is found, use it\n",
    "if hindi_font:\n",
    "    wordcloud = WordCloud(\n",
    "        width=1000, \n",
    "        height=500, \n",
    "        background_color='white',\n",
    "        font_path=hindi_font,\n",
    "        stopwords=hindi_stopwords\n",
    "    ).generate(text)\n",
    "\n",
    "    plt.figure(figsize=(7, 8))\n",
    "    plt.imshow(wordcloud, interpolation='bilinear')\n",
    "    plt.axis('off')\n",
    "    plt.title(\"Word Cloud of Hindi Hate Words\", fontsize=18)\n",
    "    plt.show()\n",
    "else:\n",
    "    print(\"No Hindi-compatible font found.\")\n"
   ]
  },
  {
   "cell_type": "code",
   "execution_count": 61,
   "id": "cfd9d860-bea8-4359-bb49-b8ec7f8cb82e",
   "metadata": {},
   "outputs": [
    {
     "data": {
      "text/plain": [
       "'prabhav218 साले जेएनयू छाप कमिने लोग हिन्दुओं को यह कहते है की संविधान सबको बराबर अधिकार देता है। सच्चाई यह है कि यह बराबर अधिकार नहीं देता है।'"
      ]
     },
     "execution_count": 61,
     "metadata": {},
     "output_type": "execute_result"
    }
   ],
   "source": [
    "example=df['Post'][3]\n",
    "example"
   ]
  },
  {
   "cell_type": "code",
   "execution_count": 13,
   "id": "ce3d4711-03a8-4dd4-a848-73eafae0ed53",
   "metadata": {},
   "outputs": [],
   "source": [
    "from sklearn.model_selection import train_test_split\n",
    "X_train,X_test,y_train,y_test = train_test_split(X,y,test_size=0.2,random_state = 32)"
   ]
  },
  {
   "cell_type": "code",
   "execution_count": 14,
   "id": "8dc4953b-30c9-4622-8bdb-6ccfd8f28c62",
   "metadata": {},
   "outputs": [],
   "source": [
    "from sklearn.feature_extraction.text import TfidfVectorizer\n",
    "from sklearn.linear_model import LogisticRegression\n",
    "from sklearn.ensemble import RandomForestClassifier\n",
    "from sklearn.tree import DecisionTreeClassifier\n",
    "from sklearn.svm import SVC\n",
    "from sklearn.naive_bayes import MultinomialNB\n",
    "from sklearn.metrics import accuracy_score, f1_score, confusion_matrix\n",
    "from time import time\n",
    "tfidf_vectorizer = TfidfVectorizer(max_features=5000)  \n",
    "X_train_tfidf = tfidf_vectorizer.fit_transform(X_train)\n",
    "X_test_tfidf = tfidf_vectorizer.transform(X_test)\n",
    "\n",
    "models = {\n",
    "    'Logistic Regression': LogisticRegression(),\n",
    "    'Random Forest': RandomForestClassifier(),\n",
    "    'Decision Tree': DecisionTreeClassifier(),\n",
    "    'Support Vector Machine': SVC(),\n",
    "    'Naive Bayes': MultinomialNB()\n",
    "}\n",
    "\n",
    "results = {}"
   ]
  },
  {
   "cell_type": "code",
   "execution_count": 15,
   "id": "e79051b5-4ebf-4caf-9644-653fcca665ec",
   "metadata": {},
   "outputs": [
    {
     "data": {
      "image/png": "[encoded data removed]",
      "text/plain": [
       "<Figure size 400x300 with 2 Axes>"
      ]
     },
     "metadata": {},
     "output_type": "display_data"
    },
    {
     "data": {
      "image/png": "[encoded data removed]",
      "text/plain": [
       "<Figure size 400x300 with 2 Axes>"
      ]
     },
     "metadata": {},
     "output_type": "display_data"
    },
    {
     "data": {
      "image/png": "[encoded data removed]",
      "text/plain": [
       "<Figure size 400x300 with 2 Axes>"
      ]
     },
     "metadata": {},
     "output_type": "display_data"
    },
    {
     "data": {
      "image/png": "[encoded data removed]",
      "text/plain": [
       "<Figure size 400x300 with 2 Axes>"
      ]
     },
     "metadata": {},
     "output_type": "display_data"
    },
    {
     "data": {
      "image/png": "[encoded data removed]",
      "text/plain": [
       "<Figure size 400x300 with 2 Axes>"
      ]
     },
     "metadata": {},
     "output_type": "display_data"
    },
    {
     "name": "stdout",
     "output_type": "stream",
     "text": [
      "Results for Logistic Regression:\n",
      "Accuracy: 0.7913361805979255\n",
      "F1 Score: 0.7892031670172515\n",
      "Precision: 0.7893860091476638\n",
      "Recall: 0.7913361805979255\n",
      "Time Taken: 0.4088578224182129\n",
      "\n",
      "\n",
      "Results for Random Forest:\n",
      "Accuracy: 0.7809640024405126\n",
      "F1 Score: 0.7858623926098913\n",
      "Precision: 0.798148153929337\n",
      "Recall: 0.7809640024405126\n",
      "Time Taken: 11.635187149047852\n",
      "\n",
      "\n",
      "Results for Decision Tree:\n",
      "Accuracy: 0.7150701647345943\n",
      "F1 Score: 0.7174936341989218\n",
      "Precision: 0.7210108917684542\n",
      "Recall: 0.7150701647345943\n",
      "Time Taken: 0.9972922801971436\n",
      "\n",
      "\n",
      "Results for Support Vector Machine:\n",
      "Accuracy: 0.801098230628432\n",
      "F1 Score: 0.8025584336894943\n",
      "Precision: 0.8081245547866582\n",
      "Recall: 0.801098230628432\n",
      "Time Taken: 5.375283479690552\n",
      "\n",
      "\n",
      "Results for Naive Bayes:\n",
      "Accuracy: 0.6918852959121415\n",
      "F1 Score: 0.6249654159038965\n",
      "Precision: 0.74350331114932\n",
      "Recall: 0.6918852959121415\n",
      "Time Taken: 0.03334331512451172\n",
      "\n",
      "\n"
     ]
    }
   ],
   "source": [
    "import matplotlib.pyplot as plt\n",
    "import seaborn as sns\n",
    "from sklearn.metrics import precision_score, recall_score, accuracy_score, f1_score, confusion_matrix\n",
    "from time import time\n",
    "\n",
    "# Dictionary to store results\n",
    "results = {}\n",
    "\n",
    "# Iterate over each model\n",
    "for model_name, model in models.items():\n",
    "    start_time = time()\n",
    "    \n",
    "    # Train the model\n",
    "    model.fit(X_train_tfidf, y_train)\n",
    "    \n",
    "    # Predict on the test set\n",
    "    y_pred = model.predict(X_test_tfidf)\n",
    "    \n",
    "    # Calculate metrics\n",
    "    accuracy = accuracy_score(y_test, y_pred)\n",
    "    f1 = f1_score(y_test, y_pred, average='weighted')\n",
    "    precision = precision_score(y_test, y_pred, average='weighted')\n",
    "    recall = recall_score(y_test, y_pred, average='weighted')\n",
    "    conf_matrix = confusion_matrix(y_test, y_pred)\n",
    "    time_taken = time() - start_time\n",
    "    \n",
    "    # Save results\n",
    "    results[model_name] = {\n",
    "        'Accuracy': accuracy,\n",
    "        'F1 Score': f1,\n",
    "        'Precision': precision,\n",
    "        'Recall': recall,\n",
    "        'Confusion Matrix': conf_matrix,\n",
    "        'Time Taken': time_taken\n",
    "    }\n",
    "    \n",
    "    # Plot confusion matrix as heatmap\n",
    "    plt.figure(figsize=(4,3))\n",
    "    sns.heatmap(conf_matrix, annot=True, fmt='d', cmap='Blues', xticklabels=model.classes_, yticklabels=model.classes_)\n",
    "    plt.title(f'Confusion Matrix for {model_name}')\n",
    "    plt.xlabel('Predicted')\n",
    "    plt.ylabel('Actual')\n",
    "    plt.show()\n",
    "\n",
    "# Print results\n",
    "for model_name, metrics in results.items():\n",
    "    print(f\"Results for {model_name}:\")\n",
    "    for metric_name, value in metrics.items():\n",
    "        if metric_name != 'Confusion Matrix':\n",
    "            print(f\"{metric_name}: {value}\")\n",
    "    print(\"\\n\")\n"
   ]
  },
  {
   "cell_type": "code",
   "execution_count": 67,
   "id": "e07a8274-bbff-453f-8537-85f6501c5dce",
   "metadata": {},
   "outputs": [
    {
     "name": "stdout",
     "output_type": "stream",
     "text": [
      "\n",
      "Model: Logistic Regression\n",
      "Accuracy: 0.7913\n",
      "F1 Score: 0.7892\n",
      "Confusion Matrix:\n",
      "[[161  68  55]\n",
      " [ 50 256  68]\n",
      " [ 25  76 880]]\n",
      "Time Taken: 0.5671 seconds\n",
      "\n",
      "Model: Random Forest\n",
      "Accuracy: 0.7810\n",
      "F1 Score: 0.7859\n",
      "Confusion Matrix:\n",
      "[[155 108  21]\n",
      " [ 58 277  39]\n",
      " [ 35  98 848]]\n",
      "Time Taken: 9.9836 seconds\n",
      "\n",
      "Model: Decision Tree\n",
      "Accuracy: 0.7151\n",
      "F1 Score: 0.7175\n",
      "Confusion Matrix:\n",
      "[[130 103  51]\n",
      " [ 75 221  78]\n",
      " [ 67  93 821]]\n",
      "Time Taken: 0.9680 seconds\n",
      "\n",
      "Model: Support Vector Machine\n",
      "Accuracy: 0.8011\n",
      "F1 Score: 0.8026\n",
      "Confusion Matrix:\n",
      "[[166  83  35]\n",
      " [ 47 280  47]\n",
      " [ 30  84 867]]\n",
      "Time Taken: 5.3534 seconds\n",
      "\n",
      "Model: Naive Bayes\n",
      "Accuracy: 0.6919\n",
      "F1 Score: 0.6250\n",
      "Confusion Matrix:\n",
      "[[ 20  28 236]\n",
      " [  0 157 217]\n",
      " [  1  23 957]]\n",
      "Time Taken: 0.0208 seconds\n"
     ]
    }
   ],
   "source": [
    "for model_name, metrics in results.items():\n",
    "    print(f\"\\nModel: {model_name}\")\n",
    "    print(f\"Accuracy: {metrics['Accuracy']:.4f}\")\n",
    "    print(f\"F1 Score: {metrics['F1 Score']:.4f}\")\n",
    "    print(f\"Confusion Matrix:\\n{metrics['Confusion Matrix']}\")\n",
    "    print(f\"Time Taken: {metrics['Time Taken']:.4f} seconds\")\n"
   ]
  },
  {
   "cell_type": "code",
   "execution_count": 15,
   "id": "38640968-3567-4e90-8fac-7e3ef740e3f8",
   "metadata": {},
   "outputs": [],
   "source": [
    "from tensorflow.keras.preprocessing.text import Tokenizer\n",
    "from tensorflow.keras.preprocessing.sequence import pad_sequences\n",
    "\n",
    "# Tokenization\n",
    "max_words = 10000\n",
    "max_len = 100\n",
    "\n",
    "tokenizer = Tokenizer(num_words=max_words, oov_token='<OOV>')\n",
    "tokenizer.fit_on_texts(X_train)\n",
    "\n",
    "# Convert text to sequences\n",
    "X_train_seq = tokenizer.texts_to_sequences(X_train)\n",
    "X_test_seq = tokenizer.texts_to_sequences(X_test)\n",
    "\n",
    "# Pad sequences\n",
    "X_train_padded = pad_sequences(X_train_seq, maxlen=max_len, padding='post', truncating='post')\n",
    "X_test_padded = pad_sequences(X_test_seq, maxlen=max_len, padding='post', truncating='post')\n"
   ]
  },
  {
   "cell_type": "code",
   "execution_count": 16,
   "id": "f2893037-b305-4e13-a58f-7c630248513b",
   "metadata": {},
   "outputs": [
    {
     "name": "stdout",
     "output_type": "stream",
     "text": [
      "X_train shape: (6553, 150)\n",
      "X_test shape: (1639, 150)\n"
     ]
    }
   ],
   "source": [
    "# Tokenization\n",
    "max_words = 10000  # Maximum vocabulary size\n",
    "max_len = 150      # Maximum sequence length\n",
    "\n",
    "# Initialize the tokenizer\n",
    "tokenizer = Tokenizer(num_words=max_words, oov_token='<OOV>')\n",
    "\n",
    "# Fit the tokenizer on training text\n",
    "tokenizer.fit_on_texts(X_train)\n",
    "\n",
    "# Convert text to sequences\n",
    "X_train_seq = tokenizer.texts_to_sequences(X_train)\n",
    "X_test_seq = tokenizer.texts_to_sequences(X_test)\n",
    "\n",
    "# Pad sequences to ensure uniform input size\n",
    "X_train_padded = pad_sequences(X_train_seq, maxlen=max_len, padding='post', truncating='post')\n",
    "X_test_padded = pad_sequences(X_test_seq, maxlen=max_len, padding='post', truncating='post')\n",
    "\n",
    "# Ensure all data is in NumPy format\n",
    "X_train_padded = np.array(X_train_padded)\n",
    "X_test_padded = np.array(X_test_padded)\n",
    "y_train = np.array(y_train)\n",
    "y_test = np.array(y_test)\n",
    "\n",
    "# Print the shapes for verification\n",
    "print(\"X_train shape:\", X_train_padded.shape)\n",
    "print(\"X_test shape:\", X_test_padded.shape)\n"
   ]
  },
  {
   "cell_type": "code",
   "execution_count": 17,
   "id": "1f6ec6d6-2bfa-485e-b70f-bb087fe451b5",
   "metadata": {},
   "outputs": [],
   "source": [
    "from tensorflow.keras.models import Sequential\n",
    "from tensorflow.keras.layers import Embedding, Conv1D, GlobalMaxPooling1D, Dense, Dropout\n",
    "\n",
    "# CNN Model\n",
    "cnn_model = Sequential()\n",
    "\n",
    "# Embedding layer\n",
    "cnn_model.add(Embedding(input_dim=max_words, output_dim=128, input_length=max_len))\n",
    "\n",
    "# CNN layers\n",
    "cnn_model.add(Conv1D(filters=128, kernel_size=5, activation='relu'))\n",
    "cnn_model.add(GlobalMaxPooling1D())\n",
    "\n",
    "# Fully connected layers\n",
    "cnn_model.add(Dense(64, activation='relu'))\n",
    "cnn_model.add(Dropout(0.5))\n",
    "cnn_model.add(Dense(1, activation='sigmoid'))  # Binary classification\n",
    "\n",
    "# Compile the model\n",
    "cnn_model.compile(optimizer='adam', loss='binary_crossentropy', metrics=['accuracy'])\n"
   ]
  },
  {
   "cell_type": "code",
   "execution_count": 22,
   "id": "eaa183f6-bd7a-4f8e-9fff-10adc20cc13b",
   "metadata": {},
   "outputs": [],
   "source": [
    "from sklearn.preprocessing import LabelEncoder\n",
    "import numpy as np\n",
    "\n",
    "# Initialize LabelEncoder\n",
    "label_encoder = LabelEncoder()\n",
    "\n",
    "# Fit and transform labels to numeric values\n",
    "y_train = label_encoder.fit_transform(y_train)\n",
    "y_test = label_encoder.transform(y_test)  # Use transform (not fit_transform) to keep consistency\n",
    "\n",
    "# Convert to float32 (or int32) for model compatibility\n",
    "y_train = np.array(y_train).astype('float32')\n",
    "y_test = np.array(y_test).astype('float32')\n"
   ]
  },
  {
   "cell_type": "code",
   "execution_count": 23,
   "id": "555c22d4-9ad0-4dff-97a0-41ecb54b25f3",
   "metadata": {},
   "outputs": [
    {
     "name": "stdout",
     "output_type": "stream",
     "text": [
      "Epoch 1/10\n",
      "205/205 [==============================] - 10s 44ms/step - loss: -2723.1970 - accuracy: 0.2338 - val_loss: -16461.6855 - val_accuracy: 0.2282\n",
      "Epoch 2/10\n",
      "205/205 [==============================] - 10s 47ms/step - loss: -137001.9219 - accuracy: 0.2338 - val_loss: -383933.9688 - val_accuracy: 0.2282\n",
      "Epoch 3/10\n",
      "205/205 [==============================] - 9s 45ms/step - loss: -1056596.1250 - accuracy: 0.2338 - val_loss: -2085352.8750 - val_accuracy: 0.2282\n",
      "Epoch 4/10\n",
      "205/205 [==============================] - 9s 46ms/step - loss: -3955472.2500 - accuracy: 0.2338 - val_loss: -6579273.5000 - val_accuracy: 0.2282\n",
      "Epoch 5/10\n",
      "205/205 [==============================] - 9s 46ms/step - loss: -10456940.0000 - accuracy: 0.2338 - val_loss: -15601230.0000 - val_accuracy: 0.2282\n",
      "Epoch 6/10\n",
      "205/205 [==============================] - 9s 42ms/step - loss: -22486842.0000 - accuracy: 0.2338 - val_loss: -31207674.0000 - val_accuracy: 0.2282\n",
      "Epoch 7/10\n",
      "205/205 [==============================] - 9s 44ms/step - loss: -41986004.0000 - accuracy: 0.2338 - val_loss: -55058720.0000 - val_accuracy: 0.2282\n",
      "Epoch 8/10\n",
      "205/205 [==============================] - 10s 47ms/step - loss: -70659480.0000 - accuracy: 0.2338 - val_loss: -89586016.0000 - val_accuracy: 0.2282\n",
      "Epoch 9/10\n",
      "205/205 [==============================] - 7s 35ms/step - loss: -110495768.0000 - accuracy: 0.2338 - val_loss: -136347104.0000 - val_accuracy: 0.2282\n",
      "Epoch 10/10\n",
      "205/205 [==============================] - 7s 34ms/step - loss: -164474144.0000 - accuracy: 0.2338 - val_loss: -197759232.0000 - val_accuracy: 0.2282\n"
     ]
    }
   ],
   "source": [
    "# Train the model using the padded sequences\n",
    "cnn_history = cnn_model.fit(\n",
    "    X_train_padded, y_train,\n",
    "    epochs=10, batch_size=32,\n",
    "    validation_data=(X_test_padded, y_test)\n",
    ")\n"
   ]
  },
  {
   "cell_type": "code",
   "execution_count": 24,
   "id": "0331deaf-bc82-400f-9d76-d40817574d6f",
   "metadata": {},
   "outputs": [
    {
     "name": "stdout",
     "output_type": "stream",
     "text": [
      "52/52 [==============================] - 0s 6ms/step - loss: -197759232.0000 - accuracy: 0.2282\n",
      "CNN Accuracy: 22.82%\n"
     ]
    }
   ],
   "source": [
    "# Evaluate the CNN model\n",
    "cnn_loss, cnn_accuracy = cnn_model.evaluate(X_test_padded, y_test)\n",
    "print(f\"CNN Accuracy: {cnn_accuracy * 100:.2f}%\")\n"
   ]
  },
  {
   "cell_type": "code",
   "execution_count": 25,
   "id": "e2df75c0-7efc-4cdd-8c27-61788185dd84",
   "metadata": {},
   "outputs": [
    {
     "name": "stdout",
     "output_type": "stream",
     "text": [
      "Epoch 1/10\n",
      "205/205 [==============================] - 34s 159ms/step - loss: -46.5957 - accuracy: 0.2347 - val_loss: -126.2248 - val_accuracy: 0.2282\n",
      "Epoch 2/10\n",
      "205/205 [==============================] - 24s 115ms/step - loss: -260.8831 - accuracy: 0.2338 - val_loss: -451.1353 - val_accuracy: 0.2282\n",
      "Epoch 3/10\n",
      "205/205 [==============================] - 21s 103ms/step - loss: -673.0632 - accuracy: 0.2338 - val_loss: -975.1423 - val_accuracy: 0.2282\n",
      "Epoch 4/10\n",
      "205/205 [==============================] - 21s 104ms/step - loss: -1280.9799 - accuracy: 0.2338 - val_loss: -1693.6119 - val_accuracy: 0.2282\n",
      "Epoch 5/10\n",
      "205/205 [==============================] - 21s 103ms/step - loss: -1446.8756 - accuracy: 0.2338 - val_loss: -1710.2933 - val_accuracy: 0.2282\n",
      "Epoch 6/10\n",
      "205/205 [==============================] - 21s 104ms/step - loss: -294.8405 - accuracy: 0.2338 - val_loss: -272.1329 - val_accuracy: 0.2282\n",
      "Epoch 7/10\n",
      "205/205 [==============================] - 21s 104ms/step - loss: -409.8330 - accuracy: 0.2338 - val_loss: -574.3213 - val_accuracy: 0.2282\n",
      "Epoch 8/10\n",
      "205/205 [==============================] - 21s 104ms/step - loss: -783.7563 - accuracy: 0.2335 - val_loss: -982.7977 - val_accuracy: 0.2282\n",
      "Epoch 9/10\n",
      "205/205 [==============================] - 21s 103ms/step - loss: -1139.6646 - accuracy: 0.2361 - val_loss: -1252.0377 - val_accuracy: 0.2306\n",
      "Epoch 10/10\n",
      "205/205 [==============================] - 22s 107ms/step - loss: -1850.3083 - accuracy: 0.2709 - val_loss: -2079.7000 - val_accuracy: 0.2685\n"
     ]
    }
   ],
   "source": [
    "from tensorflow.keras.models import Sequential\n",
    "from tensorflow.keras.layers import Embedding, LSTM, Dense, Dropout\n",
    "\n",
    "# LSTM Model\n",
    "lstm_model = Sequential()\n",
    "\n",
    "# Embedding layer\n",
    "lstm_model.add(Embedding(input_dim=max_words, output_dim=128, input_length=max_len))\n",
    "\n",
    "# LSTM layer\n",
    "lstm_model.add(LSTM(128, return_sequences=False))\n",
    "\n",
    "# Fully connected layers\n",
    "lstm_model.add(Dense(64, activation='relu'))\n",
    "lstm_model.add(Dropout(0.5))\n",
    "lstm_model.add(Dense(1, activation='sigmoid'))  # Binary classification\n",
    "\n",
    "# Compile the model\n",
    "lstm_model.compile(optimizer='adam', loss='binary_crossentropy', metrics=['accuracy'])\n",
    "\n",
    "# Train the LSTM model\n",
    "lstm_history = lstm_model.fit(\n",
    "    X_train_padded, y_train,\n",
    "    epochs=10, batch_size=32,\n",
    "    validation_data=(X_test_padded, y_test)\n",
    ")\n"
   ]
  },
  {
   "cell_type": "code",
   "execution_count": 82,
   "id": "8c22577e-cd13-4307-9026-0facc581425b",
   "metadata": {},
   "outputs": [
    {
     "name": "stdout",
     "output_type": "stream",
     "text": [
      "Epoch 1/10\n",
      "205/205 [==============================] - 36s 160ms/step - loss: -105.9965 - accuracy: 0.2335 - val_loss: -292.4617 - val_accuracy: 0.2282\n",
      "Epoch 2/10\n",
      "205/205 [==============================] - 34s 167ms/step - loss: -607.4528 - accuracy: 0.2338 - val_loss: -1040.0780 - val_accuracy: 0.2282\n",
      "Epoch 3/10\n",
      "205/205 [==============================] - 35s 169ms/step - loss: -1564.2937 - accuracy: 0.2338 - val_loss: -2245.0486 - val_accuracy: 0.2282\n",
      "Epoch 4/10\n",
      "205/205 [==============================] - 34s 167ms/step - loss: -2885.6421 - accuracy: 0.2338 - val_loss: -3616.8362 - val_accuracy: 0.2282\n",
      "Epoch 5/10\n",
      "205/205 [==============================] - 34s 164ms/step - loss: -4328.2046 - accuracy: 0.2338 - val_loss: -5492.0264 - val_accuracy: 0.2282\n",
      "Epoch 6/10\n",
      "205/205 [==============================] - 34s 166ms/step - loss: -6861.1934 - accuracy: 0.2341 - val_loss: -7957.4863 - val_accuracy: 0.2282\n",
      "Epoch 7/10\n",
      "205/205 [==============================] - 34s 167ms/step - loss: -10017.5947 - accuracy: 0.2344 - val_loss: -11560.7080 - val_accuracy: 0.2300\n",
      "Epoch 8/10\n",
      "205/205 [==============================] - 35s 169ms/step - loss: -14463.9775 - accuracy: 0.2448 - val_loss: -16143.0947 - val_accuracy: 0.2575\n",
      "Epoch 9/10\n",
      "205/205 [==============================] - 34s 167ms/step - loss: -20103.0469 - accuracy: 0.2893 - val_loss: -20832.7402 - val_accuracy: 0.2617\n",
      "Epoch 10/10\n",
      "205/205 [==============================] - 34s 167ms/step - loss: -26025.1582 - accuracy: 0.2986 - val_loss: -26196.1777 - val_accuracy: 0.2666\n"
     ]
    }
   ],
   "source": [
    "from tensorflow.keras.layers import Bidirectional\n",
    "\n",
    "# Bi-LSTM Model\n",
    "bi_lstm_model = Sequential()\n",
    "\n",
    "# Embedding layer\n",
    "bi_lstm_model.add(Embedding(input_dim=max_words, output_dim=128, input_length=max_len))\n",
    "\n",
    "# Bidirectional LSTM layer\n",
    "bi_lstm_model.add(Bidirectional(LSTM(128, return_sequences=False)))\n",
    "\n",
    "# Fully connected layers\n",
    "bi_lstm_model.add(Dense(64, activation='relu'))\n",
    "bi_lstm_model.add(Dropout(0.5))\n",
    "bi_lstm_model.add(Dense(1, activation='sigmoid'))  # Binary classification\n",
    "\n",
    "# Compile the model\n",
    "bi_lstm_model.compile(optimizer='adam', loss='binary_crossentropy', metrics=['accuracy'])\n",
    "\n",
    "# Train the Bi-LSTM model\n",
    "bi_lstm_history = bi_lstm_model.fit(\n",
    "    X_train_padded, y_train,\n",
    "    epochs=10, batch_size=32,\n",
    "    validation_data=(X_test_padded, y_test)\n",
    ")\n"
   ]
  },
  {
   "cell_type": "code",
   "execution_count": 19,
   "id": "53f7c0ed-b75b-4e79-ba58-20d1467c5bd0",
   "metadata": {},
   "outputs": [
    {
     "data": {
      "text/html": [
       "<div>\n",
       "<style scoped>\n",
       "    .dataframe tbody tr th:only-of-type {\n",
       "        vertical-align: middle;\n",
       "    }\n",
       "\n",
       "    .dataframe tbody tr th {\n",
       "        vertical-align: top;\n",
       "    }\n",
       "\n",
       "    .dataframe thead th {\n",
       "        text-align: right;\n",
       "    }\n",
       "</style>\n",
       "<table border=\"1\" class=\"dataframe\">\n",
       "  <thead>\n",
       "    <tr style=\"text-align: right;\">\n",
       "      <th></th>\n",
       "      <th>Post</th>\n",
       "      <th>Labels Set</th>\n",
       "      <th>preprocessed_text</th>\n",
       "    </tr>\n",
       "  </thead>\n",
       "  <tbody>\n",
       "    <tr>\n",
       "      <th>0</th>\n",
       "      <td>मेरे देश के हिन्दु बहुत निराले है। कुछ तो पक्क...</td>\n",
       "      <td>hate</td>\n",
       "      <td>मेरे देश के हिन्दु बहुत निराले है। कुछ तो पक्क...</td>\n",
       "    </tr>\n",
       "    <tr>\n",
       "      <th>1</th>\n",
       "      <td>सरकार हमेशा से किसानों की कमाई को बढ़ाने के लि...</td>\n",
       "      <td>normal</td>\n",
       "      <td>सरकार हमेशा से किसानों की कमाई को बढ़ाने के लि...</td>\n",
       "    </tr>\n",
       "    <tr>\n",
       "      <th>2</th>\n",
       "      <td>सुशांत ने जो बिजनेस डील 9 जून को की थी, वो डील...</td>\n",
       "      <td>normal</td>\n",
       "      <td>सुशांत ने जो बिजनेस डील 9 जून को की थी, वो डील...</td>\n",
       "    </tr>\n",
       "    <tr>\n",
       "      <th>3</th>\n",
       "      <td>prabhav218 साले जेएनयू छाप कमिने लोग हिन्दुओं ...</td>\n",
       "      <td>hate</td>\n",
       "      <td>prabhav218 साले जेएनयू छाप कमिने लोग हिन्दुओं ...</td>\n",
       "    </tr>\n",
       "    <tr>\n",
       "      <th>4</th>\n",
       "      <td>unlock4guidelines - अनलॉक-4 के लिए गाइडलाइन्स ...</td>\n",
       "      <td>normal</td>\n",
       "      <td>unlock4guidelines - अनलॉक-4 के लिए गाइडलाइन्स ...</td>\n",
       "    </tr>\n",
       "    <tr>\n",
       "      <th>...</th>\n",
       "      <td>...</td>\n",
       "      <td>...</td>\n",
       "      <td>...</td>\n",
       "    </tr>\n",
       "    <tr>\n",
       "      <th>8187</th>\n",
       "      <td>सोनू सूद से प्रेरणा लेकर आदिवासियों ने वो किया...</td>\n",
       "      <td>normal</td>\n",
       "      <td>सोनू सूद से प्रेरणा लेकर आदिवासियों ने वो किया...</td>\n",
       "    </tr>\n",
       "    <tr>\n",
       "      <th>8188</th>\n",
       "      <td>RT ShilpiSinghINC: उमर खालिद पर तो UAPA लगा दि...</td>\n",
       "      <td>hate</td>\n",
       "      <td>RT ShilpiSinghINC: उमर खालिद पर तो UAPA लगा दि...</td>\n",
       "    </tr>\n",
       "    <tr>\n",
       "      <th>8189</th>\n",
       "      <td>RahulGandhi पप्पू कमीना</td>\n",
       "      <td>hate</td>\n",
       "      <td>RahulGandhi पप्पू कमीना</td>\n",
       "    </tr>\n",
       "    <tr>\n",
       "      <th>8190</th>\n",
       "      <td>मदर टेरेसा ने अपना पूरा जीवन पीड़ितों की सेवा ...</td>\n",
       "      <td>normal</td>\n",
       "      <td>मदर टेरेसा ने अपना पूरा जीवन पीड़ितों की सेवा ...</td>\n",
       "    </tr>\n",
       "    <tr>\n",
       "      <th>8191</th>\n",
       "      <td>आईपीएल में कोरोना का डर: रैना के हटने के बाद ह...</td>\n",
       "      <td>normal</td>\n",
       "      <td>आईपीएल में कोरोना का डर: रैना के हटने के बाद ह...</td>\n",
       "    </tr>\n",
       "  </tbody>\n",
       "</table>\n",
       "<p>8192 rows × 3 columns</p>\n",
       "</div>"
      ],
      "text/plain": [
       "                                                   Post Labels Set  \\\n",
       "0     मेरे देश के हिन्दु बहुत निराले है। कुछ तो पक्क...       hate   \n",
       "1     सरकार हमेशा से किसानों की कमाई को बढ़ाने के लि...     normal   \n",
       "2     सुशांत ने जो बिजनेस डील 9 जून को की थी, वो डील...     normal   \n",
       "3     prabhav218 साले जेएनयू छाप कमिने लोग हिन्दुओं ...       hate   \n",
       "4     unlock4guidelines - अनलॉक-4 के लिए गाइडलाइन्स ...     normal   \n",
       "...                                                 ...        ...   \n",
       "8187  सोनू सूद से प्रेरणा लेकर आदिवासियों ने वो किया...     normal   \n",
       "8188  RT ShilpiSinghINC: उमर खालिद पर तो UAPA लगा दि...       hate   \n",
       "8189                            RahulGandhi पप्पू कमीना       hate   \n",
       "8190  मदर टेरेसा ने अपना पूरा जीवन पीड़ितों की सेवा ...     normal   \n",
       "8191  आईपीएल में कोरोना का डर: रैना के हटने के बाद ह...     normal   \n",
       "\n",
       "                                      preprocessed_text  \n",
       "0     मेरे देश के हिन्दु बहुत निराले है। कुछ तो पक्क...  \n",
       "1     सरकार हमेशा से किसानों की कमाई को बढ़ाने के लि...  \n",
       "2     सुशांत ने जो बिजनेस डील 9 जून को की थी, वो डील...  \n",
       "3     prabhav218 साले जेएनयू छाप कमिने लोग हिन्दुओं ...  \n",
       "4     unlock4guidelines - अनलॉक-4 के लिए गाइडलाइन्स ...  \n",
       "...                                                 ...  \n",
       "8187  सोनू सूद से प्रेरणा लेकर आदिवासियों ने वो किया...  \n",
       "8188  RT ShilpiSinghINC: उमर खालिद पर तो UAPA लगा दि...  \n",
       "8189                            RahulGandhi पप्पू कमीना  \n",
       "8190  मदर टेरेसा ने अपना पूरा जीवन पीड़ितों की सेवा ...  \n",
       "8191  आईपीएल में कोरोना का डर: रैना के हटने के बाद ह...  \n",
       "\n",
       "[8192 rows x 3 columns]"
      ]
     },
     "execution_count": 19,
     "metadata": {},
     "output_type": "execute_result"
    }
   ],
   "source": [
    "df"
   ]
  },
  {
   "cell_type": "code",
   "execution_count": 27,
   "id": "c65f1c46-d408-446f-bc2e-fc814aa049a4",
   "metadata": {},
   "outputs": [],
   "source": [
    "from sklearn.preprocessing import LabelEncoder\n",
    "from tensorflow.keras.utils import to_categorical\n",
    "\n",
    "# 1. Encode string labels to integers\n",
    "label_encoder = LabelEncoder()\n",
    "df['Labels Set'] = label_encoder.fit_transform(df['Labels Set'])\n",
    "\n",
    "# 2. Now it's safe to convert to categorical\n",
    "num_classes = len(label_encoder.classes_)\n",
    "texts = df['Post'].astype(str).values\n",
    "labels = to_categorical(df['Labels Set'].values, num_classes=num_classes)\n",
    "\n",
    "# 3. The rest of your pipeline remains the same\n",
    "X_train, X_test, y_train, y_test = train_test_split(texts, labels, test_size=0.2, random_state=42)\n",
    "\n",
    "# ...\n",
    "# Continue with tokenizer, padding, model, training etc. as you wrote\n"
   ]
  },
  {
   "cell_type": "code",
   "execution_count": 32,
   "id": "647a517d-992d-4cbc-990e-198cd2e7150f",
   "metadata": {},
   "outputs": [],
   "source": [
    "from tensorflow.keras.preprocessing.text import Tokenizer\n",
    "from tensorflow.keras.preprocessing.sequence import pad_sequences\n",
    "\n",
    "# Tokenization parameters\n",
    "max_words = 10000  # Vocabulary size\n",
    "max_len = 150      # Max sequence length\n",
    "\n",
    "# Tokenizer\n",
    "tokenizer = Tokenizer(num_words=max_words)\n",
    "tokenizer.fit_on_texts(X_train)\n",
    "\n",
    "# Convert texts to sequences\n",
    "X_train_seq = tokenizer.texts_to_sequences(X_train)\n",
    "X_test_seq = tokenizer.texts_to_sequences(X_test)\n",
    "\n",
    "# Pad sequences\n",
    "X_train_pad = pad_sequences(X_train_seq, maxlen=max_len)\n",
    "X_test_pad = pad_sequences(X_test_seq, maxlen=max_len)\n"
   ]
  },
  {
   "cell_type": "code",
   "execution_count": 33,
   "id": "42e6722a-4876-48ee-9bf9-3bf2bb65b4b9",
   "metadata": {},
   "outputs": [
    {
     "name": "stdout",
     "output_type": "stream",
     "text": [
      "Epoch 1/10\n",
      "205/205 [==============================] - 21s 93ms/step - loss: -39.9082 - accuracy: 0.2335 - val_loss: -184.1436 - val_accuracy: 0.2282\n",
      "Epoch 2/10\n",
      "205/205 [==============================] - 24s 116ms/step - loss: -854.6166 - accuracy: 0.2338 - val_loss: -1963.7985 - val_accuracy: 0.2282\n",
      "Epoch 3/10\n",
      "205/205 [==============================] - 24s 118ms/step - loss: -4172.6548 - accuracy: 0.2338 - val_loss: -7056.0635 - val_accuracy: 0.2282\n",
      "Epoch 4/10\n",
      "205/205 [==============================] - 21s 103ms/step - loss: -11526.1846 - accuracy: 0.2338 - val_loss: -16811.5586 - val_accuracy: 0.2282\n",
      "Epoch 5/10\n",
      "205/205 [==============================] - 20s 97ms/step - loss: -24029.2598 - accuracy: 0.2338 - val_loss: -32135.9180 - val_accuracy: 0.2282\n",
      "Epoch 6/10\n",
      "205/205 [==============================] - 19s 91ms/step - loss: -42566.4492 - accuracy: 0.2338 - val_loss: -53992.3281 - val_accuracy: 0.2282\n",
      "Epoch 7/10\n",
      "205/205 [==============================] - 20s 98ms/step - loss: -68785.1094 - accuracy: 0.2338 - val_loss: -83380.1719 - val_accuracy: 0.2282\n",
      "Epoch 8/10\n",
      "205/205 [==============================] - 19s 95ms/step - loss: -101512.3047 - accuracy: 0.2338 - val_loss: -120236.1172 - val_accuracy: 0.2282\n",
      "Epoch 9/10\n",
      "205/205 [==============================] - 22s 107ms/step - loss: -143515.0469 - accuracy: 0.2338 - val_loss: -165746.7500 - val_accuracy: 0.2282\n",
      "Epoch 10/10\n",
      "205/205 [==============================] - 19s 93ms/step - loss: -193914.2344 - accuracy: 0.2338 - val_loss: -219708.6875 - val_accuracy: 0.2282\n"
     ]
    }
   ],
   "source": [
    "history = model.fit(\n",
    "    X_train_pad, y_train,\n",
    "    epochs=10,\n",
    "    batch_size=32,\n",
    "    validation_data=(X_test_pad, y_test)\n",
    ")\n"
   ]
  },
  {
   "cell_type": "code",
   "execution_count": 34,
   "id": "e64bdcc5-a669-439b-abea-60e0137a837e",
   "metadata": {},
   "outputs": [
    {
     "name": "stdout",
     "output_type": "stream",
     "text": [
      "Final Training Accuracy: 23.38%\n",
      "Final Validation Accuracy: 22.82%\n"
     ]
    }
   ],
   "source": [
    "# Extract final accuracy\n",
    "final_train_acc = history.history['accuracy'][-1]\n",
    "final_val_acc = history.history['val_accuracy'][-1]\n",
    "\n",
    "print(f\"Final Training Accuracy: {final_train_acc * 100:.2f}%\")\n",
    "print(f\"Final Validation Accuracy: {final_val_acc * 100:.2f}%\")\n"
   ]
  },
  {
   "cell_type": "code",
   "execution_count": 40,
   "id": "9d22a3a5-e2e5-4bd3-be51-4ffacb14b1a7",
   "metadata": {},
   "outputs": [
    {
     "name": "stdout",
     "output_type": "stream",
     "text": [
      "Epoch 1/5\n",
      "205/205 [==============================] - 45s 184ms/step - loss: -9.9714 - accuracy: 0.2329 - val_loss: -16.8262 - val_accuracy: 0.2282\n",
      "Epoch 2/5\n",
      "205/205 [==============================] - 31s 150ms/step - loss: -23.1800 - accuracy: 0.2338 - val_loss: -30.5300 - val_accuracy: 0.2282\n",
      "Epoch 3/5\n",
      "205/205 [==============================] - 39s 191ms/step - loss: -37.3757 - accuracy: 0.2338 - val_loss: -43.6305 - val_accuracy: 0.2282\n",
      "Epoch 4/5\n",
      "205/205 [==============================] - 35s 172ms/step - loss: -52.0003 - accuracy: 0.2339 - val_loss: -57.4258 - val_accuracy: 0.2282\n",
      "Epoch 5/5\n",
      "205/205 [==============================] - 55s 270ms/step - loss: -68.3887 - accuracy: 0.2367 - val_loss: -72.1961 - val_accuracy: 0.2288\n"
     ]
    },
    {
     "data": {
      "text/plain": [
       "<keras.src.callbacks.History at 0x297cb9395d0>"
      ]
     },
     "execution_count": 40,
     "metadata": {},
     "output_type": "execute_result"
    }
   ],
   "source": [
    "from tensorflow.keras.models import Sequential\n",
    "from tensorflow.keras.layers import Embedding, Bidirectional, LSTM, Dense, Dropout\n",
    "\n",
    "bi_lstm_model = Sequential([\n",
    "    Embedding(input_dim=10000, output_dim=128, input_length=150),\n",
    "    Bidirectional(LSTM(64, return_sequences=False)),\n",
    "    Dropout(0.5),\n",
    "    Dense(1, activation='sigmoid')\n",
    "])\n",
    "\n",
    "bi_lstm_model.compile(loss='binary_crossentropy', optimizer='adam', metrics=['accuracy'])\n",
    "\n",
    "# Train it\n",
    "bi_lstm_model.fit(X_train_pad, y_train, epochs=5, batch_size=32, validation_data=(X_test_pad, y_test))\n"
   ]
  },
  {
   "cell_type": "code",
   "execution_count": 41,
   "id": "2eb75691-6951-44a5-89a5-0687c4e95082",
   "metadata": {},
   "outputs": [
    {
     "name": "stdout",
     "output_type": "stream",
     "text": [
      "52/52 [==============================] - 3s 66ms/step\n",
      "52/52 [==============================] - 5s 41ms/step\n",
      "52/52 [==============================] - 1s 12ms/step\n",
      "Ensemble Accuracy: 0.22818791946308725\n"
     ]
    }
   ],
   "source": [
    "from sklearn.metrics import accuracy_score\n",
    "import numpy as np\n",
    "\n",
    "# Predict probabilities from each model\n",
    "lstm_preds = lstm_model.predict(X_test_pad)\n",
    "bi_lstm_preds = bi_lstm_model.predict(X_test_pad)\n",
    "cnn_preds = cnn_model.predict(X_test_pad)\n",
    "\n",
    "# Average predictions\n",
    "avg_preds = (lstm_preds + bi_lstm_preds + cnn_preds) / 3\n",
    "final_preds = np.round(avg_preds).astype(int)\n",
    "\n",
    "# Evaluate\n",
    "print(\"Ensemble Accuracy:\", accuracy_score(y_test, final_preds))\n"
   ]
  },
  {
   "cell_type": "code",
   "execution_count": 29,
   "id": "8ccca92a-ff33-4e1e-8a12-2927494a7680",
   "metadata": {},
   "outputs": [
    {
     "name": "stdout",
     "output_type": "stream",
     "text": [
      "Epoch 1/10\n",
      "205/205 [==============================] - 14s 58ms/step - loss: 0.6707 - accuracy: 0.6904 - val_loss: 0.5183 - val_accuracy: 0.7877\n",
      "Epoch 2/10\n",
      "205/205 [==============================] - 12s 57ms/step - loss: 0.3433 - accuracy: 0.8694 - val_loss: 0.4052 - val_accuracy: 0.8408\n",
      "Epoch 3/10\n",
      "205/205 [==============================] - 12s 57ms/step - loss: 0.1376 - accuracy: 0.9582 - val_loss: 0.4639 - val_accuracy: 0.8401\n",
      "Epoch 4/10\n",
      "205/205 [==============================] - 11s 54ms/step - loss: 0.0513 - accuracy: 0.9887 - val_loss: 0.5601 - val_accuracy: 0.8408\n",
      "Epoch 5/10\n",
      "205/205 [==============================] - 11s 55ms/step - loss: 0.0309 - accuracy: 0.9936 - val_loss: 0.5831 - val_accuracy: 0.8426\n",
      "Epoch 6/10\n",
      "205/205 [==============================] - 12s 58ms/step - loss: 0.0222 - accuracy: 0.9953 - val_loss: 0.6368 - val_accuracy: 0.8432\n",
      "Epoch 7/10\n",
      "205/205 [==============================] - 15s 73ms/step - loss: 0.0183 - accuracy: 0.9965 - val_loss: 0.6725 - val_accuracy: 0.8365\n",
      "Epoch 8/10\n",
      "205/205 [==============================] - 12s 60ms/step - loss: 0.0154 - accuracy: 0.9974 - val_loss: 0.7476 - val_accuracy: 0.8353\n",
      "Epoch 9/10\n",
      "205/205 [==============================] - 13s 65ms/step - loss: 0.0150 - accuracy: 0.9976 - val_loss: 0.7462 - val_accuracy: 0.8395\n",
      "Epoch 10/10\n",
      "205/205 [==============================] - 14s 69ms/step - loss: 0.0098 - accuracy: 0.9979 - val_loss: 0.7725 - val_accuracy: 0.8395\n"
     ]
    }
   ],
   "source": [
    "import pandas as pd\n",
    "from sklearn.model_selection import train_test_split\n",
    "from tensorflow.keras.preprocessing.text import Tokenizer\n",
    "from tensorflow.keras.preprocessing.sequence import pad_sequences\n",
    "from tensorflow.keras.models import Model\n",
    "from tensorflow.keras.layers import Input, Embedding, LSTM, Conv1D, GlobalMaxPooling1D, concatenate, Dense, Dropout\n",
    "from tensorflow.keras.utils import to_categorical\n",
    "\n",
    "# # 1. Load dataset\n",
    "# df = pd.read_csv(\"urdu_tweets_dataset.csv\")\n",
    "\n",
    "# # For multi-class example: assuming 3 classes — update this if you're using binary\n",
    "# # If it's binary (0,1) then you can skip `to_categorical` and use sigmoid in final layer\n",
    "# num_classes = len(df['label'].unique())\n",
    "# texts = df['tweet'].astype(str).values\n",
    "# labels = to_categorical(df['label'].astype(int).values, num_classes=num_classes)\n",
    "\n",
    "# 2. Split data\n",
    "X_train, X_test, y_train, y_test = train_test_split(texts, labels, test_size=0.2, random_state=42)\n",
    "\n",
    "# 3. Tokenization & Padding\n",
    "max_words = 10000\n",
    "max_len = 100\n",
    "\n",
    "tokenizer = Tokenizer(num_words=max_words)\n",
    "tokenizer.fit_on_texts(X_train)\n",
    "X_train_seq = tokenizer.texts_to_sequences(X_train)\n",
    "X_test_seq = tokenizer.texts_to_sequences(X_test)\n",
    "\n",
    "X_train_pad = pad_sequences(X_train_seq, maxlen=max_len, padding='post')\n",
    "X_test_pad = pad_sequences(X_test_seq, maxlen=max_len, padding='post')\n",
    "\n",
    "# 4. Build Hybrid Model: CNN + LSTM\n",
    "input_layer = Input(shape=(max_len,))\n",
    "embedding_layer = Embedding(input_dim=max_words, output_dim=128, input_length=max_len)(input_layer)\n",
    "\n",
    "# CNN branch\n",
    "cnn_layer = Conv1D(64, 5, activation='relu')(embedding_layer)\n",
    "cnn_layer = GlobalMaxPooling1D()(cnn_layer)\n",
    "\n",
    "# LSTM branch\n",
    "lstm_layer = LSTM(64)(embedding_layer)\n",
    "\n",
    "# Merge both branches\n",
    "merged = concatenate([cnn_layer, lstm_layer])\n",
    "dense = Dense(64, activation='relu')(merged)\n",
    "dropout = Dropout(0.5)(dense)\n",
    "output = Dense(num_classes, activation='softmax')(dropout)\n",
    "\n",
    "# Compile model\n",
    "model = Model(inputs=input_layer, outputs=output)\n",
    "model.compile(loss='categorical_crossentropy', optimizer='adam', metrics=['accuracy'])\n",
    "\n",
    "# 5. Train model\n",
    "history = model.fit(\n",
    "    X_train_pad, y_train,\n",
    "    epochs=10,\n",
    "    batch_size=32,\n",
    "    validation_data=(X_test_pad, y_test)\n",
    ")\n"
   ]
  },
  {
   "cell_type": "code",
   "execution_count": 30,
   "id": "6979220e-0592-4ca8-a835-32201e5fc655",
   "metadata": {},
   "outputs": [
    {
     "name": "stdout",
     "output_type": "stream",
     "text": [
      "52/52 [==============================] - 1s 11ms/step\n",
      "Test Accuracy: 0.839536302623551\n"
     ]
    }
   ],
   "source": [
    "from sklearn.metrics import accuracy_score\n",
    "import numpy as np\n",
    "\n",
    "# Predict probabilities\n",
    "y_pred_probs = model.predict(X_test_pad)\n",
    "\n",
    "# Convert one-hot predictions and labels back to class indices\n",
    "y_pred = np.argmax(y_pred_probs, axis=1)\n",
    "y_true = np.argmax(y_test, axis=1)\n",
    "\n",
    "# Calculate accuracy\n",
    "acc = accuracy_score(y_true, y_pred)\n",
    "print(\"Test Accuracy:\", acc)\n"
   ]
  },
  {
   "cell_type": "code",
   "execution_count": 31,
   "id": "a4738c3b-c0af-4438-9372-f139f47ee1cb",
   "metadata": {},
   "outputs": [
    {
     "name": "stdout",
     "output_type": "stream",
     "text": [
      "52/52 [==============================] - 1s 13ms/step - loss: 0.7725 - accuracy: 0.8395\n",
      "Test Accuracy: 83.95%\n"
     ]
    }
   ],
   "source": [
    "loss, accuracy = model.evaluate(X_test_pad, y_test, verbose=1)\n",
    "print(f\"Test Accuracy: {accuracy * 100:.2f}%\")\n"
   ]
  },
  {
   "cell_type": "code",
   "execution_count": null,
   "id": "6798d789-0e1c-4dbe-b91a-485652699803",
   "metadata": {},
   "outputs": [],
   "source": []
  },
  {
   "cell_type": "code",
   "execution_count": null,
   "id": "ccdf00f5-536e-4255-b967-3f18497ea315",
   "metadata": {},
   "outputs": [],
   "source": []
  },
  {
   "cell_type": "code",
   "execution_count": null,
   "id": "89cb76a3-5663-46e2-bbbd-b1084860a190",
   "metadata": {},
   "outputs": [],
   "source": []
  },
  {
   "cell_type": "code",
   "execution_count": null,
   "id": "c300c5d0-b3b6-46d0-b118-848ff1dbb29c",
   "metadata": {},
   "outputs": [],
   "source": []
  },
  {
   "cell_type": "code",
   "execution_count": null,
   "id": "c116b89e-4bde-4517-9ea3-797648ab588f",
   "metadata": {},
   "outputs": [],
   "source": []
  },
  {
   "cell_type": "code",
   "execution_count": null,
   "id": "3f30811a-c851-42f8-8a1c-21f977b13eef",
   "metadata": {},
   "outputs": [],
   "source": []
  },
  {
   "cell_type": "code",
   "execution_count": null,
   "id": "d0e43384-9619-4c5a-801d-3e4074d46afa",
   "metadata": {},
   "outputs": [],
   "source": []
  },
  {
   "cell_type": "code",
   "execution_count": null,
   "id": "953fd6b8-e051-402e-b021-5ea5be90b85c",
   "metadata": {},
   "outputs": [],
   "source": []
  },
  {
   "cell_type": "code",
   "execution_count": null,
   "id": "d6fc0392-fa43-4fa7-a286-d42d9e959404",
   "metadata": {},
   "outputs": [],
   "source": []
  },
  {
   "cell_type": "code",
   "execution_count": null,
   "id": "bbabcd7c-00e1-4a03-a993-813dc83f3e0c",
   "metadata": {},
   "outputs": [],
   "source": []
  },
  {
   "cell_type": "code",
   "execution_count": null,
   "id": "9e489df6-282d-4b34-b66f-3ff5c8baea2f",
   "metadata": {},
   "outputs": [],
   "source": []
  },
  {
   "cell_type": "code",
   "execution_count": null,
   "id": "e3b4e1c1-5264-4566-a961-6b33c0729527",
   "metadata": {},
   "outputs": [],
   "source": []
  },
  {
   "cell_type": "code",
   "execution_count": null,
   "id": "7dda8f6a-5fb8-4de3-abe3-179d8ddce861",
   "metadata": {},
   "outputs": [],
   "source": []
  },
  {
   "cell_type": "code",
   "execution_count": null,
   "id": "d415a56b-f6c7-46ef-9300-6879f99bb0f0",
   "metadata": {},
   "outputs": [],
   "source": []
  },
  {
   "cell_type": "code",
   "execution_count": null,
   "id": "7e8cddd5-47f5-49d1-910f-00e4c036d8da",
   "metadata": {},
   "outputs": [],
   "source": []
  },
  {
   "cell_type": "code",
   "execution_count": null,
   "id": "8890229e-4f75-4de2-a3ed-317f60825c7f",
   "metadata": {},
   "outputs": [],
   "source": []
  },
  {
   "cell_type": "code",
   "execution_count": null,
   "id": "873a2ef4-3034-48d6-a736-e82545b51624",
   "metadata": {},
   "outputs": [],
   "source": []
  },
  {
   "cell_type": "code",
   "execution_count": null,
   "id": "1972ad30-0aba-4877-afdf-b8a7f78c11c1",
   "metadata": {},
   "outputs": [],
   "source": []
  },
  {
   "cell_type": "code",
   "execution_count": null,
   "id": "394c8b90-439e-4477-b13c-4fdd4eb59efb",
   "metadata": {},
   "outputs": [],
   "source": []
  },
  {
   "cell_type": "code",
   "execution_count": null,
   "id": "7142d564-9851-4ef7-8b3c-c7b1a3cd1d69",
   "metadata": {},
   "outputs": [],
   "source": []
  },
  {
   "cell_type": "code",
   "execution_count": null,
   "id": "890aec68-e072-4aac-9115-145e471d70be",
   "metadata": {},
   "outputs": [],
   "source": []
  },
  {
   "cell_type": "code",
   "execution_count": null,
   "id": "cb503361-00eb-4400-8b29-9efa34b71bf5",
   "metadata": {},
   "outputs": [],
   "source": []
  },
  {
   "cell_type": "code",
   "execution_count": null,
   "id": "9033ad27-0b74-445d-a876-2e6d42d20f8d",
   "metadata": {},
   "outputs": [],
   "source": []
  },
  {
   "cell_type": "code",
   "execution_count": null,
   "id": "933084ea-b7c5-4ca2-968d-df071237c1bc",
   "metadata": {},
   "outputs": [],
   "source": []
  },
  {
   "cell_type": "code",
   "execution_count": null,
   "id": "9ffc0e0d-8884-4048-a0ba-35b439ca3ef7",
   "metadata": {},
   "outputs": [],
   "source": []
  },
  {
   "cell_type": "code",
   "execution_count": null,
   "id": "05dbb8a6-6a8a-4246-b4a1-bafb40f6dab2",
   "metadata": {},
   "outputs": [],
   "source": []
  },
  {
   "cell_type": "code",
   "execution_count": null,
   "id": "fc3a63bd-5828-4198-ac86-6c4b7594666a",
   "metadata": {},
   "outputs": [],
   "source": []
  },
  {
   "cell_type": "code",
   "execution_count": null,
   "id": "5270abc8-98f2-4387-8bc3-cf2edf885500",
   "metadata": {},
   "outputs": [],
   "source": []
  },
  {
   "cell_type": "code",
   "execution_count": null,
   "id": "cd0f7a5f-9a0c-4426-914c-ce7fa6a466a1",
   "metadata": {},
   "outputs": [],
   "source": []
  },
  {
   "cell_type": "code",
   "execution_count": null,
   "id": "f6bfefec-24e4-4784-a12f-a77d3626bdfc",
   "metadata": {},
   "outputs": [],
   "source": []
  },
  {
   "cell_type": "code",
   "execution_count": null,
   "id": "be3eed8e-3c69-41b5-a9e4-39b25d123bfd",
   "metadata": {},
   "outputs": [],
   "source": []
  },
  {
   "cell_type": "code",
   "execution_count": null,
   "id": "48bc33f9-c4a7-44a2-b9a4-c3718a0947c6",
   "metadata": {},
   "outputs": [],
   "source": []
  },
  {
   "cell_type": "code",
   "execution_count": null,
   "id": "baa62067-0258-4420-889f-6714845e17c3",
   "metadata": {},
   "outputs": [],
   "source": []
  },
  {
   "cell_type": "code",
   "execution_count": null,
   "id": "7d87bc19-a904-45b2-9b10-427a9cea1b9a",
   "metadata": {},
   "outputs": [],
   "source": []
  },
  {
   "cell_type": "code",
   "execution_count": null,
   "id": "3de404e6-8465-4d9d-bbe6-e3d10d5fdd8b",
   "metadata": {},
   "outputs": [],
   "source": []
  },
  {
   "cell_type": "code",
   "execution_count": null,
   "id": "70ed8fe9-a1a3-43d7-84ec-166dbbea7a95",
   "metadata": {},
   "outputs": [],
   "source": []
  },
  {
   "cell_type": "code",
   "execution_count": null,
   "id": "18eb705a-3738-4b08-ad1f-2f0cefc481ff",
   "metadata": {},
   "outputs": [],
   "source": []
  },
  {
   "cell_type": "code",
   "execution_count": null,
   "id": "202bb266-336d-4b85-99e0-471ad241ce7b",
   "metadata": {},
   "outputs": [],
   "source": []
  },
  {
   "cell_type": "code",
   "execution_count": null,
   "id": "65970b8a-dff1-4d12-b472-88ad1baedf56",
   "metadata": {},
   "outputs": [],
   "source": []
  },
  {
   "cell_type": "code",
   "execution_count": null,
   "id": "48204852-28e5-404b-8494-cb5f977973ba",
   "metadata": {},
   "outputs": [],
   "source": []
  },
  {
   "cell_type": "code",
   "execution_count": null,
   "id": "e8567798-212f-4139-be21-5b0029440cf3",
   "metadata": {},
   "outputs": [],
   "source": []
  },
  {
   "cell_type": "code",
   "execution_count": null,
   "id": "3f76d4d3-0646-4a48-95b0-395a6d192e7d",
   "metadata": {},
   "outputs": [],
   "source": []
  },
  {
   "cell_type": "code",
   "execution_count": null,
   "id": "7ef3828a-8722-4065-9f9c-1f012eb8b317",
   "metadata": {},
   "outputs": [],
   "source": []
  },
  {
   "cell_type": "code",
   "execution_count": null,
   "id": "186465c3-2e4b-478c-8b66-b01edffb2b2e",
   "metadata": {},
   "outputs": [],
   "source": []
  },
  {
   "cell_type": "code",
   "execution_count": null,
   "id": "e1e7284f-e5cb-4419-a8d3-cdf028af1ae9",
   "metadata": {},
   "outputs": [],
   "source": []
  },
  {
   "cell_type": "code",
   "execution_count": null,
   "id": "b750dc3a-9ddf-47e5-8cbb-c9d3eec8848f",
   "metadata": {},
   "outputs": [],
   "source": []
  },
  {
   "cell_type": "code",
   "execution_count": null,
   "id": "aafc0ca7-b796-45cb-94a9-39479a5f5539",
   "metadata": {},
   "outputs": [],
   "source": []
  },
  {
   "cell_type": "code",
   "execution_count": null,
   "id": "ade79d49-0849-4e30-808c-93dcbe2050c2",
   "metadata": {},
   "outputs": [],
   "source": []
  },
  {
   "cell_type": "code",
   "execution_count": null,
   "id": "5627b9e9-e26a-47eb-93cb-bb5741fa9a04",
   "metadata": {},
   "outputs": [],
   "source": []
  },
  {
   "cell_type": "code",
   "execution_count": null,
   "id": "e759a76d-5d30-4e1b-9a46-214218371652",
   "metadata": {},
   "outputs": [],
   "source": []
  },
  {
   "cell_type": "code",
   "execution_count": null,
   "id": "cd915b22-f011-446a-905b-57a87263c206",
   "metadata": {},
   "outputs": [],
   "source": []
  },
  {
   "cell_type": "code",
   "execution_count": null,
   "id": "2342ef3e-23ce-4e73-813f-ffe7e3a8a0ac",
   "metadata": {},
   "outputs": [],
   "source": []
  },
  {
   "cell_type": "code",
   "execution_count": null,
   "id": "bd01653a-4616-4d47-9497-6421cbbb5c3e",
   "metadata": {},
   "outputs": [],
   "source": []
  },
  {
   "cell_type": "code",
   "execution_count": null,
   "id": "e6706e7e-3196-40e1-9d92-65938158e842",
   "metadata": {},
   "outputs": [],
   "source": []
  },
  {
   "cell_type": "code",
   "execution_count": null,
   "id": "1e6f71a1-3077-4c4f-ae36-830ff9bf6cad",
   "metadata": {},
   "outputs": [],
   "source": []
  },
  {
   "cell_type": "code",
   "execution_count": null,
   "id": "da3883c3-764a-41b1-9962-56e744aaa3d0",
   "metadata": {},
   "outputs": [],
   "source": []
  },
  {
   "cell_type": "code",
   "execution_count": null,
   "id": "095e1991-e730-4319-9fa9-250009226771",
   "metadata": {},
   "outputs": [],
   "source": []
  },
  {
   "cell_type": "code",
   "execution_count": null,
   "id": "807e98dd-807b-47aa-aa6b-81fa8b5eed04",
   "metadata": {},
   "outputs": [],
   "source": []
  },
  {
   "cell_type": "code",
   "execution_count": null,
   "id": "d3c6e3b2-459f-4ffe-8a95-a2a08f84a527",
   "metadata": {},
   "outputs": [],
   "source": []
  },
  {
   "cell_type": "code",
   "execution_count": null,
   "id": "d83f02d2-7c7f-4084-9023-b2a583e9d6dd",
   "metadata": {},
   "outputs": [],
   "source": []
  },
  {
   "cell_type": "code",
   "execution_count": null,
   "id": "2e71ef10-9a9b-4da0-a5ba-ccd90ac8d19c",
   "metadata": {},
   "outputs": [],
   "source": []
  },
  {
   "cell_type": "code",
   "execution_count": null,
   "id": "49260f89-fd73-4cd2-80da-161823abbc4d",
   "metadata": {},
   "outputs": [],
   "source": []
  },
  {
   "cell_type": "code",
   "execution_count": null,
   "id": "daf0fbad-b102-4cbc-829f-7c998ec21d80",
   "metadata": {},
   "outputs": [],
   "source": []
  },
  {
   "cell_type": "code",
   "execution_count": null,
   "id": "831ac4cb-932d-41bd-8092-7b98677f4bcf",
   "metadata": {},
   "outputs": [],
   "source": []
  },
  {
   "cell_type": "code",
   "execution_count": null,
   "id": "b7cb75a9-62b2-4548-872b-c894ca8fc27c",
   "metadata": {},
   "outputs": [],
   "source": []
  },
  {
   "cell_type": "code",
   "execution_count": null,
   "id": "0eafca50-0d31-45fd-852b-5dacdaf43a1f",
   "metadata": {},
   "outputs": [],
   "source": []
  },
  {
   "cell_type": "code",
   "execution_count": null,
   "id": "66cd1bf4-d534-40d9-88e7-e36375c2f8ae",
   "metadata": {},
   "outputs": [],
   "source": []
  },
  {
   "cell_type": "code",
   "execution_count": null,
   "id": "e3902f2b-5368-49d5-98e7-3d9b043eb56a",
   "metadata": {},
   "outputs": [],
   "source": []
  },
  {
   "cell_type": "code",
   "execution_count": null,
   "id": "5dd3d40c-79fb-4e2c-9196-28f70969f99a",
   "metadata": {},
   "outputs": [],
   "source": []
  },
  {
   "cell_type": "code",
   "execution_count": null,
   "id": "bbc68cb2-b6b8-4b19-92c7-08bd5343db17",
   "metadata": {},
   "outputs": [],
   "source": []
  },
  {
   "cell_type": "code",
   "execution_count": null,
   "id": "bdc87a10-50f7-4479-9ed8-44af26c01e0a",
   "metadata": {},
   "outputs": [],
   "source": []
  },
  {
   "cell_type": "code",
   "execution_count": null,
   "id": "cf37372c-e054-4fa8-b17d-0cc8308d96a1",
   "metadata": {},
   "outputs": [],
   "source": []
  },
  {
   "cell_type": "code",
   "execution_count": null,
   "id": "7c518385-e5ad-4993-9d15-4917710aa519",
   "metadata": {},
   "outputs": [],
   "source": []
  },
  {
   "cell_type": "code",
   "execution_count": null,
   "id": "b2a57bae-afa8-4259-8a03-e82a411bfec5",
   "metadata": {},
   "outputs": [],
   "source": []
  },
  {
   "cell_type": "code",
   "execution_count": null,
   "id": "b11ec07a-d8a5-4c6d-a208-d5eb48cf8ed8",
   "metadata": {},
   "outputs": [],
   "source": []
  },
  {
   "cell_type": "code",
   "execution_count": null,
   "id": "c7643331-fee3-4061-994f-50775036096a",
   "metadata": {},
   "outputs": [],
   "source": []
  },
  {
   "cell_type": "code",
   "execution_count": null,
   "id": "6834944e-6a3c-4267-b73f-187e86bcf802",
   "metadata": {},
   "outputs": [],
   "source": []
  },
  {
   "cell_type": "code",
   "execution_count": null,
   "id": "ec51596d-93a8-4b0e-93cf-627b13d4caae",
   "metadata": {},
   "outputs": [],
   "source": []
  },
  {
   "cell_type": "code",
   "execution_count": null,
   "id": "83798b9a-5c9c-4859-8179-32d849f3126f",
   "metadata": {},
   "outputs": [],
   "source": []
  },
  {
   "cell_type": "code",
   "execution_count": null,
   "id": "d8761330-9520-4263-bdfc-852e3d600065",
   "metadata": {},
   "outputs": [],
   "source": []
  },
  {
   "cell_type": "code",
   "execution_count": null,
   "id": "0b32f042-3529-47d8-907d-b40b38e3d385",
   "metadata": {},
   "outputs": [],
   "source": []
  },
  {
   "cell_type": "code",
   "execution_count": null,
   "id": "603c79b9-dd8b-4b10-8803-a242d4a4fce2",
   "metadata": {},
   "outputs": [],
   "source": []
  },
  {
   "cell_type": "code",
   "execution_count": null,
   "id": "f44414df-74f1-4240-8370-26edde52dfdd",
   "metadata": {},
   "outputs": [],
   "source": []
  },
  {
   "cell_type": "code",
   "execution_count": null,
   "id": "590363df-7c58-4d34-8850-c176069a56ac",
   "metadata": {},
   "outputs": [],
   "source": []
  },
  {
   "cell_type": "code",
   "execution_count": null,
   "id": "c324b5b2-9b04-4774-ae49-8f9cb35a0f5e",
   "metadata": {},
   "outputs": [],
   "source": []
  },
  {
   "cell_type": "code",
   "execution_count": null,
   "id": "9aaa8bec-d4c6-4db8-b64f-f95c9f816e6e",
   "metadata": {},
   "outputs": [],
   "source": []
  },
  {
   "cell_type": "code",
   "execution_count": null,
   "id": "ac1e4223-f541-4568-a033-c4cd9b196149",
   "metadata": {},
   "outputs": [],
   "source": []
  },
  {
   "cell_type": "code",
   "execution_count": null,
   "id": "15732501-30e1-445a-b347-0c5c92462397",
   "metadata": {},
   "outputs": [],
   "source": []
  },
  {
   "cell_type": "code",
   "execution_count": null,
   "id": "28ef7165-9802-4632-8092-faa1498f5565",
   "metadata": {},
   "outputs": [],
   "source": []
  },
  {
   "cell_type": "code",
   "execution_count": null,
   "id": "f4238c2e-affe-41ed-87ca-cbad1e5b9fb6",
   "metadata": {},
   "outputs": [],
   "source": []
  },
  {
   "cell_type": "code",
   "execution_count": null,
   "id": "62d43734-1c1a-4457-94e6-b876332bc9b1",
   "metadata": {},
   "outputs": [],
   "source": []
  },
  {
   "cell_type": "code",
   "execution_count": null,
   "id": "0452d1ec-34b8-40d4-8925-582a6f43b87a",
   "metadata": {},
   "outputs": [],
   "source": []
  },
  {
   "cell_type": "code",
   "execution_count": null,
   "id": "22dbe59a-ccba-40f5-88da-4bb23c8de859",
   "metadata": {},
   "outputs": [],
   "source": []
  },
  {
   "cell_type": "code",
   "execution_count": null,
   "id": "a2271f0f-1137-4d74-b206-f8b3ef9a8758",
   "metadata": {},
   "outputs": [],
   "source": []
  },
  {
   "cell_type": "code",
   "execution_count": null,
   "id": "a42e294c-8d91-47c8-8cd7-d4ffb04422ef",
   "metadata": {},
   "outputs": [],
   "source": []
  },
  {
   "cell_type": "code",
   "execution_count": null,
   "id": "b8930f5b-e17a-4188-bb46-00404a76296b",
   "metadata": {},
   "outputs": [],
   "source": []
  },
  {
   "cell_type": "code",
   "execution_count": null,
   "id": "298b46a8-7dde-4210-841b-62c06745430f",
   "metadata": {},
   "outputs": [],
   "source": []
  },
  {
   "cell_type": "code",
   "execution_count": null,
   "id": "53b72164-3e54-43e8-9ccb-77ec9e25a2e7",
   "metadata": {},
   "outputs": [],
   "source": []
  },
  {
   "cell_type": "code",
   "execution_count": null,
   "id": "e9a86a12-65cf-4527-88b5-bc985406460a",
   "metadata": {},
   "outputs": [],
   "source": []
  },
  {
   "cell_type": "code",
   "execution_count": null,
   "id": "2ed80ab5-eb9f-484b-92d6-9ac22ec6316b",
   "metadata": {},
   "outputs": [],
   "source": []
  },
  {
   "cell_type": "code",
   "execution_count": null,
   "id": "8142d401-2893-4245-8701-66f192725ca9",
   "metadata": {},
   "outputs": [],
   "source": []
  },
  {
   "cell_type": "code",
   "execution_count": null,
   "id": "fe954bb4-d848-4920-a9e6-8c4a91af64f7",
   "metadata": {},
   "outputs": [],
   "source": []
  },
  {
   "cell_type": "code",
   "execution_count": null,
   "id": "08acf45d-52f4-4fa9-9801-72f97115dcd2",
   "metadata": {},
   "outputs": [],
   "source": []
  },
  {
   "cell_type": "code",
   "execution_count": null,
   "id": "44df08a2-0376-476f-a2ce-6a419cb886ba",
   "metadata": {},
   "outputs": [],
   "source": []
  },
  {
   "cell_type": "code",
   "execution_count": null,
   "id": "e083695b-2d8b-40b7-8377-08fbd31a1c67",
   "metadata": {},
   "outputs": [],
   "source": []
  },
  {
   "cell_type": "code",
   "execution_count": null,
   "id": "aa739489-e85f-413a-a765-afab2a4df079",
   "metadata": {},
   "outputs": [],
   "source": []
  },
  {
   "cell_type": "code",
   "execution_count": null,
   "id": "a31095f1-8688-4b61-a5f0-2046b7e02642",
   "metadata": {},
   "outputs": [],
   "source": []
  },
  {
   "cell_type": "code",
   "execution_count": null,
   "id": "93ad4b3d-38d7-4752-b56c-1d63c983cb8a",
   "metadata": {},
   "outputs": [],
   "source": []
  },
  {
   "cell_type": "code",
   "execution_count": null,
   "id": "d0c76a94-0acc-4573-bee5-555369c5b0f8",
   "metadata": {},
   "outputs": [],
   "source": []
  },
  {
   "cell_type": "code",
   "execution_count": null,
   "id": "715edc52-ff0f-4e9a-9829-7fa72d3f6b2a",
   "metadata": {},
   "outputs": [],
   "source": []
  },
  {
   "cell_type": "code",
   "execution_count": null,
   "id": "30238d31-6da7-4fa9-9c94-01fe57b1ae18",
   "metadata": {},
   "outputs": [],
   "source": []
  },
  {
   "cell_type": "code",
   "execution_count": null,
   "id": "16e10a22-112d-41f1-a6c4-4073a23dd325",
   "metadata": {},
   "outputs": [],
   "source": []
  },
  {
   "cell_type": "code",
   "execution_count": null,
   "id": "211572fd-2073-4fe6-a36d-5a0e09283ad1",
   "metadata": {},
   "outputs": [],
   "source": []
  },
  {
   "cell_type": "code",
   "execution_count": null,
   "id": "0fd394ff-68fe-43f4-a26a-ab394abe543d",
   "metadata": {},
   "outputs": [],
   "source": []
  },
  {
   "cell_type": "code",
   "execution_count": null,
   "id": "8525a179-98d2-4d52-9d18-bb99dcb4a0d7",
   "metadata": {},
   "outputs": [],
   "source": []
  },
  {
   "cell_type": "code",
   "execution_count": null,
   "id": "ce10fd71-d83b-4c3c-bdc2-69914e7f7601",
   "metadata": {},
   "outputs": [],
   "source": []
  },
  {
   "cell_type": "code",
   "execution_count": null,
   "id": "2bf4e92e-cfda-44bc-9ae3-202f6d3ea3e8",
   "metadata": {},
   "outputs": [],
   "source": []
  },
  {
   "cell_type": "code",
   "execution_count": null,
   "id": "c3a93526-f93f-448a-901f-2000c5411d60",
   "metadata": {},
   "outputs": [],
   "source": []
  },
  {
   "cell_type": "code",
   "execution_count": null,
   "id": "9898d6c3-6c8d-48d8-862f-ae992cd6fb0e",
   "metadata": {},
   "outputs": [],
   "source": []
  },
  {
   "cell_type": "code",
   "execution_count": null,
   "id": "24e83f2a-7090-4824-b0dc-df1141993b17",
   "metadata": {},
   "outputs": [],
   "source": []
  },
  {
   "cell_type": "code",
   "execution_count": null,
   "id": "b0476a32-366d-4431-9f70-cd1cf9c98017",
   "metadata": {},
   "outputs": [],
   "source": []
  }
 ],
 "metadata": {
  "kernelspec": {
   "display_name": "Python 3 (ipykernel)",
   "language": "python",
   "name": "python3"
  },
  "language_info": {
   "codemirror_mode": {
    "name": "ipython",
    "version": 3
   },
   "file_extension": ".py",
   "mimetype": "text/x-python",
   "name": "python",
   "nbconvert_exporter": "python",
   "pygments_lexer": "ipython3",
   "version": "3.11.3"
  }
 },
 "nbformat": 4,
 "nbformat_minor": 5
}
