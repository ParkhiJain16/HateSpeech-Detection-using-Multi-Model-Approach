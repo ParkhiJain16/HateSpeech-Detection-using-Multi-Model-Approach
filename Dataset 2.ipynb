{
 "cells": [
  {
   "cell_type": "code",
   "execution_count": 1,
   "id": "c5cc38e5-499a-497b-a2e5-1903eae99190",
   "metadata": {},
   "outputs": [
    {
     "data": {
      "text/html": [
       "<div>\n",
       "<style scoped>\n",
       "    .dataframe tbody tr th:only-of-type {\n",
       "        vertical-align: middle;\n",
       "    }\n",
       "\n",
       "    .dataframe tbody tr th {\n",
       "        vertical-align: top;\n",
       "    }\n",
       "\n",
       "    .dataframe thead th {\n",
       "        text-align: right;\n",
       "    }\n",
       "</style>\n",
       "<table border=\"1\" class=\"dataframe\">\n",
       "  <thead>\n",
       "    <tr style=\"text-align: right;\">\n",
       "      <th></th>\n",
       "      <th>@renukapandit_ Just feel pura black hard tumhare ander navel tak push ho raha hai or tumhar hips per meri thighs ki takkar chap chap ko avaj kar rahi hai</th>\n",
       "      <th>Hateful</th>\n",
       "    </tr>\n",
       "  </thead>\n",
       "  <tbody>\n",
       "    <tr>\n",
       "      <th>0</th>\n",
       "      <td>@ArvindKejriwal sir aap aise hi padhe likhe ga...</td>\n",
       "      <td>Hateful</td>\n",
       "    </tr>\n",
       "    <tr>\n",
       "      <th>1</th>\n",
       "      <td>@sonbhadrapolice @Mithile38597238 @narendramod...</td>\n",
       "      <td>Hateful</td>\n",
       "    </tr>\n",
       "    <tr>\n",
       "      <th>2</th>\n",
       "      <td>@SUMANTAinAAP Ye democracy hi hai jiski wajah ...</td>\n",
       "      <td>Hateful</td>\n",
       "    </tr>\n",
       "    <tr>\n",
       "      <th>3</th>\n",
       "      <td>जै अंबानी अडानी मरे किसान ........ नहीं चलेगा ...</td>\n",
       "      <td>Hateful</td>\n",
       "    </tr>\n",
       "    <tr>\n",
       "      <th>4</th>\n",
       "      <td>जै अंबानी अडानी मरे किसान ........ नहीं चलेगा ...</td>\n",
       "      <td>Hateful</td>\n",
       "    </tr>\n",
       "    <tr>\n",
       "      <th>...</th>\n",
       "      <td>...</td>\n",
       "      <td>...</td>\n",
       "    </tr>\n",
       "    <tr>\n",
       "      <th>8094</th>\n",
       "      <td>RT @Veeryad29866339: Modi ji please hum studen...</td>\n",
       "      <td>NaN</td>\n",
       "    </tr>\n",
       "    <tr>\n",
       "      <th>8095</th>\n",
       "      <td>@Khushter18 Bilkul sun kar anjaan ho rahi hai ...</td>\n",
       "      <td>NaN</td>\n",
       "    </tr>\n",
       "    <tr>\n",
       "      <th>8096</th>\n",
       "      <td>@AnumaVidisha Kanagna da Khasam tei yaar modi ...</td>\n",
       "      <td>NaN</td>\n",
       "    </tr>\n",
       "    <tr>\n",
       "      <th>8097</th>\n",
       "      <td>Ena solrathu sangi avaukuthan padika theriyath...</td>\n",
       "      <td>NaN</td>\n",
       "    </tr>\n",
       "    <tr>\n",
       "      <th>8098</th>\n",
       "      <td>@Agamudaiyar_ Aana intha aalu Modi kaaluke viz...</td>\n",
       "      <td>NaN</td>\n",
       "    </tr>\n",
       "  </tbody>\n",
       "</table>\n",
       "<p>8099 rows × 2 columns</p>\n",
       "</div>"
      ],
      "text/plain": [
       "     @renukapandit_ Just feel pura black hard tumhare ander navel tak push ho raha hai or tumhar hips per meri thighs ki takkar chap chap ko avaj kar rahi hai  \\\n",
       "0     @ArvindKejriwal sir aap aise hi padhe likhe ga...                                                                                                          \n",
       "1     @sonbhadrapolice @Mithile38597238 @narendramod...                                                                                                          \n",
       "2     @SUMANTAinAAP Ye democracy hi hai jiski wajah ...                                                                                                          \n",
       "3     जै अंबानी अडानी मरे किसान ........ नहीं चलेगा ...                                                                                                          \n",
       "4     जै अंबानी अडानी मरे किसान ........ नहीं चलेगा ...                                                                                                          \n",
       "...                                                 ...                                                                                                          \n",
       "8094  RT @Veeryad29866339: Modi ji please hum studen...                                                                                                          \n",
       "8095  @Khushter18 Bilkul sun kar anjaan ho rahi hai ...                                                                                                          \n",
       "8096  @AnumaVidisha Kanagna da Khasam tei yaar modi ...                                                                                                          \n",
       "8097  Ena solrathu sangi avaukuthan padika theriyath...                                                                                                          \n",
       "8098  @Agamudaiyar_ Aana intha aalu Modi kaaluke viz...                                                                                                          \n",
       "\n",
       "      Hateful  \n",
       "0     Hateful  \n",
       "1     Hateful  \n",
       "2     Hateful  \n",
       "3     Hateful  \n",
       "4     Hateful  \n",
       "...       ...  \n",
       "8094      NaN  \n",
       "8095      NaN  \n",
       "8096      NaN  \n",
       "8097      NaN  \n",
       "8098      NaN  \n",
       "\n",
       "[8099 rows x 2 columns]"
      ]
     },
     "execution_count": 1,
     "metadata": {},
     "output_type": "execute_result"
    }
   ],
   "source": [
    "import pandas as pd\n",
    "import matplotlib.pyplot as plt\n",
    "\n",
    "data = pd.read_excel(r\"C:\\Users\\parkh\\OneDrive\\Desktop\\HateSpeech\\HECM.xlsx\")\n",
    "data"
   ]
  },
  {
   "cell_type": "code",
   "execution_count": 2,
   "id": "d0766069-4fd5-45cb-8467-d5c18c4f22c3",
   "metadata": {},
   "outputs": [],
   "source": [
    "df = data .copy()"
   ]
  },
  {
   "cell_type": "code",
   "execution_count": 3,
   "id": "dab48e2c-ae49-40b6-80d8-6e64c1a119f3",
   "metadata": {},
   "outputs": [
    {
     "data": {
      "text/plain": [
       "@renukapandit_ Just feel pura black hard tumhare ander navel tak push ho raha hai or tumhar hips per meri thighs ki takkar chap chap ko avaj kar rahi hai     0\n",
       "Hateful                                                                                                                                                      31\n",
       "dtype: int64"
      ]
     },
     "execution_count": 3,
     "metadata": {},
     "output_type": "execute_result"
    }
   ],
   "source": [
    "df.isnull().sum()"
   ]
  },
  {
   "cell_type": "code",
   "execution_count": 4,
   "id": "9f1e9155-8ae7-4427-85cb-22b176e74a3e",
   "metadata": {},
   "outputs": [],
   "source": [
    "# Fill missing values in 'Hateful' with 0\n",
    "df['Hateful'] = df['Hateful'].fillna(0)\n",
    "\n",
    "# If you want to use a placeholder instead (e.g., \"Unknown\")\n",
    "# df['Hateful'] = df['Hateful'].fillna(\"Unknown\")\n"
   ]
  },
  {
   "cell_type": "code",
   "execution_count": 5,
   "id": "966475fb-ee84-4869-b9ce-e811af07310a",
   "metadata": {},
   "outputs": [
    {
     "data": {
      "text/plain": [
       "@renukapandit_ Just feel pura black hard tumhare ander navel tak push ho raha hai or tumhar hips per meri thighs ki takkar chap chap ko avaj kar rahi hai    0\n",
       "Hateful                                                                                                                                                      0\n",
       "dtype: int64"
      ]
     },
     "execution_count": 5,
     "metadata": {},
     "output_type": "execute_result"
    }
   ],
   "source": [
    "df.isnull().sum()"
   ]
  },
  {
   "cell_type": "code",
   "execution_count": 7,
   "id": "d18be86e-f134-437c-85ba-f478fc854f99",
   "metadata": {},
   "outputs": [
    {
     "data": {
      "text/html": [
       "<div>\n",
       "<style scoped>\n",
       "    .dataframe tbody tr th:only-of-type {\n",
       "        vertical-align: middle;\n",
       "    }\n",
       "\n",
       "    .dataframe tbody tr th {\n",
       "        vertical-align: top;\n",
       "    }\n",
       "\n",
       "    .dataframe thead th {\n",
       "        text-align: right;\n",
       "    }\n",
       "</style>\n",
       "<table border=\"1\" class=\"dataframe\">\n",
       "  <thead>\n",
       "    <tr style=\"text-align: right;\">\n",
       "      <th></th>\n",
       "      <th>@renukapandit_ Just feel pura black hard tumhare ander navel tak push ho raha hai or tumhar hips per meri thighs ki takkar chap chap ko avaj kar rahi hai</th>\n",
       "      <th>Hateful</th>\n",
       "    </tr>\n",
       "  </thead>\n",
       "  <tbody>\n",
       "    <tr>\n",
       "      <th>0</th>\n",
       "      <td>@ArvindKejriwal sir aap aise hi padhe likhe ga...</td>\n",
       "      <td>Hateful</td>\n",
       "    </tr>\n",
       "    <tr>\n",
       "      <th>1</th>\n",
       "      <td>@sonbhadrapolice @Mithile38597238 @narendramod...</td>\n",
       "      <td>Hateful</td>\n",
       "    </tr>\n",
       "    <tr>\n",
       "      <th>2</th>\n",
       "      <td>@SUMANTAinAAP Ye democracy hi hai jiski wajah ...</td>\n",
       "      <td>Hateful</td>\n",
       "    </tr>\n",
       "    <tr>\n",
       "      <th>3</th>\n",
       "      <td>जै अंबानी अडानी मरे किसान ........ नहीं चलेगा ...</td>\n",
       "      <td>Hateful</td>\n",
       "    </tr>\n",
       "    <tr>\n",
       "      <th>4</th>\n",
       "      <td>जै अंबानी अडानी मरे किसान ........ नहीं चलेगा ...</td>\n",
       "      <td>Hateful</td>\n",
       "    </tr>\n",
       "  </tbody>\n",
       "</table>\n",
       "</div>"
      ],
      "text/plain": [
       "  @renukapandit_ Just feel pura black hard tumhare ander navel tak push ho raha hai or tumhar hips per meri thighs ki takkar chap chap ko avaj kar rahi hai  \\\n",
       "0  @ArvindKejriwal sir aap aise hi padhe likhe ga...                                                                                                          \n",
       "1  @sonbhadrapolice @Mithile38597238 @narendramod...                                                                                                          \n",
       "2  @SUMANTAinAAP Ye democracy hi hai jiski wajah ...                                                                                                          \n",
       "3  जै अंबानी अडानी मरे किसान ........ नहीं चलेगा ...                                                                                                          \n",
       "4  जै अंबानी अडानी मरे किसान ........ नहीं चलेगा ...                                                                                                          \n",
       "\n",
       "   Hateful  \n",
       "0  Hateful  \n",
       "1  Hateful  \n",
       "2  Hateful  \n",
       "3  Hateful  \n",
       "4  Hateful  "
      ]
     },
     "execution_count": 7,
     "metadata": {},
     "output_type": "execute_result"
    }
   ],
   "source": [
    "df.head()"
   ]
  },
  {
   "cell_type": "code",
   "execution_count": 13,
   "id": "2c931c08-414c-44a2-b7bc-3eb5e93c0fcb",
   "metadata": {},
   "outputs": [],
   "source": [
    "# extract the text and labels\n",
    "X = list(data['@renukapandit_ Just feel pura black hard tumhare ander navel tak push ho raha hai or tumhar hips per meri thighs ki takkar chap chap ko avaj kar rahi hai'])\n",
    "y = list(data['Hateful'])"
   ]
  },
  {
   "cell_type": "code",
   "execution_count": 10,
   "id": "af90537a-38c4-40f0-b8b0-b1798798939b",
   "metadata": {},
   "outputs": [
    {
     "name": "stdout",
     "output_type": "stream",
     "text": [
      "Label mapping: {'Hateful': 0, 'Non-Hateful': 1, 0: 2}\n"
     ]
    }
   ],
   "source": [
    "unique_labels = df['Hateful'].unique()\n",
    "label_dict = {label: i for i, label in enumerate(unique_labels)}\n",
    "num_labels = len(unique_labels)\n",
    "print(\"Label mapping:\", label_dict)\n"
   ]
  },
  {
   "cell_type": "code",
   "execution_count": 6,
   "id": "df417068-1ada-457f-a980-b90c8190df9a",
   "metadata": {},
   "outputs": [],
   "source": [
    "import re\n",
    "def clean_text(text):\n",
    "    if pd.isnull(text):  # Check for NaN values\n",
    "        return ''\n",
    "    \n",
    "    # Remove newlines\n",
    "    text = re.sub(r'\\n+', ' ', text)\n",
    "    \n",
    "    # Remove URLs (http, https, or www links)\n",
    "    text = re.sub(r'http\\S+|www\\S+|t\\.co\\S+', '', text)\n",
    "    \n",
    "    # Remove extra spaces\n",
    "    text = re.sub(r'\\s+', ' ', text).strip()\n",
    "    \n",
    "    return text\n",
    "\n",
    "# Apply the cleaning function to the 'cleaned_text' column\n",
    "df['preprocessed_text'] = df['@renukapandit_ Just feel pura black hard tumhare ander navel tak push ho raha hai or tumhar hips per meri thighs ki takkar chap chap ko avaj kar rahi hai'].apply(clean_text)"
   ]
  },
  {
   "cell_type": "code",
   "execution_count": 7,
   "id": "7cd82569-2c78-489b-8cb0-849588317612",
   "metadata": {},
   "outputs": [
    {
     "data": {
      "text/plain": [
       "0       @ArvindKejriwal sir aap aise hi padhe likhe ga...\n",
       "1       @sonbhadrapolice @Mithile38597238 @narendramod...\n",
       "2       @SUMANTAinAAP Ye democracy hi hai jiski wajah ...\n",
       "3       जै अंबानी अडानी मरे किसान ........ नहीं चलेगा ...\n",
       "4       जै अंबानी अडानी मरे किसान ........ नहीं चलेगा ...\n",
       "                              ...                        \n",
       "8094    RT @Veeryad29866339: Modi ji please hum studen...\n",
       "8095    @Khushter18 Bilkul sun kar anjaan ho rahi hai ...\n",
       "8096    @AnumaVidisha Kanagna da Khasam tei yaar modi ...\n",
       "8097    Ena solrathu sangi avaukuthan padika theriyath...\n",
       "8098    @Agamudaiyar_ Aana intha aalu Modi kaaluke viz...\n",
       "Name: preprocessed_text, Length: 8099, dtype: object"
      ]
     },
     "execution_count": 7,
     "metadata": {},
     "output_type": "execute_result"
    }
   ],
   "source": [
    "df['preprocessed_text']"
   ]
  },
  {
   "cell_type": "code",
   "execution_count": 8,
   "id": "65c10c34-3ef9-4028-b1ba-c4f827a4220b",
   "metadata": {},
   "outputs": [],
   "source": [
    "import seaborn as sns\n",
    "import matplotlib.pyplot as plt\n",
    "%matplotlib inline\n",
    "import numpy as np\n",
    "import seaborn as sb\n",
    "import warnings\n",
    "from nltk.corpus import stopwords"
   ]
  },
  {
   "cell_type": "code",
   "execution_count": 9,
   "id": "b321a446-3344-4578-818a-57e528d9fcc9",
   "metadata": {},
   "outputs": [],
   "source": [
    "from sklearn.model_selection import train_test_split\n",
    "from sklearn.base import BaseEstimator, TransformerMixin\n",
    "from sklearn.linear_model import LogisticRegression\n",
    "from sklearn.naive_bayes import MultinomialNB\n",
    "from sklearn.model_selection import cross_validate, StratifiedKFold\n",
    "from sklearn.metrics import accuracy_score, classification_report, confusion_matrix\n",
    "from sklearn.model_selection import GridSearchCV\n",
    "from sklearn.feature_extraction.text import TfidfTransformer\n",
    "from sklearn.preprocessing import Binarizer\n",
    "\n",
    "\n",
    "from collections import Counter\n",
    "from os import listdir, makedirs\n",
    "from os.path import isfile, join, splitext, split"
   ]
  },
  {
   "cell_type": "code",
   "execution_count": 10,
   "id": "2e83e353-d05b-422f-93ad-fa4a2aaae799",
   "metadata": {},
   "outputs": [],
   "source": [
    "from wordcloud import STOPWORDS, WordCloud\n",
    "\n",
    "from sklearn.feature_extraction.text import CountVectorizer\n",
    "from sklearn.pipeline import Pipeline, FeatureUnion\n",
    "from sklearn.feature_extraction.text import TfidfVectorizer\n",
    "from sklearn.preprocessing import StandardScaler\n",
    "from sklearn.decomposition import TruncatedSVD\n",
    "from sklearn.metrics import accuracy_score, classification_report, confusion_matrix\n",
    "from sklearn.model_selection import cross_validate, StratifiedKFold\n",
    "from sklearn.naive_bayes import GaussianNB\n",
    "\n",
    "from sklearn import tree\n",
    "from sklearn.ensemble import RandomForestClassifier\n",
    "from sklearn import model_selection, naive_bayes, svm\n",
    "from sklearn.feature_extraction.text import TfidfVectorizer\n",
    "from sklearn.preprocessing import LabelEncoder\n",
    "from xgboost import XGBClassifier \n",
    "\n",
    "warnings.filterwarnings('ignore')\n",
    "np.random.seed(0)"
   ]
  },
  {
   "cell_type": "code",
   "execution_count": 23,
   "id": "fa41af92-3505-4360-8a8d-8fc037851f41",
   "metadata": {},
   "outputs": [
    {
     "data": {
      "image/png": "[encoded data removed]",
      "text/plain": [
       "<Figure size 700x800 with 1 Axes>"
      ]
     },
     "metadata": {},
     "output_type": "display_data"
    }
   ],
   "source": [
    "# Define stopwords\n",
    "english_stopwords = set(stopwords.words('english'))\n",
    "\n",
    "# Combine all text from the preprocessed column\n",
    "text = ' '.join(df['preprocessed_text'].astype(str))\n",
    "\n",
    "# Use Mangal or Nirmala UI, which support Hindi text\n",
    "font_path = fm.findSystemFonts(fontpaths=None, fontext='ttf')\n",
    "hindi_font = None\n",
    "for font in font_path:\n",
    "    if 'Mangal' in font or 'Nirmala' in font:\n",
    "        hindi_font = font\n",
    "        break\n",
    "\n",
    "# Generate and display the word cloud\n",
    "if hindi_font:\n",
    "    wordcloud = WordCloud(\n",
    "        width=1000, \n",
    "        height=500, \n",
    "        background_color='white',\n",
    "        font_path=hindi_font,\n",
    "        stopwords=english_stopwords\n",
    "    ).generate(text)\n",
    "\n",
    "    plt.figure(figsize=(7, 8))\n",
    "    plt.imshow(wordcloud, interpolation='bilinear')\n",
    "    plt.axis('off')\n",
    "    plt.title(\"Word Cloud of Hate Words\", fontsize=18)\n",
    "    plt.show()\n",
    "else:\n",
    "    print(\"No Hindi-compatible font found.\")\n"
   ]
  },
  {
   "cell_type": "code",
   "execution_count": 26,
   "id": "a48c431c-3485-46a5-bad7-ef3c51f45f86",
   "metadata": {},
   "outputs": [
    {
     "data": {
      "text/plain": [
       "'Gov revoked the SC stay once But ye Jai bhim aur Jai Seva vote chodo bhav tak nahi dete aur Bina mange hi Gov ne revoked kar diya ye act war re sarkar Aur sala hum vote dete tumko to hum chutiya ch hue phir . Sala agli bar nota ko dunga . https://t.co/ovNhMfXC8q #BAN_SCST_ACT'"
      ]
     },
     "execution_count": 26,
     "metadata": {},
     "output_type": "execute_result"
    }
   ],
   "source": [
    "example=df['@renukapandit_ Just feel pura black hard tumhare ander navel tak push ho raha hai or tumhar hips per meri thighs ki takkar chap chap ko avaj kar rahi hai'][233]\n",
    "example"
   ]
  },
  {
   "cell_type": "code",
   "execution_count": 14,
   "id": "2d06584e-d822-448c-82e5-ab6a8803e543",
   "metadata": {},
   "outputs": [],
   "source": [
    "from sklearn.model_selection import train_test_split\n",
    "X_train,X_test,y_train,y_test = train_test_split(X,y,test_size=0.2,random_state = 32)"
   ]
  },
  {
   "cell_type": "code",
   "execution_count": 15,
   "id": "53609453-25e1-41cb-9bf0-b85930d7e303",
   "metadata": {},
   "outputs": [],
   "source": [
    "from sklearn.feature_extraction.text import TfidfVectorizer\n",
    "from sklearn.linear_model import LogisticRegression\n",
    "from sklearn.ensemble import RandomForestClassifier\n",
    "from sklearn.tree import DecisionTreeClassifier\n",
    "from sklearn.svm import SVC\n",
    "from sklearn.naive_bayes import MultinomialNB\n",
    "from sklearn.metrics import accuracy_score, f1_score, confusion_matrix\n",
    "from time import time\n",
    "tfidf_vectorizer = TfidfVectorizer(max_features=5000)  \n",
    "X_train_tfidf = tfidf_vectorizer.fit_transform(X_train)\n",
    "X_test_tfidf = tfidf_vectorizer.transform(X_test)\n",
    "\n",
    "models = {\n",
    "    'Logistic Regression': LogisticRegression(),\n",
    "    'Random Forest': RandomForestClassifier(),\n",
    "    'Decision Tree': DecisionTreeClassifier(),\n",
    "    'Support Vector Machine': SVC(),\n",
    "    'Naive Bayes': MultinomialNB()\n",
    "}\n",
    "\n",
    "results = {}"
   ]
  },
  {
   "cell_type": "code",
   "execution_count": 16,
   "id": "7f79c97e-4974-42f7-9913-ffb1f42e2bca",
   "metadata": {},
   "outputs": [
    {
     "data": {
      "image/png": "[encoded data removed]",
      "text/plain": [
       "<Figure size 400x300 with 2 Axes>"
      ]
     },
     "metadata": {},
     "output_type": "display_data"
    },
    {
     "data": {
      "image/png": "[encoded data removed]",
      "text/plain": [
       "<Figure size 400x300 with 2 Axes>"
      ]
     },
     "metadata": {},
     "output_type": "display_data"
    },
    {
     "data": {
      "image/png": "[encoded data removed]",
      "text/plain": [
       "<Figure size 400x300 with 2 Axes>"
      ]
     },
     "metadata": {},
     "output_type": "display_data"
    },
    {
     "data": {
      "image/png": "[encoded data removed]",
      "text/plain": [
       "<Figure size 400x300 with 2 Axes>"
      ]
     },
     "metadata": {},
     "output_type": "display_data"
    },
    {
     "data": {
      "image/png": "[encoded data removed]",
      "text/plain": [
       "<Figure size 400x300 with 2 Axes>"
      ]
     },
     "metadata": {},
     "output_type": "display_data"
    },
    {
     "name": "stdout",
     "output_type": "stream",
     "text": [
      "Results for Logistic Regression:\n",
      "Accuracy: 0.8197530864197531\n",
      "F1 Score: 0.7773347067436004\n",
      "Precision: 0.7887559613638983\n",
      "Recall: 0.8197530864197531\n",
      "Time Taken: 0.6313900947570801\n",
      "\n",
      "\n",
      "Results for Random Forest:\n",
      "Accuracy: 0.825925925925926\n",
      "F1 Score: 0.7855332170782326\n",
      "Precision: 0.8014085507107175\n",
      "Recall: 0.825925925925926\n",
      "Time Taken: 11.889887809753418\n",
      "\n",
      "\n",
      "Results for Decision Tree:\n",
      "Accuracy: 0.769753086419753\n",
      "F1 Score: 0.7642601818994381\n",
      "Precision: 0.7594635145417874\n",
      "Recall: 0.769753086419753\n",
      "Time Taken: 2.9716508388519287\n",
      "\n",
      "\n",
      "Results for Support Vector Machine:\n",
      "Accuracy: 0.8222222222222222\n",
      "F1 Score: 0.7626199908472472\n",
      "Precision: 0.8175348654224868\n",
      "Recall: 0.8222222222222222\n",
      "Time Taken: 7.06134557723999\n",
      "\n",
      "\n",
      "Results for Naive Bayes:\n",
      "Accuracy: 0.8166666666666667\n",
      "F1 Score: 0.7457158117800688\n",
      "Precision: 0.8300167212091333\n",
      "Recall: 0.8166666666666667\n",
      "Time Taken: 0.06531095504760742\n",
      "\n",
      "\n"
     ]
    }
   ],
   "source": [
    "import matplotlib.pyplot as plt\n",
    "import seaborn as sns\n",
    "from sklearn.metrics import precision_score, recall_score, accuracy_score, f1_score, confusion_matrix\n",
    "from time import time\n",
    "\n",
    "# Dictionary to store results\n",
    "results = {}\n",
    "\n",
    "# Iterate over each model\n",
    "for model_name, model in models.items():\n",
    "    start_time = time()\n",
    "    \n",
    "    # Train the model\n",
    "    model.fit(X_train_tfidf, y_train)\n",
    "    \n",
    "    # Predict on the test set\n",
    "    y_pred = model.predict(X_test_tfidf)\n",
    "    \n",
    "    # Calculate metrics\n",
    "    accuracy = accuracy_score(y_test, y_pred)\n",
    "    f1 = f1_score(y_test, y_pred, average='weighted')\n",
    "    precision = precision_score(y_test, y_pred, average='weighted')\n",
    "    recall = recall_score(y_test, y_pred, average='weighted')\n",
    "    conf_matrix = confusion_matrix(y_test, y_pred)\n",
    "    time_taken = time() - start_time\n",
    "    \n",
    "    # Save results\n",
    "    results[model_name] = {\n",
    "        'Accuracy': accuracy,\n",
    "        'F1 Score': f1,\n",
    "        'Precision': precision,\n",
    "        'Recall': recall,\n",
    "        'Confusion Matrix': conf_matrix,\n",
    "        'Time Taken': time_taken\n",
    "    }\n",
    "    \n",
    "    # Plot confusion matrix as heatmap\n",
    "    plt.figure(figsize=(4,3))\n",
    "    sns.heatmap(conf_matrix, annot=True, fmt='d', cmap='Blues', xticklabels=model.classes_, yticklabels=model.classes_)\n",
    "    plt.title(f'Confusion Matrix for {model_name}')\n",
    "    plt.xlabel('Predicted')\n",
    "    plt.ylabel('Actual')\n",
    "    plt.show()\n",
    "\n",
    "# Print results\n",
    "for model_name, metrics in results.items():\n",
    "    print(f\"Results for {model_name}:\")\n",
    "    for metric_name, value in metrics.items():\n",
    "        if metric_name != 'Confusion Matrix':\n",
    "            print(f\"{metric_name}: {value}\")\n",
    "    print(\"\\n\")\n"
   ]
  },
  {
   "cell_type": "code",
   "execution_count": 17,
   "id": "02bd317f-e2ca-4cdd-a03d-da8de4356dc4",
   "metadata": {},
   "outputs": [
    {
     "name": "stdout",
     "output_type": "stream",
     "text": [
      "\n",
      "Model: Logistic Regression\n",
      "Accuracy: 0.8198\n",
      "F1 Score: 0.7773\n",
      "Confusion Matrix:\n",
      "[[  57  252    0]\n",
      " [  35 1271    0]\n",
      " [   0    5    0]]\n",
      "Time Taken: 0.6314 seconds\n",
      "\n",
      "Model: Random Forest\n",
      "Accuracy: 0.8259\n",
      "F1 Score: 0.7855\n",
      "Confusion Matrix:\n",
      "[[  63  246    0]\n",
      " [  31 1275    0]\n",
      " [   0    5    0]]\n",
      "Time Taken: 11.8899 seconds\n",
      "\n",
      "Model: Decision Tree\n",
      "Accuracy: 0.7698\n",
      "F1 Score: 0.7643\n",
      "Confusion Matrix:\n",
      "[[ 109  199    1]\n",
      " [ 166 1138    2]\n",
      " [   1    4    0]]\n",
      "Time Taken: 2.9717 seconds\n",
      "\n",
      "Model: Support Vector Machine\n",
      "Accuracy: 0.8222\n",
      "F1 Score: 0.7626\n",
      "Confusion Matrix:\n",
      "[[  34  275    0]\n",
      " [   8 1298    0]\n",
      " [   0    5    0]]\n",
      "Time Taken: 7.0613 seconds\n",
      "\n",
      "Model: Naive Bayes\n",
      "Accuracy: 0.8167\n",
      "F1 Score: 0.7457\n",
      "Confusion Matrix:\n",
      "[[  19  290    0]\n",
      " [   2 1304    0]\n",
      " [   0    5    0]]\n",
      "Time Taken: 0.0653 seconds\n"
     ]
    }
   ],
   "source": [
    "for model_name, metrics in results.items():\n",
    "    print(f\"\\nModel: {model_name}\")\n",
    "    print(f\"Accuracy: {metrics['Accuracy']:.4f}\")\n",
    "    print(f\"F1 Score: {metrics['F1 Score']:.4f}\")\n",
    "    print(f\"Confusion Matrix:\\n{metrics['Confusion Matrix']}\")\n",
    "    print(f\"Time Taken: {metrics['Time Taken']:.4f} seconds\")\n"
   ]
  },
  {
   "cell_type": "code",
   "execution_count": 18,
   "id": "b0eb0bfa-30f7-408e-9684-fa6f3d6a385c",
   "metadata": {},
   "outputs": [],
   "source": [
    "from tensorflow.keras.preprocessing.text import Tokenizer\n",
    "from tensorflow.keras.preprocessing.sequence import pad_sequences\n",
    "\n",
    "# Tokenization\n",
    "max_words = 10000\n",
    "max_len = 100\n",
    "\n",
    "tokenizer = Tokenizer(num_words=max_words, oov_token='<OOV>')\n",
    "tokenizer.fit_on_texts(X_train)\n",
    "\n",
    "# Convert text to sequences\n",
    "X_train_seq = tokenizer.texts_to_sequences(X_train)\n",
    "X_test_seq = tokenizer.texts_to_sequences(X_test)\n",
    "\n",
    "# Pad sequences\n",
    "X_train_padded = pad_sequences(X_train_seq, maxlen=max_len, padding='post', truncating='post')\n",
    "X_test_padded = pad_sequences(X_test_seq, maxlen=max_len, padding='post', truncating='post')\n"
   ]
  },
  {
   "cell_type": "code",
   "execution_count": 19,
   "id": "e98b8db3-653d-4e65-be61-51047b92eda8",
   "metadata": {},
   "outputs": [],
   "source": [
    "import pandas as pd\n",
    "from sklearn.model_selection import train_test_split\n",
    "from sklearn.preprocessing import LabelEncoder\n",
    "from tensorflow.keras.preprocessing.text import Tokenizer\n",
    "from tensorflow.keras.preprocessing.sequence import pad_sequences\n",
    "\n",
    "# Encode the target labels (convert to string first)\n",
    "encoder = LabelEncoder()\n",
    "df['Hateful'] = encoder.fit_transform(df['Hateful'].astype(str))\n",
    "\n",
    "# Split the dataset\n",
    "X_train, X_test, y_train, y_test = train_test_split(\n",
    "    df['preprocessed_text'], df['Hateful'], test_size=0.2, random_state=42\n",
    ")\n",
    "\n",
    "# Tokenization parameters\n",
    "max_words = 10000  # Vocabulary size\n",
    "max_len = 150      # Max sequence length\n",
    "\n",
    "# Tokenizer\n",
    "tokenizer = Tokenizer(num_words=max_words)\n",
    "tokenizer.fit_on_texts(X_train)\n",
    "\n",
    "# Convert texts to sequences and pad them\n",
    "X_train_seq = tokenizer.texts_to_sequences(X_train)\n",
    "X_test_seq = tokenizer.texts_to_sequences(X_test)\n",
    "\n",
    "X_train_pad = pad_sequences(X_train_seq, maxlen=max_len)\n",
    "X_test_pad = pad_sequences(X_test_seq, maxlen=max_len)\n",
    "\n",
    "# Labels as arrays\n",
    "y_train = y_train.values\n",
    "y_test = y_test.values\n"
   ]
  },
  {
   "cell_type": "code",
   "execution_count": 20,
   "id": "90dcd8a5-b465-4386-9639-71005b5a68ae",
   "metadata": {},
   "outputs": [
    {
     "name": "stdout",
     "output_type": "stream",
     "text": [
      "X_train shape: (6479, 150)\n",
      "X_test shape: (1620, 150)\n"
     ]
    }
   ],
   "source": [
    "# Tokenization\n",
    "max_words = 10000  # Maximum vocabulary size\n",
    "max_len = 150      # Maximum sequence length\n",
    "\n",
    "# Initialize the tokenizer\n",
    "tokenizer = Tokenizer(num_words=max_words, oov_token='<OOV>')\n",
    "\n",
    "# Fit the tokenizer on training text\n",
    "tokenizer.fit_on_texts(X_train)\n",
    "\n",
    "# Convert text to sequences\n",
    "X_train_seq = tokenizer.texts_to_sequences(X_train)\n",
    "X_test_seq = tokenizer.texts_to_sequences(X_test)\n",
    "\n",
    "# Pad sequences to ensure uniform input size\n",
    "X_train_padded = pad_sequences(X_train_seq, maxlen=max_len, padding='post', truncating='post')\n",
    "X_test_padded = pad_sequences(X_test_seq, maxlen=max_len, padding='post', truncating='post')\n",
    "\n",
    "# Ensure all data is in NumPy format\n",
    "X_train_padded = np.array(X_train_padded)\n",
    "X_test_padded = np.array(X_test_padded)\n",
    "y_train = np.array(y_train)\n",
    "y_test = np.array(y_test)\n",
    "\n",
    "# Print the shapes for verification\n",
    "print(\"X_train shape:\", X_train_padded.shape)\n",
    "print(\"X_test shape:\", X_test_padded.shape)\n"
   ]
  },
  {
   "cell_type": "code",
   "execution_count": 21,
   "id": "bb047d3a-a976-4ed0-afbd-705f9d6c1a5f",
   "metadata": {},
   "outputs": [],
   "source": [
    "from tensorflow.keras.models import Sequential\n",
    "from tensorflow.keras.layers import Embedding, Conv1D, GlobalMaxPooling1D, Dense, Dropout\n",
    "\n",
    "# CNN Model\n",
    "cnn_model = Sequential()\n",
    "\n",
    "# Embedding layer\n",
    "cnn_model.add(Embedding(input_dim=max_words, output_dim=128, input_length=max_len))\n",
    "\n",
    "# CNN layers\n",
    "cnn_model.add(Conv1D(filters=128, kernel_size=5, activation='relu'))\n",
    "cnn_model.add(GlobalMaxPooling1D())\n",
    "\n",
    "# Fully connected layers\n",
    "cnn_model.add(Dense(64, activation='relu'))\n",
    "cnn_model.add(Dropout(0.5))\n",
    "cnn_model.add(Dense(1, activation='sigmoid'))  # Binary classification\n",
    "\n",
    "# Compile the model\n",
    "cnn_model.compile(optimizer='adam', loss='binary_crossentropy', metrics=['accuracy'])\n"
   ]
  },
  {
   "cell_type": "code",
   "execution_count": 22,
   "id": "ad97ad73-f3f2-4e39-aa7d-d89a6e6e813f",
   "metadata": {},
   "outputs": [],
   "source": [
    "from sklearn.preprocessing import LabelEncoder\n",
    "import numpy as np\n",
    "\n",
    "# Initialize LabelEncoder\n",
    "label_encoder = LabelEncoder()\n",
    "\n",
    "# Fit and transform labels to numeric values\n",
    "y_train = label_encoder.fit_transform(y_train)\n",
    "y_test = label_encoder.transform(y_test)  # Use transform (not fit_transform) to keep consistency\n",
    "\n",
    "# Convert to float32 (or int32) for model compatibility\n",
    "y_train = np.array(y_train).astype('float32')\n",
    "y_test = np.array(y_test).astype('float32')\n"
   ]
  },
  {
   "cell_type": "code",
   "execution_count": 23,
   "id": "c7a93f4c-e043-46d8-b94e-397e7a979847",
   "metadata": {},
   "outputs": [
    {
     "name": "stdout",
     "output_type": "stream",
     "text": [
      "Epoch 1/10\n",
      "203/203 [==============================] - 9s 41ms/step - loss: -6122.3145 - accuracy: 0.1861 - val_loss: -36324.5078 - val_accuracy: 0.1969\n",
      "Epoch 2/10\n",
      "203/203 [==============================] - 9s 45ms/step - loss: -295210.1875 - accuracy: 0.1875 - val_loss: -837662.5000 - val_accuracy: 0.1969\n",
      "Epoch 3/10\n",
      "203/203 [==============================] - 7s 34ms/step - loss: -2336714.5000 - accuracy: 0.1875 - val_loss: -4689181.5000 - val_accuracy: 0.1969\n",
      "Epoch 4/10\n",
      "203/203 [==============================] - 7s 34ms/step - loss: -9036408.0000 - accuracy: 0.1875 - val_loss: -15033775.0000 - val_accuracy: 0.1969\n",
      "Epoch 5/10\n",
      "203/203 [==============================] - 8s 38ms/step - loss: -24356864.0000 - accuracy: 0.1875 - val_loss: -36167020.0000 - val_accuracy: 0.1969\n",
      "Epoch 6/10\n",
      "203/203 [==============================] - 7s 36ms/step - loss: -52392448.0000 - accuracy: 0.1875 - val_loss: -72498768.0000 - val_accuracy: 0.1969\n",
      "Epoch 7/10\n",
      "203/203 [==============================] - 7s 36ms/step - loss: -98062808.0000 - accuracy: 0.1875 - val_loss: -128856024.0000 - val_accuracy: 0.1969\n",
      "Epoch 8/10\n",
      "203/203 [==============================] - 9s 42ms/step - loss: -165303968.0000 - accuracy: 0.1875 - val_loss: -209774848.0000 - val_accuracy: 0.1969\n",
      "Epoch 9/10\n",
      "203/203 [==============================] - 10s 48ms/step - loss: -259562432.0000 - accuracy: 0.1875 - val_loss: -320294688.0000 - val_accuracy: 0.1969\n",
      "Epoch 10/10\n",
      "203/203 [==============================] - 11s 56ms/step - loss: -385190400.0000 - accuracy: 0.1875 - val_loss: -465042816.0000 - val_accuracy: 0.1969\n"
     ]
    }
   ],
   "source": [
    "# Train the model using the padded sequences\n",
    "cnn_history = cnn_model.fit(\n",
    "    X_train_padded, y_train,\n",
    "    epochs=10, batch_size=32,\n",
    "    validation_data=(X_test_padded, y_test)\n",
    ")\n"
   ]
  },
  {
   "cell_type": "code",
   "execution_count": 40,
   "id": "e09fcf36-7467-4407-bac4-6acbb8ba49b0",
   "metadata": {},
   "outputs": [
    {
     "name": "stdout",
     "output_type": "stream",
     "text": [
      "51/51 [==============================] - 1s 11ms/step - loss: -622959296.0000 - accuracy: 0.1969\n",
      "CNN Accuracy: 19.69%\n"
     ]
    }
   ],
   "source": [
    "# Evaluate the CNN model\n",
    "cnn_loss, cnn_accuracy = cnn_model.evaluate(X_test_padded, y_test)\n",
    "print(f\"CNN Accuracy: {cnn_accuracy * 100:.2f}%\")\n"
   ]
  },
  {
   "cell_type": "code",
   "execution_count": 24,
   "id": "ee63e3f4-5ad2-4f6f-9b16-3e6239c11e87",
   "metadata": {},
   "outputs": [
    {
     "name": "stdout",
     "output_type": "stream",
     "text": [
      "Epoch 1/10\n",
      "203/203 [==============================] - 25s 113ms/step - loss: -89.0858 - accuracy: 0.1869 - val_loss: -236.0093 - val_accuracy: 0.1969\n",
      "Epoch 2/10\n",
      "203/203 [==============================] - 20s 98ms/step - loss: -510.8068 - accuracy: 0.1875 - val_loss: -848.7140 - val_accuracy: 0.1969\n",
      "Epoch 3/10\n",
      "203/203 [==============================] - 21s 102ms/step - loss: -1332.6373 - accuracy: 0.1875 - val_loss: -1849.2606 - val_accuracy: 0.1969\n",
      "Epoch 4/10\n",
      "203/203 [==============================] - 22s 111ms/step - loss: -2514.2576 - accuracy: 0.1875 - val_loss: -3200.8743 - val_accuracy: 0.1969\n",
      "Epoch 5/10\n",
      "203/203 [==============================] - 23s 113ms/step - loss: -4033.5542 - accuracy: 0.1875 - val_loss: -4888.4224 - val_accuracy: 0.1969\n",
      "Epoch 6/10\n",
      "203/203 [==============================] - 21s 104ms/step - loss: -5880.2188 - accuracy: 0.1875 - val_loss: -6890.2246 - val_accuracy: 0.1969\n",
      "Epoch 7/10\n",
      "203/203 [==============================] - 22s 106ms/step - loss: -8081.7651 - accuracy: 0.1875 - val_loss: -9195.8809 - val_accuracy: 0.1969\n",
      "Epoch 8/10\n",
      "203/203 [==============================] - 21s 104ms/step - loss: -10532.7295 - accuracy: 0.1875 - val_loss: -11771.1855 - val_accuracy: 0.1969\n",
      "Epoch 9/10\n",
      "203/203 [==============================] - 22s 106ms/step - loss: -13300.5518 - accuracy: 0.1875 - val_loss: -14620.5107 - val_accuracy: 0.1969\n",
      "Epoch 10/10\n",
      "203/203 [==============================] - 21s 104ms/step - loss: -16364.0439 - accuracy: 0.1875 - val_loss: -17729.4941 - val_accuracy: 0.1969\n"
     ]
    }
   ],
   "source": [
    "from tensorflow.keras.models import Sequential\n",
    "from tensorflow.keras.layers import Embedding, LSTM, Dense, Dropout\n",
    "\n",
    "# LSTM Model\n",
    "lstm_model = Sequential()\n",
    "\n",
    "# Embedding layer\n",
    "lstm_model.add(Embedding(input_dim=max_words, output_dim=128, input_length=max_len))\n",
    "\n",
    "# LSTM layer\n",
    "lstm_model.add(LSTM(128, return_sequences=False))\n",
    "\n",
    "# Fully connected layers\n",
    "lstm_model.add(Dense(64, activation='relu'))\n",
    "lstm_model.add(Dropout(0.5))\n",
    "lstm_model.add(Dense(1, activation='sigmoid'))  # Binary classification\n",
    "\n",
    "# Compile the model\n",
    "lstm_model.compile(optimizer='adam', loss='binary_crossentropy', metrics=['accuracy'])\n",
    "\n",
    "# Train the LSTM model\n",
    "lstm_history = lstm_model.fit(\n",
    "    X_train_padded, y_train,\n",
    "    epochs=10, batch_size=32,\n",
    "    validation_data=(X_test_padded, y_test)\n",
    ")\n"
   ]
  },
  {
   "cell_type": "code",
   "execution_count": 44,
   "id": "5691efb9-a611-4528-b827-70d0d79d579e",
   "metadata": {},
   "outputs": [
    {
     "name": "stdout",
     "output_type": "stream",
     "text": [
      "Epoch 1/10\n",
      "203/203 [==============================] - 84s 343ms/step - loss: -197.9636 - accuracy: 0.1868 - val_loss: -544.3572 - val_accuracy: 0.1969\n",
      "Epoch 2/10\n",
      "203/203 [==============================] - 66s 328ms/step - loss: -1212.4829 - accuracy: 0.1875 - val_loss: -2023.9355 - val_accuracy: 0.1969\n",
      "Epoch 3/10\n",
      "203/203 [==============================] - 69s 337ms/step - loss: -3173.8906 - accuracy: 0.1875 - val_loss: -4427.8813 - val_accuracy: 0.1969\n",
      "Epoch 4/10\n",
      "203/203 [==============================] - 74s 364ms/step - loss: -6048.5166 - accuracy: 0.1875 - val_loss: -7703.2944 - val_accuracy: 0.1969\n",
      "Epoch 5/10\n",
      "203/203 [==============================] - 69s 338ms/step - loss: -9729.9209 - accuracy: 0.1875 - val_loss: -11784.1318 - val_accuracy: 0.1969\n",
      "Epoch 6/10\n",
      "203/203 [==============================] - 67s 331ms/step - loss: -14305.2988 - accuracy: 0.1875 - val_loss: -16637.8867 - val_accuracy: 0.1969\n",
      "Epoch 7/10\n",
      "203/203 [==============================] - 49s 242ms/step - loss: -19560.7930 - accuracy: 0.1875 - val_loss: -22217.7832 - val_accuracy: 0.1969\n",
      "Epoch 8/10\n",
      "203/203 [==============================] - 36s 176ms/step - loss: -25429.0527 - accuracy: 0.1875 - val_loss: -28417.5684 - val_accuracy: 0.1969\n",
      "Epoch 9/10\n",
      "203/203 [==============================] - 35s 171ms/step - loss: -32181.7832 - accuracy: 0.1875 - val_loss: -35314.3047 - val_accuracy: 0.1969\n",
      "Epoch 10/10\n",
      "203/203 [==============================] - 35s 174ms/step - loss: -39469.5938 - accuracy: 0.1875 - val_loss: -42773.7930 - val_accuracy: 0.1969\n"
     ]
    }
   ],
   "source": [
    "from tensorflow.keras.layers import Bidirectional\n",
    "\n",
    "# Bi-LSTM Model\n",
    "bi_lstm_model = Sequential()\n",
    "\n",
    "# Embedding layer\n",
    "bi_lstm_model.add(Embedding(input_dim=max_words, output_dim=128, input_length=max_len))\n",
    "\n",
    "# Bidirectional LSTM layer\n",
    "bi_lstm_model.add(Bidirectional(LSTM(128, return_sequences=False)))\n",
    "\n",
    "# Fully connected layers\n",
    "bi_lstm_model.add(Dense(64, activation='relu'))\n",
    "bi_lstm_model.add(Dropout(0.5))\n",
    "bi_lstm_model.add(Dense(1, activation='sigmoid'))  # Binary classification\n",
    "\n",
    "# Compile the model\n",
    "bi_lstm_model.compile(optimizer='adam', loss='binary_crossentropy', metrics=['accuracy'])\n",
    "\n",
    "# Train the Bi-LSTM model\n",
    "bi_lstm_history = bi_lstm_model.fit(\n",
    "    X_train_padded, y_train,\n",
    "    epochs=10, batch_size=32,\n",
    "    validation_data=(X_test_padded, y_test)\n",
    ")\n"
   ]
  },
  {
   "cell_type": "code",
   "execution_count": 43,
   "id": "adfbb077-41df-43f7-b866-316377ffeb7e",
   "metadata": {},
   "outputs": [
    {
     "name": "stdout",
     "output_type": "stream",
     "text": [
      "51/51 [==============================] - 4s 80ms/step - loss: -28029.4199 - accuracy: 0.1969\n",
      "LSTM Accuracy: 19.69%\n"
     ]
    }
   ],
   "source": [
    "# Evaluate the CNN model\n",
    "lstm_loss, lstm_accuracy = lstm_model.evaluate(X_test_padded, y_test)\n",
    "print(f\"LSTM Accuracy: {lstm_accuracy * 100:.2f}%\")\n"
   ]
  },
  {
   "cell_type": "code",
   "execution_count": 45,
   "id": "a47d65d0-341d-428e-9e7b-6282fc6fb696",
   "metadata": {},
   "outputs": [
    {
     "name": "stdout",
     "output_type": "stream",
     "text": [
      "Model: \"model\"\n",
      "__________________________________________________________________________________________________\n",
      " Layer (type)                Output Shape                 Param #   Connected to                  \n",
      "==================================================================================================\n",
      " input_1 (InputLayer)        [(None, 150)]                0         []                            \n",
      "                                                                                                  \n",
      " embedding_3 (Embedding)     (None, 150, 128)             1280000   ['input_1[0][0]']             \n",
      "                                                                                                  \n",
      " lstm_2 (LSTM)               (None, 150, 64)              49408     ['embedding_3[0][0]']         \n",
      "                                                                                                  \n",
      " conv1d_1 (Conv1D)           (None, 148, 64)              24640     ['embedding_3[0][0]']         \n",
      "                                                                                                  \n",
      " global_max_pooling1d_1 (Gl  (None, 64)                   0         ['lstm_2[0][0]']              \n",
      " obalMaxPooling1D)                                                                                \n",
      "                                                                                                  \n",
      " global_max_pooling1d_2 (Gl  (None, 64)                   0         ['conv1d_1[0][0]']            \n",
      " obalMaxPooling1D)                                                                                \n",
      "                                                                                                  \n",
      " concatenate (Concatenate)   (None, 128)                  0         ['global_max_pooling1d_1[0][0]\n",
      "                                                                    ',                            \n",
      "                                                                     'global_max_pooling1d_2[0][0]\n",
      "                                                                    ']                            \n",
      "                                                                                                  \n",
      " dropout_3 (Dropout)         (None, 128)                  0         ['concatenate[0][0]']         \n",
      "                                                                                                  \n",
      " dense_6 (Dense)             (None, 1)                    129       ['dropout_3[0][0]']           \n",
      "                                                                                                  \n",
      "==================================================================================================\n",
      "Total params: 1354177 (5.17 MB)\n",
      "Trainable params: 1354177 (5.17 MB)\n",
      "Non-trainable params: 0 (0.00 Byte)\n",
      "__________________________________________________________________________________________________\n"
     ]
    }
   ],
   "source": [
    "from tensorflow.keras.models import Model\n",
    "from tensorflow.keras.layers import Input, Embedding, LSTM, Conv1D, GlobalMaxPooling1D, Concatenate, Dense, Dropout\n",
    "\n",
    "# Input\n",
    "input_layer = Input(shape=(max_len,))\n",
    "\n",
    "# Shared Embedding layer\n",
    "embedding = Embedding(input_dim=max_words, output_dim=128, input_length=max_len)(input_layer)\n",
    "\n",
    "# LSTM Branch\n",
    "lstm = LSTM(64, return_sequences=True)(embedding)\n",
    "lstm_pool = GlobalMaxPooling1D()(lstm)\n",
    "\n",
    "# CNN Branch\n",
    "conv = Conv1D(64, kernel_size=3, activation='relu')(embedding)\n",
    "conv_pool = GlobalMaxPooling1D()(conv)\n",
    "\n",
    "# Merge both\n",
    "merged = Concatenate()([lstm_pool, conv_pool])\n",
    "merged = Dropout(0.5)(merged)\n",
    "output = Dense(1, activation='sigmoid')(merged)\n",
    "\n",
    "# Final model\n",
    "model = Model(inputs=input_layer, outputs=output)\n",
    "model.compile(loss='binary_crossentropy', optimizer='adam', metrics=['accuracy'])\n",
    "\n",
    "model.summary()\n"
   ]
  },
  {
   "cell_type": "code",
   "execution_count": 46,
   "id": "4e8c130e-5bca-4042-9b71-eba73ed6d992",
   "metadata": {},
   "outputs": [
    {
     "name": "stdout",
     "output_type": "stream",
     "text": [
      "Epoch 1/5\n",
      "203/203 [==============================] - 37s 150ms/step - loss: -123.7893 - accuracy: 0.1874 - val_loss: -537.5457 - val_accuracy: 0.1969\n",
      "Epoch 2/5\n",
      "203/203 [==============================] - 26s 129ms/step - loss: -2371.6191 - accuracy: 0.1875 - val_loss: -5287.7368 - val_accuracy: 0.1969\n",
      "Epoch 3/5\n",
      "203/203 [==============================] - 17s 84ms/step - loss: -11274.8398 - accuracy: 0.1875 - val_loss: -18973.4375 - val_accuracy: 0.1969\n",
      "Epoch 4/5\n",
      "203/203 [==============================] - 16s 79ms/step - loss: -31379.4570 - accuracy: 0.1875 - val_loss: -45437.1562 - val_accuracy: 0.1969\n",
      "Epoch 5/5\n",
      "203/203 [==============================] - 16s 78ms/step - loss: -65643.1719 - accuracy: 0.1875 - val_loss: -87177.7109 - val_accuracy: 0.1969\n"
     ]
    }
   ],
   "source": [
    "history = model.fit(\n",
    "    X_train_pad, y_train,\n",
    "    epochs=5,\n",
    "    batch_size=32,\n",
    "    validation_data=(X_test_pad, y_test)\n",
    ")\n"
   ]
  },
  {
   "cell_type": "code",
   "execution_count": 47,
   "id": "e97e2356-08d5-48fd-9e38-cb8cccfd9b3a",
   "metadata": {},
   "outputs": [
    {
     "name": "stdout",
     "output_type": "stream",
     "text": [
      "Final Training Accuracy: 18.75%\n",
      "Final Validation Accuracy: 19.69%\n"
     ]
    }
   ],
   "source": [
    "final_train_acc = history.history['accuracy'][-1]\n",
    "final_val_acc = history.history['val_accuracy'][-1]\n",
    "\n",
    "print(f\"Final Training Accuracy: {final_train_acc * 100:.2f}%\")\n",
    "print(f\"Final Validation Accuracy: {final_val_acc * 100:.2f}%\")"
   ]
  },
  {
   "cell_type": "code",
   "execution_count": 48,
   "id": "c61a718b-a3ec-4f48-94db-df827ee22623",
   "metadata": {},
   "outputs": [
    {
     "name": "stdout",
     "output_type": "stream",
     "text": [
      "Epoch 1/10\n",
      "203/203 [==============================] - 132s 447ms/step - loss: -253.8870 - accuracy: 0.1871 - val_loss: -691.3716 - val_accuracy: 0.1969\n",
      "Epoch 2/10\n",
      "203/203 [==============================] - 66s 326ms/step - loss: -1544.7183 - accuracy: 0.1875 - val_loss: -2562.8684 - val_accuracy: 0.1969\n",
      "Epoch 3/10\n",
      "203/203 [==============================] - 67s 330ms/step - loss: -4004.2424 - accuracy: 0.1875 - val_loss: -5580.7632 - val_accuracy: 0.1969\n",
      "Epoch 4/10\n",
      "203/203 [==============================] - 56s 278ms/step - loss: -7629.2681 - accuracy: 0.1875 - val_loss: -9705.1689 - val_accuracy: 0.1969\n",
      "Epoch 5/10\n",
      "203/203 [==============================] - 64s 314ms/step - loss: -12356.8721 - accuracy: 0.1875 - val_loss: -14868.8271 - val_accuracy: 0.1969\n",
      "Epoch 6/10\n",
      "203/203 [==============================] - 64s 315ms/step - loss: -17956.6777 - accuracy: 0.1875 - val_loss: -20948.3750 - val_accuracy: 0.1969\n",
      "Epoch 7/10\n",
      "203/203 [==============================] - 60s 292ms/step - loss: -24616.0059 - accuracy: 0.1875 - val_loss: -27953.3008 - val_accuracy: 0.1969\n",
      "Epoch 8/10\n",
      "203/203 [==============================] - 61s 303ms/step - loss: -32094.8691 - accuracy: 0.1875 - val_loss: -35786.9727 - val_accuracy: 0.1969\n",
      "Epoch 9/10\n",
      "203/203 [==============================] - 61s 302ms/step - loss: -40527.9023 - accuracy: 0.1875 - val_loss: -44445.1914 - val_accuracy: 0.1969\n",
      "Epoch 10/10\n",
      "203/203 [==============================] - 62s 306ms/step - loss: -49480.9062 - accuracy: 0.1875 - val_loss: -53833.9648 - val_accuracy: 0.1969\n"
     ]
    }
   ],
   "source": [
    "from tensorflow.keras.layers import Bidirectional\n",
    "\n",
    "# Bi-LSTM Model\n",
    "bi_lstm_model = Sequential()\n",
    "\n",
    "# Embedding layer\n",
    "bi_lstm_model.add(Embedding(input_dim=max_words, output_dim=128, input_length=max_len))\n",
    "\n",
    "# Bidirectional LSTM layer\n",
    "bi_lstm_model.add(Bidirectional(LSTM(128, return_sequences=False)))\n",
    "\n",
    "# Fully connected layers\n",
    "bi_lstm_model.add(Dense(64, activation='relu'))\n",
    "bi_lstm_model.add(Dropout(0.5))\n",
    "bi_lstm_model.add(Dense(1, activation='sigmoid'))  # Binary classification\n",
    "\n",
    "# Compile the model\n",
    "bi_lstm_model.compile(optimizer='adam', loss='binary_crossentropy', metrics=['accuracy'])\n",
    "\n",
    "# Train the Bi-LSTM model\n",
    "bi_lstm_history = bi_lstm_model.fit(\n",
    "    X_train_padded, y_train,\n",
    "    epochs=10, batch_size=32,\n",
    "    validation_data=(X_test_padded, y_test)\n",
    ")\n"
   ]
  },
  {
   "cell_type": "code",
   "execution_count": 49,
   "id": "9df14312-bd60-4f90-84f1-afc8a153a3c1",
   "metadata": {},
   "outputs": [
    {
     "name": "stdout",
     "output_type": "stream",
     "text": [
      "51/51 [==============================] - 5s 62ms/step\n",
      "51/51 [==============================] - 6s 81ms/step\n",
      "51/51 [==============================] - 1s 11ms/step\n",
      "Ensemble Accuracy: 0.19691358024691358\n"
     ]
    }
   ],
   "source": [
    "from sklearn.metrics import accuracy_score\n",
    "import numpy as np\n",
    "\n",
    "# Predict probabilities from each model\n",
    "lstm_preds = lstm_model.predict(X_test_pad)\n",
    "bi_lstm_preds = bi_lstm_model.predict(X_test_pad)\n",
    "cnn_preds = cnn_model.predict(X_test_pad)\n",
    "\n",
    "# Average predictions\n",
    "avg_preds = (lstm_preds + bi_lstm_preds + cnn_preds) / 3\n",
    "final_preds = np.round(avg_preds).astype(int)\n",
    "\n",
    "# Evaluate\n",
    "print(\"Ensemble Accuracy:\", accuracy_score(y_test, final_preds))\n"
   ]
  },
  {
   "cell_type": "code",
   "execution_count": 31,
   "id": "29a8d5ce-156e-419a-ae04-34ec5137d70d",
   "metadata": {},
   "outputs": [
    {
     "data": {
      "text/plain": [
       "Index(['@renukapandit_ Just feel pura black hard tumhare ander navel tak push ho raha hai or tumhar hips per meri thighs ki takkar chap chap ko avaj kar rahi hai',\n",
       "       'Hateful', 'preprocessed_text'],\n",
       "      dtype='object')"
      ]
     },
     "execution_count": 31,
     "metadata": {},
     "output_type": "execute_result"
    }
   ],
   "source": [
    "df.columns"
   ]
  },
  {
   "cell_type": "code",
   "execution_count": 32,
   "id": "08235ae2-576a-4762-a172-472e6c789dab",
   "metadata": {},
   "outputs": [],
   "source": [
    "import pandas as pd\n",
    "\n",
    "# Assign proper column names\n",
    "df.columns = ['Post', 'Label', 'preprocessed_text']\n"
   ]
  },
  {
   "cell_type": "code",
   "execution_count": 34,
   "id": "f14cafb6-268a-4008-b12e-098756e2f0b8",
   "metadata": {},
   "outputs": [
    {
     "name": "stdout",
     "output_type": "stream",
     "text": [
      "Epoch 1/10\n",
      "203/203 [==============================] - 14s 58ms/step - loss: 0.5435 - accuracy: 0.8061 - val_loss: 0.4945 - val_accuracy: 0.7994\n",
      "Epoch 2/10\n",
      "203/203 [==============================] - 11s 55ms/step - loss: 0.3923 - accuracy: 0.8404 - val_loss: 0.4637 - val_accuracy: 0.8037\n",
      "Epoch 3/10\n",
      "203/203 [==============================] - 11s 55ms/step - loss: 0.1864 - accuracy: 0.9407 - val_loss: 0.6180 - val_accuracy: 0.8093\n",
      "Epoch 4/10\n",
      "203/203 [==============================] - 11s 55ms/step - loss: 0.0899 - accuracy: 0.9761 - val_loss: 0.7065 - val_accuracy: 0.8000\n",
      "Epoch 5/10\n",
      "203/203 [==============================] - 11s 55ms/step - loss: 0.0670 - accuracy: 0.9824 - val_loss: 0.7984 - val_accuracy: 0.8062\n",
      "Epoch 6/10\n",
      "203/203 [==============================] - 11s 55ms/step - loss: 0.0488 - accuracy: 0.9870 - val_loss: 0.9359 - val_accuracy: 0.8117\n",
      "Epoch 7/10\n",
      "203/203 [==============================] - 11s 55ms/step - loss: 0.0414 - accuracy: 0.9875 - val_loss: 0.9570 - val_accuracy: 0.8049\n",
      "Epoch 8/10\n",
      "203/203 [==============================] - 11s 55ms/step - loss: 0.0334 - accuracy: 0.9906 - val_loss: 0.9581 - val_accuracy: 0.7938\n",
      "Epoch 9/10\n",
      "203/203 [==============================] - 11s 54ms/step - loss: 0.0265 - accuracy: 0.9918 - val_loss: 1.0052 - val_accuracy: 0.7932\n",
      "Epoch 10/10\n",
      "203/203 [==============================] - 11s 55ms/step - loss: 0.0197 - accuracy: 0.9934 - val_loss: 1.0016 - val_accuracy: 0.7858\n"
     ]
    }
   ],
   "source": [
    "import pandas as pd\n",
    "from sklearn.model_selection import train_test_split\n",
    "from sklearn.preprocessing import LabelEncoder\n",
    "from tensorflow.keras.preprocessing.text import Tokenizer\n",
    "from tensorflow.keras.preprocessing.sequence import pad_sequences\n",
    "from tensorflow.keras.models import Model\n",
    "from tensorflow.keras.layers import Input, Embedding, LSTM, Conv1D, GlobalMaxPooling1D, concatenate, Dense, Dropout\n",
    "from tensorflow.keras.utils import to_categorical\n",
    "\n",
    "\n",
    "# 2. Encode string labels to integers\n",
    "label_encoder = LabelEncoder()\n",
    "df['Label'] = label_encoder.fit_transform(df['Label'])\n",
    "\n",
    "# 3. Prepare text and labels\n",
    "texts = df['Post'].astype(str).values\n",
    "num_classes = len(label_encoder.classes_)\n",
    "labels = to_categorical(df['Label'].values, num_classes=num_classes)\n",
    "\n",
    "# 4. Train-test split\n",
    "X_train, X_test, y_train, y_test = train_test_split(texts, labels, test_size=0.2, random_state=42)\n",
    "\n",
    "# 5. Tokenization and Padding\n",
    "max_words = 10000\n",
    "max_len = 100\n",
    "\n",
    "tokenizer = Tokenizer(num_words=max_words)\n",
    "tokenizer.fit_on_texts(X_train)\n",
    "X_train_seq = tokenizer.texts_to_sequences(X_train)\n",
    "X_test_seq = tokenizer.texts_to_sequences(X_test)\n",
    "\n",
    "X_train_pad = pad_sequences(X_train_seq, maxlen=max_len, padding='post')\n",
    "X_test_pad = pad_sequences(X_test_seq, maxlen=max_len, padding='post')\n",
    "\n",
    "# 6. Build Hybrid CNN + LSTM model\n",
    "input_layer = Input(shape=(max_len,))\n",
    "embedding_layer = Embedding(input_dim=max_words, output_dim=128, input_length=max_len)(input_layer)\n",
    "\n",
    "cnn_layer = Conv1D(64, 5, activation='relu')(embedding_layer)\n",
    "cnn_layer = GlobalMaxPooling1D()(cnn_layer)\n",
    "\n",
    "lstm_layer = LSTM(64)(embedding_layer)\n",
    "\n",
    "merged = concatenate([cnn_layer, lstm_layer])\n",
    "dense = Dense(64, activation='relu')(merged)\n",
    "dropout = Dropout(0.5)(dense)\n",
    "output = Dense(num_classes, activation='softmax')(dropout)\n",
    "\n",
    "model = Model(inputs=input_layer, outputs=output)\n",
    "model.compile(loss='categorical_crossentropy', optimizer='adam', metrics=['accuracy'])\n",
    "\n",
    "# 7. Train the model\n",
    "history = model.fit(\n",
    "    X_train_pad, y_train,\n",
    "    epochs=10,\n",
    "    batch_size=32,\n",
    "    validation_data=(X_test_pad, y_test)\n",
    ")\n"
   ]
  },
  {
   "cell_type": "code",
   "execution_count": 35,
   "id": "cc6c231e-97ed-410a-bbdd-9838b13629b6",
   "metadata": {},
   "outputs": [
    {
     "name": "stdout",
     "output_type": "stream",
     "text": [
      "51/51 [==============================] - 1s 14ms/step\n",
      "Test Accuracy: 0.7858024691358024\n"
     ]
    }
   ],
   "source": [
    "from sklearn.metrics import accuracy_score\n",
    "import numpy as np\n",
    "\n",
    "# Predict probabilities\n",
    "y_pred_probs = model.predict(X_test_pad)\n",
    "\n",
    "# Convert one-hot predictions and labels back to class indices\n",
    "y_pred = np.argmax(y_pred_probs, axis=1)\n",
    "y_true = np.argmax(y_test, axis=1)\n",
    "\n",
    "# Calculate accuracy\n",
    "acc = accuracy_score(y_true, y_pred)\n",
    "print(\"Test Accuracy:\", acc)\n"
   ]
  },
  {
   "cell_type": "code",
   "execution_count": 36,
   "id": "a98209aa-891c-4a06-89d0-9201b245d060",
   "metadata": {},
   "outputs": [
    {
     "name": "stdout",
     "output_type": "stream",
     "text": [
      "51/51 [==============================] - 1s 14ms/step - loss: 1.0016 - accuracy: 0.7858\n",
      "Test Accuracy: 78.58%\n"
     ]
    }
   ],
   "source": [
    "loss, accuracy = model.evaluate(X_test_pad, y_test, verbose=1)\n",
    "print(f\"Test Accuracy: {accuracy * 100:.2f}%\")\n"
   ]
  },
  {
   "cell_type": "code",
   "execution_count": null,
   "id": "1b69189d-1574-4f94-b8a0-fe1bf5f3f72e",
   "metadata": {},
   "outputs": [],
   "source": []
  },
  {
   "cell_type": "code",
   "execution_count": null,
   "id": "663d1201-32d8-4c56-b15b-7283f8304907",
   "metadata": {},
   "outputs": [],
   "source": []
  },
  {
   "cell_type": "code",
   "execution_count": null,
   "id": "31ab8d29-2dde-443c-9c39-ef77ce48e0eb",
   "metadata": {},
   "outputs": [],
   "source": []
  },
  {
   "cell_type": "code",
   "execution_count": null,
   "id": "041b126d-b88b-4e44-9907-24674409ed0f",
   "metadata": {},
   "outputs": [],
   "source": []
  },
  {
   "cell_type": "code",
   "execution_count": null,
   "id": "fd21045f-f8bf-4aa2-b69c-019ea9fb0aaf",
   "metadata": {},
   "outputs": [],
   "source": []
  },
  {
   "cell_type": "code",
   "execution_count": null,
   "id": "b610a7f7-7c38-4bb4-8d21-63366b52e41a",
   "metadata": {},
   "outputs": [],
   "source": []
  },
  {
   "cell_type": "code",
   "execution_count": null,
   "id": "ef4ea044-b9f6-457f-b771-46724541a9a6",
   "metadata": {},
   "outputs": [],
   "source": []
  },
  {
   "cell_type": "code",
   "execution_count": null,
   "id": "1e9eb743-d1b4-431b-b017-1472f124f850",
   "metadata": {},
   "outputs": [],
   "source": []
  },
  {
   "cell_type": "code",
   "execution_count": null,
   "id": "74cf318f-2f58-4193-96f5-3c5d75d3f1da",
   "metadata": {},
   "outputs": [],
   "source": []
  },
  {
   "cell_type": "code",
   "execution_count": null,
   "id": "a9fa909a-6a17-4660-8900-fe7a35068487",
   "metadata": {},
   "outputs": [],
   "source": []
  },
  {
   "cell_type": "code",
   "execution_count": null,
   "id": "2c235697-f220-4414-8a43-60450ee09786",
   "metadata": {},
   "outputs": [],
   "source": []
  },
  {
   "cell_type": "code",
   "execution_count": null,
   "id": "c97b5db5-bcc8-4879-8e74-d7c13723feb1",
   "metadata": {},
   "outputs": [],
   "source": []
  },
  {
   "cell_type": "code",
   "execution_count": null,
   "id": "b1986ffe-9c2c-49a3-8d73-1b1c97300edc",
   "metadata": {},
   "outputs": [],
   "source": []
  },
  {
   "cell_type": "code",
   "execution_count": null,
   "id": "13aff1d9-94cc-4a9b-b0f8-ece9dd92a8aa",
   "metadata": {},
   "outputs": [],
   "source": []
  },
  {
   "cell_type": "code",
   "execution_count": null,
   "id": "f2b42692-f32f-4256-ab91-6fb1480151f4",
   "metadata": {},
   "outputs": [],
   "source": []
  },
  {
   "cell_type": "code",
   "execution_count": null,
   "id": "23a779fd-b191-4fb0-8132-7ac8b937c4a6",
   "metadata": {},
   "outputs": [],
   "source": []
  },
  {
   "cell_type": "code",
   "execution_count": null,
   "id": "adcd92cb-f385-4342-8055-cc63cedeefc9",
   "metadata": {},
   "outputs": [],
   "source": []
  },
  {
   "cell_type": "code",
   "execution_count": null,
   "id": "22744cb4-1af5-4885-9951-982f58c93119",
   "metadata": {},
   "outputs": [],
   "source": []
  },
  {
   "cell_type": "code",
   "execution_count": null,
   "id": "e989d605-fc15-45b0-a503-27edc7cfc246",
   "metadata": {},
   "outputs": [],
   "source": []
  },
  {
   "cell_type": "code",
   "execution_count": null,
   "id": "f46d2f55-67ff-49fa-858e-6e802f2a4e51",
   "metadata": {},
   "outputs": [],
   "source": []
  },
  {
   "cell_type": "code",
   "execution_count": null,
   "id": "45c94a86-0a50-48a0-8bf2-54ae01b1cf27",
   "metadata": {},
   "outputs": [],
   "source": []
  },
  {
   "cell_type": "code",
   "execution_count": null,
   "id": "345ee194-7b1f-46ee-aff3-18b4407fa54d",
   "metadata": {},
   "outputs": [],
   "source": []
  },
  {
   "cell_type": "code",
   "execution_count": null,
   "id": "6c3353a1-f2a4-401c-a782-17b0d4d1b6bc",
   "metadata": {},
   "outputs": [],
   "source": []
  },
  {
   "cell_type": "code",
   "execution_count": null,
   "id": "ce3d1e6e-e83b-48f2-a281-9365d7d005b4",
   "metadata": {},
   "outputs": [],
   "source": []
  },
  {
   "cell_type": "code",
   "execution_count": null,
   "id": "085ffcdc-4166-4f92-97f9-d663199f3902",
   "metadata": {},
   "outputs": [],
   "source": []
  },
  {
   "cell_type": "code",
   "execution_count": null,
   "id": "773b9240-4a29-42db-b643-8713a4858e9d",
   "metadata": {},
   "outputs": [],
   "source": []
  },
  {
   "cell_type": "code",
   "execution_count": null,
   "id": "e5e7645c-b289-48f1-ac88-7d1c64032233",
   "metadata": {},
   "outputs": [],
   "source": []
  },
  {
   "cell_type": "code",
   "execution_count": null,
   "id": "5ffcae21-207c-4783-864a-18a07e5b3090",
   "metadata": {},
   "outputs": [],
   "source": []
  },
  {
   "cell_type": "code",
   "execution_count": null,
   "id": "0ee32f1b-4358-4b18-affc-364ac6d1746e",
   "metadata": {},
   "outputs": [],
   "source": []
  },
  {
   "cell_type": "code",
   "execution_count": null,
   "id": "fad3f9eb-dc24-4055-a508-1fc695335157",
   "metadata": {},
   "outputs": [],
   "source": []
  },
  {
   "cell_type": "code",
   "execution_count": null,
   "id": "fd9ee4c5-0468-4993-b17a-64d3680cfc3b",
   "metadata": {},
   "outputs": [],
   "source": []
  },
  {
   "cell_type": "code",
   "execution_count": null,
   "id": "8e45435a-1e01-404e-aa76-9e8e9c0ec87a",
   "metadata": {},
   "outputs": [],
   "source": []
  },
  {
   "cell_type": "code",
   "execution_count": null,
   "id": "e962a1d6-a412-4f10-8bd0-0ec3ca67fa12",
   "metadata": {},
   "outputs": [],
   "source": []
  },
  {
   "cell_type": "code",
   "execution_count": null,
   "id": "330ff374-c851-40e7-b1c1-4cf7fe76ce4d",
   "metadata": {},
   "outputs": [],
   "source": []
  },
  {
   "cell_type": "code",
   "execution_count": null,
   "id": "13328fac-1c5f-4faf-9cbe-b0bd14456432",
   "metadata": {},
   "outputs": [],
   "source": []
  },
  {
   "cell_type": "code",
   "execution_count": null,
   "id": "38c53190-af4f-489f-9eff-9c3bdf964f66",
   "metadata": {},
   "outputs": [],
   "source": []
  },
  {
   "cell_type": "code",
   "execution_count": null,
   "id": "e944ce94-e82d-4a83-82f4-55cce192bcb6",
   "metadata": {},
   "outputs": [],
   "source": []
  },
  {
   "cell_type": "code",
   "execution_count": null,
   "id": "49010d4e-b63e-479b-9b66-6e682195fbb6",
   "metadata": {},
   "outputs": [],
   "source": []
  },
  {
   "cell_type": "code",
   "execution_count": null,
   "id": "b5a6b4b3-fe6e-41f8-a1d5-2121cbb3e9e8",
   "metadata": {},
   "outputs": [],
   "source": []
  },
  {
   "cell_type": "code",
   "execution_count": null,
   "id": "59ae52c2-048f-4481-897e-3125394203cc",
   "metadata": {},
   "outputs": [],
   "source": []
  },
  {
   "cell_type": "code",
   "execution_count": null,
   "id": "cb3140ce-0a2b-45d3-84f7-823053884017",
   "metadata": {},
   "outputs": [],
   "source": []
  },
  {
   "cell_type": "code",
   "execution_count": null,
   "id": "fb1ffd53-8361-4d9c-a781-3381599793cf",
   "metadata": {},
   "outputs": [],
   "source": []
  },
  {
   "cell_type": "code",
   "execution_count": null,
   "id": "31352571-8131-4342-8138-3a8ac3e5c8e0",
   "metadata": {},
   "outputs": [],
   "source": []
  },
  {
   "cell_type": "code",
   "execution_count": null,
   "id": "53e463d5-26f1-4b67-ad8f-34691f51eaf9",
   "metadata": {},
   "outputs": [],
   "source": []
  },
  {
   "cell_type": "code",
   "execution_count": null,
   "id": "ecae6577-b7fe-4bde-8685-bc63e99b0f2e",
   "metadata": {},
   "outputs": [],
   "source": []
  },
  {
   "cell_type": "code",
   "execution_count": null,
   "id": "b3f4cbec-84e7-48b1-9b95-c6a82f9b3e7e",
   "metadata": {},
   "outputs": [],
   "source": []
  },
  {
   "cell_type": "code",
   "execution_count": null,
   "id": "7f3f6d79-01eb-4c87-8c26-d4590bf692cd",
   "metadata": {},
   "outputs": [],
   "source": []
  },
  {
   "cell_type": "code",
   "execution_count": null,
   "id": "68624c7c-c509-4030-89fb-1f7fdd1892fa",
   "metadata": {},
   "outputs": [],
   "source": []
  },
  {
   "cell_type": "code",
   "execution_count": null,
   "id": "f62a93a8-e3f4-44f1-afb1-06375522810f",
   "metadata": {},
   "outputs": [],
   "source": []
  },
  {
   "cell_type": "code",
   "execution_count": null,
   "id": "dcf51bb0-c0dc-48fd-a687-4d9157026882",
   "metadata": {},
   "outputs": [],
   "source": []
  },
  {
   "cell_type": "code",
   "execution_count": null,
   "id": "8f2d7921-9e20-4c02-8d3d-7fd08aa093c0",
   "metadata": {},
   "outputs": [],
   "source": []
  },
  {
   "cell_type": "code",
   "execution_count": null,
   "id": "3d81da54-0f1a-44d5-a280-7c3bb4fa491f",
   "metadata": {},
   "outputs": [],
   "source": []
  },
  {
   "cell_type": "code",
   "execution_count": null,
   "id": "e3186954-ea25-4ccb-8707-a7a7a6e1f4e3",
   "metadata": {},
   "outputs": [],
   "source": []
  },
  {
   "cell_type": "code",
   "execution_count": null,
   "id": "ac8cd4b5-36a6-4acb-a726-bfb6725899e2",
   "metadata": {},
   "outputs": [],
   "source": []
  },
  {
   "cell_type": "code",
   "execution_count": null,
   "id": "57c093bd-8528-45f0-aced-c14af1d83da3",
   "metadata": {},
   "outputs": [],
   "source": []
  },
  {
   "cell_type": "code",
   "execution_count": null,
   "id": "6718f672-9b1e-451e-824c-4e1c53fea963",
   "metadata": {},
   "outputs": [],
   "source": []
  },
  {
   "cell_type": "code",
   "execution_count": null,
   "id": "a836a827-c38d-470a-8b33-b0bca63cc507",
   "metadata": {},
   "outputs": [],
   "source": []
  },
  {
   "cell_type": "code",
   "execution_count": null,
   "id": "517a95fb-ca62-4a51-8f72-6449052e023a",
   "metadata": {},
   "outputs": [],
   "source": []
  },
  {
   "cell_type": "code",
   "execution_count": null,
   "id": "46e12402-97c7-4b7b-8a4c-4d9443963f28",
   "metadata": {},
   "outputs": [],
   "source": []
  },
  {
   "cell_type": "code",
   "execution_count": null,
   "id": "c7fcd904-3aeb-4cd6-80c1-b4495aa11594",
   "metadata": {},
   "outputs": [],
   "source": []
  },
  {
   "cell_type": "code",
   "execution_count": null,
   "id": "08302cfa-f42c-42a9-ac7a-8a76de881ce2",
   "metadata": {},
   "outputs": [],
   "source": []
  },
  {
   "cell_type": "code",
   "execution_count": null,
   "id": "96d741a4-2a6b-418d-b22d-43fd6aebfef5",
   "metadata": {},
   "outputs": [],
   "source": []
  },
  {
   "cell_type": "code",
   "execution_count": null,
   "id": "a9f9b354-9461-408d-8361-470fe757c239",
   "metadata": {},
   "outputs": [],
   "source": []
  },
  {
   "cell_type": "code",
   "execution_count": null,
   "id": "a3109eaa-bdbd-40de-9637-a55d1233c861",
   "metadata": {},
   "outputs": [],
   "source": []
  },
  {
   "cell_type": "code",
   "execution_count": null,
   "id": "d94d4976-1d97-4b10-a76c-7fc451680b72",
   "metadata": {},
   "outputs": [],
   "source": []
  },
  {
   "cell_type": "code",
   "execution_count": null,
   "id": "9ad6db94-1136-4281-96c9-823dd600d9a3",
   "metadata": {},
   "outputs": [],
   "source": []
  },
  {
   "cell_type": "code",
   "execution_count": null,
   "id": "c22e3a88-6ca0-4e69-90ba-023966ab39a3",
   "metadata": {},
   "outputs": [],
   "source": []
  },
  {
   "cell_type": "code",
   "execution_count": null,
   "id": "324b6b47-ed07-44ca-8830-9182b116e59e",
   "metadata": {},
   "outputs": [],
   "source": []
  },
  {
   "cell_type": "code",
   "execution_count": null,
   "id": "96a6deb8-fd17-4080-bde6-c7fa60deb48c",
   "metadata": {},
   "outputs": [],
   "source": []
  },
  {
   "cell_type": "code",
   "execution_count": null,
   "id": "4c8fe311-06c3-4cfb-98c1-a88b99a3cf23",
   "metadata": {},
   "outputs": [],
   "source": []
  },
  {
   "cell_type": "code",
   "execution_count": null,
   "id": "ce209885-a107-41a2-b60c-98e610442160",
   "metadata": {},
   "outputs": [],
   "source": []
  },
  {
   "cell_type": "code",
   "execution_count": null,
   "id": "0299364e-b2dd-4473-b18f-876798e7160b",
   "metadata": {},
   "outputs": [],
   "source": []
  },
  {
   "cell_type": "code",
   "execution_count": null,
   "id": "aa83ba41-a36a-4e53-ac01-6b78979302ee",
   "metadata": {},
   "outputs": [],
   "source": []
  },
  {
   "cell_type": "code",
   "execution_count": null,
   "id": "6284188f-364e-4c98-8401-bca88ddc8b6f",
   "metadata": {},
   "outputs": [],
   "source": []
  },
  {
   "cell_type": "code",
   "execution_count": null,
   "id": "a394ae2d-879e-4605-86e7-87e011b40454",
   "metadata": {},
   "outputs": [],
   "source": []
  },
  {
   "cell_type": "code",
   "execution_count": null,
   "id": "fba9638e-b93b-4f76-96a4-ab0e15ef3932",
   "metadata": {},
   "outputs": [],
   "source": []
  },
  {
   "cell_type": "code",
   "execution_count": null,
   "id": "90484db5-48c9-4a05-aa18-d588271a75dd",
   "metadata": {},
   "outputs": [],
   "source": []
  },
  {
   "cell_type": "code",
   "execution_count": null,
   "id": "6d2e1f61-af4e-4f94-af4c-998245accc02",
   "metadata": {},
   "outputs": [],
   "source": []
  },
  {
   "cell_type": "code",
   "execution_count": null,
   "id": "e0b93213-41f0-47d3-b5ae-60f8c0c0c884",
   "metadata": {},
   "outputs": [],
   "source": []
  },
  {
   "cell_type": "code",
   "execution_count": null,
   "id": "f57893c6-3675-4ac9-b268-d5f3b036a4cc",
   "metadata": {},
   "outputs": [],
   "source": []
  },
  {
   "cell_type": "code",
   "execution_count": null,
   "id": "fee047e1-e654-4ee5-9f90-8e7327e1250a",
   "metadata": {},
   "outputs": [],
   "source": []
  },
  {
   "cell_type": "code",
   "execution_count": null,
   "id": "6ce94784-e0fd-41b6-98d8-16c4442a5a19",
   "metadata": {},
   "outputs": [],
   "source": []
  },
  {
   "cell_type": "code",
   "execution_count": null,
   "id": "94bed6ad-3a94-4d4d-a103-eff9ba3c8d25",
   "metadata": {},
   "outputs": [],
   "source": []
  },
  {
   "cell_type": "code",
   "execution_count": null,
   "id": "b9d18768-b1d6-4615-86f8-af96b1e22180",
   "metadata": {},
   "outputs": [],
   "source": []
  }
 ],
 "metadata": {
  "kernelspec": {
   "display_name": "Python 3 (ipykernel)",
   "language": "python",
   "name": "python3"
  },
  "language_info": {
   "codemirror_mode": {
    "name": "ipython",
    "version": 3
   },
   "file_extension": ".py",
   "mimetype": "text/x-python",
   "name": "python",
   "nbconvert_exporter": "python",
   "pygments_lexer": "ipython3",
   "version": "3.11.3"
  }
 },
 "nbformat": 4,
 "nbformat_minor": 5
}
