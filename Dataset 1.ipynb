{
 "cells": [
  {
   "cell_type": "code",
   "execution_count": 3,
   "id": "0bcbb991-49ba-4006-bd5b-402fc2392903",
   "metadata": {},
   "outputs": [
    {
     "data": {
      "text/html": [
       "<div>\n",
       "<style scoped>\n",
       "    .dataframe tbody tr th:only-of-type {\n",
       "        vertical-align: middle;\n",
       "    }\n",
       "\n",
       "    .dataframe tbody tr th {\n",
       "        vertical-align: top;\n",
       "    }\n",
       "\n",
       "    .dataframe thead th {\n",
       "        text-align: right;\n",
       "    }\n",
       "</style>\n",
       "<table border=\"1\" class=\"dataframe\">\n",
       "  <thead>\n",
       "    <tr style=\"text-align: right;\">\n",
       "      <th></th>\n",
       "      <th>Id</th>\n",
       "      <th>Tweet</th>\n",
       "      <th>Hate</th>\n",
       "      <th>Target</th>\n",
       "      <th>Severity</th>\n",
       "    </tr>\n",
       "  </thead>\n",
       "  <tbody>\n",
       "    <tr>\n",
       "      <th>0</th>\n",
       "      <td>5723</td>\n",
       "      <td>@sudhirchaudhary Abhi tak 2000 ke note me mujh...</td>\n",
       "      <td>0</td>\n",
       "      <td>NaN</td>\n",
       "      <td>NaN</td>\n",
       "    </tr>\n",
       "    <tr>\n",
       "      <th>1</th>\n",
       "      <td>2338</td>\n",
       "      <td>@Gulamane_raza @MustakimRazvi Abe katiye tumse...</td>\n",
       "      <td>1</td>\n",
       "      <td>O</td>\n",
       "      <td>H</td>\n",
       "    </tr>\n",
       "    <tr>\n",
       "      <th>2</th>\n",
       "      <td>1579</td>\n",
       "      <td>@RajatSharmaLive Ye sab sazish hai....bina sam...</td>\n",
       "      <td>1</td>\n",
       "      <td>O</td>\n",
       "      <td>M</td>\n",
       "    </tr>\n",
       "    <tr>\n",
       "      <th>3</th>\n",
       "      <td>6524</td>\n",
       "      <td>abe jao tum to dasko pahle hi fash gye the jab...</td>\n",
       "      <td>1</td>\n",
       "      <td>I</td>\n",
       "      <td>L</td>\n",
       "    </tr>\n",
       "    <tr>\n",
       "      <th>4</th>\n",
       "      <td>7618</td>\n",
       "      <td>Ab ye afbah kaun faila Raha hai ki Shahhen bag...</td>\n",
       "      <td>0</td>\n",
       "      <td>NaN</td>\n",
       "      <td>NaN</td>\n",
       "    </tr>\n",
       "    <tr>\n",
       "      <th>...</th>\n",
       "      <td>...</td>\n",
       "      <td>...</td>\n",
       "      <td>...</td>\n",
       "      <td>...</td>\n",
       "      <td>...</td>\n",
       "    </tr>\n",
       "    <tr>\n",
       "      <th>6391</th>\n",
       "      <td>5227</td>\n",
       "      <td>@team_hyv Pathaan part 2 bhi aa rha hai, boyco...</td>\n",
       "      <td>1</td>\n",
       "      <td>O</td>\n",
       "      <td>M</td>\n",
       "    </tr>\n",
       "    <tr>\n",
       "      <th>6392</th>\n",
       "      <td>5391</td>\n",
       "      <td>@amitku1047 @bordiasanjay @izeenatrana @RahulG...</td>\n",
       "      <td>1</td>\n",
       "      <td>O</td>\n",
       "      <td>L</td>\n",
       "    </tr>\n",
       "    <tr>\n",
       "      <th>6393</th>\n",
       "      <td>861</td>\n",
       "      <td>@HusainSahadal Sachaee ladaee hoti h hamare de...</td>\n",
       "      <td>1</td>\n",
       "      <td>O</td>\n",
       "      <td>L</td>\n",
       "    </tr>\n",
       "    <tr>\n",
       "      <th>6394</th>\n",
       "      <td>7604</td>\n",
       "      <td>Hahaha hahaha kejurdin ððð</td>\n",
       "      <td>0</td>\n",
       "      <td>NaN</td>\n",
       "      <td>NaN</td>\n",
       "    </tr>\n",
       "    <tr>\n",
       "      <th>6395</th>\n",
       "      <td>7271</td>\n",
       "      <td>Aswini upadhyay aap desh ko grhyudh ke raste p...</td>\n",
       "      <td>0</td>\n",
       "      <td>NaN</td>\n",
       "      <td>NaN</td>\n",
       "    </tr>\n",
       "  </tbody>\n",
       "</table>\n",
       "<p>6396 rows × 5 columns</p>\n",
       "</div>"
      ],
      "text/plain": [
       "        Id                                              Tweet  Hate Target  \\\n",
       "0     5723  @sudhirchaudhary Abhi tak 2000 ke note me mujh...     0    NaN   \n",
       "1     2338  @Gulamane_raza @MustakimRazvi Abe katiye tumse...     1      O   \n",
       "2     1579  @RajatSharmaLive Ye sab sazish hai....bina sam...     1      O   \n",
       "3     6524  abe jao tum to dasko pahle hi fash gye the jab...     1      I   \n",
       "4     7618  Ab ye afbah kaun faila Raha hai ki Shahhen bag...     0    NaN   \n",
       "...    ...                                                ...   ...    ...   \n",
       "6391  5227  @team_hyv Pathaan part 2 bhi aa rha hai, boyco...     1      O   \n",
       "6392  5391  @amitku1047 @bordiasanjay @izeenatrana @RahulG...     1      O   \n",
       "6393   861  @HusainSahadal Sachaee ladaee hoti h hamare de...     1      O   \n",
       "6394  7604                Hahaha hahaha kejurdin ððð     0    NaN   \n",
       "6395  7271  Aswini upadhyay aap desh ko grhyudh ke raste p...     0    NaN   \n",
       "\n",
       "     Severity  \n",
       "0         NaN  \n",
       "1           H  \n",
       "2           M  \n",
       "3           L  \n",
       "4         NaN  \n",
       "...       ...  \n",
       "6391        M  \n",
       "6392        L  \n",
       "6393        L  \n",
       "6394      NaN  \n",
       "6395      NaN  \n",
       "\n",
       "[6396 rows x 5 columns]"
      ]
     },
     "execution_count": 3,
     "metadata": {},
     "output_type": "execute_result"
    }
   ],
   "source": [
    "import pandas as pd\n",
    "import matplotlib.pyplot as plt\n",
    "\n",
    "data = pd.read_excel(r\"C:\\Users\\parkh\\OneDrive\\Desktop\\HateSpeech\\Data-2.xlsx\")\n",
    "data"
   ]
  },
  {
   "cell_type": "code",
   "execution_count": 4,
   "id": "9b4bf03b-4b30-43ed-8d42-b0338dd92d8f",
   "metadata": {},
   "outputs": [
    {
     "data": {
      "text/html": [
       "<div>\n",
       "<style scoped>\n",
       "    .dataframe tbody tr th:only-of-type {\n",
       "        vertical-align: middle;\n",
       "    }\n",
       "\n",
       "    .dataframe tbody tr th {\n",
       "        vertical-align: top;\n",
       "    }\n",
       "\n",
       "    .dataframe thead th {\n",
       "        text-align: right;\n",
       "    }\n",
       "</style>\n",
       "<table border=\"1\" class=\"dataframe\">\n",
       "  <thead>\n",
       "    <tr style=\"text-align: right;\">\n",
       "      <th></th>\n",
       "      <th>Id</th>\n",
       "      <th>Tweet</th>\n",
       "      <th>Hate</th>\n",
       "      <th>Target</th>\n",
       "      <th>Severity</th>\n",
       "    </tr>\n",
       "  </thead>\n",
       "  <tbody>\n",
       "    <tr>\n",
       "      <th>0</th>\n",
       "      <td>5723</td>\n",
       "      <td>@sudhirchaudhary Abhi tak 2000 ke note me mujh...</td>\n",
       "      <td>0</td>\n",
       "      <td>NaN</td>\n",
       "      <td>NaN</td>\n",
       "    </tr>\n",
       "    <tr>\n",
       "      <th>1</th>\n",
       "      <td>2338</td>\n",
       "      <td>@Gulamane_raza @MustakimRazvi Abe katiye tumse...</td>\n",
       "      <td>1</td>\n",
       "      <td>O</td>\n",
       "      <td>H</td>\n",
       "    </tr>\n",
       "    <tr>\n",
       "      <th>2</th>\n",
       "      <td>1579</td>\n",
       "      <td>@RajatSharmaLive Ye sab sazish hai....bina sam...</td>\n",
       "      <td>1</td>\n",
       "      <td>O</td>\n",
       "      <td>M</td>\n",
       "    </tr>\n",
       "    <tr>\n",
       "      <th>3</th>\n",
       "      <td>6524</td>\n",
       "      <td>abe jao tum to dasko pahle hi fash gye the jab...</td>\n",
       "      <td>1</td>\n",
       "      <td>I</td>\n",
       "      <td>L</td>\n",
       "    </tr>\n",
       "    <tr>\n",
       "      <th>4</th>\n",
       "      <td>7618</td>\n",
       "      <td>Ab ye afbah kaun faila Raha hai ki Shahhen bag...</td>\n",
       "      <td>0</td>\n",
       "      <td>NaN</td>\n",
       "      <td>NaN</td>\n",
       "    </tr>\n",
       "    <tr>\n",
       "      <th>...</th>\n",
       "      <td>...</td>\n",
       "      <td>...</td>\n",
       "      <td>...</td>\n",
       "      <td>...</td>\n",
       "      <td>...</td>\n",
       "    </tr>\n",
       "    <tr>\n",
       "      <th>6391</th>\n",
       "      <td>5227</td>\n",
       "      <td>@team_hyv Pathaan part 2 bhi aa rha hai, boyco...</td>\n",
       "      <td>1</td>\n",
       "      <td>O</td>\n",
       "      <td>M</td>\n",
       "    </tr>\n",
       "    <tr>\n",
       "      <th>6392</th>\n",
       "      <td>5391</td>\n",
       "      <td>@amitku1047 @bordiasanjay @izeenatrana @RahulG...</td>\n",
       "      <td>1</td>\n",
       "      <td>O</td>\n",
       "      <td>L</td>\n",
       "    </tr>\n",
       "    <tr>\n",
       "      <th>6393</th>\n",
       "      <td>861</td>\n",
       "      <td>@HusainSahadal Sachaee ladaee hoti h hamare de...</td>\n",
       "      <td>1</td>\n",
       "      <td>O</td>\n",
       "      <td>L</td>\n",
       "    </tr>\n",
       "    <tr>\n",
       "      <th>6394</th>\n",
       "      <td>7604</td>\n",
       "      <td>Hahaha hahaha kejurdin ððð</td>\n",
       "      <td>0</td>\n",
       "      <td>NaN</td>\n",
       "      <td>NaN</td>\n",
       "    </tr>\n",
       "    <tr>\n",
       "      <th>6395</th>\n",
       "      <td>7271</td>\n",
       "      <td>Aswini upadhyay aap desh ko grhyudh ke raste p...</td>\n",
       "      <td>0</td>\n",
       "      <td>NaN</td>\n",
       "      <td>NaN</td>\n",
       "    </tr>\n",
       "  </tbody>\n",
       "</table>\n",
       "<p>6396 rows × 5 columns</p>\n",
       "</div>"
      ],
      "text/plain": [
       "        Id                                              Tweet  Hate Target  \\\n",
       "0     5723  @sudhirchaudhary Abhi tak 2000 ke note me mujh...     0    NaN   \n",
       "1     2338  @Gulamane_raza @MustakimRazvi Abe katiye tumse...     1      O   \n",
       "2     1579  @RajatSharmaLive Ye sab sazish hai....bina sam...     1      O   \n",
       "3     6524  abe jao tum to dasko pahle hi fash gye the jab...     1      I   \n",
       "4     7618  Ab ye afbah kaun faila Raha hai ki Shahhen bag...     0    NaN   \n",
       "...    ...                                                ...   ...    ...   \n",
       "6391  5227  @team_hyv Pathaan part 2 bhi aa rha hai, boyco...     1      O   \n",
       "6392  5391  @amitku1047 @bordiasanjay @izeenatrana @RahulG...     1      O   \n",
       "6393   861  @HusainSahadal Sachaee ladaee hoti h hamare de...     1      O   \n",
       "6394  7604                Hahaha hahaha kejurdin ððð     0    NaN   \n",
       "6395  7271  Aswini upadhyay aap desh ko grhyudh ke raste p...     0    NaN   \n",
       "\n",
       "     Severity  \n",
       "0         NaN  \n",
       "1           H  \n",
       "2           M  \n",
       "3           L  \n",
       "4         NaN  \n",
       "...       ...  \n",
       "6391        M  \n",
       "6392        L  \n",
       "6393        L  \n",
       "6394      NaN  \n",
       "6395      NaN  \n",
       "\n",
       "[6396 rows x 5 columns]"
      ]
     },
     "execution_count": 4,
     "metadata": {},
     "output_type": "execute_result"
    }
   ],
   "source": [
    "df = data.copy()\n",
    "df"
   ]
  },
  {
   "cell_type": "code",
   "execution_count": 5,
   "id": "b80aa39d-45ef-4a3e-8a78-baeba80438d4",
   "metadata": {},
   "outputs": [
    {
     "data": {
      "text/plain": [
       "Id             0\n",
       "Tweet          1\n",
       "Hate           0\n",
       "Target      2295\n",
       "Severity    2295\n",
       "dtype: int64"
      ]
     },
     "execution_count": 5,
     "metadata": {},
     "output_type": "execute_result"
    }
   ],
   "source": [
    "df.isnull().sum()"
   ]
  },
  {
   "cell_type": "code",
   "execution_count": 6,
   "id": "d957ebcb-8adc-48f3-a0a8-2b03e3addc7c",
   "metadata": {},
   "outputs": [],
   "source": [
    "df['Tweet'] = df['Tweet'].fillna(0)\n",
    "df['Target'] = df['Target'].fillna(0)\n",
    "df['Severity'] = df['Severity'].fillna(0)"
   ]
  },
  {
   "cell_type": "code",
   "execution_count": 7,
   "id": "6545c066-05b5-437a-a97c-5a4c92cef309",
   "metadata": {},
   "outputs": [
    {
     "data": {
      "text/plain": [
       "Id          0\n",
       "Tweet       0\n",
       "Hate        0\n",
       "Target      0\n",
       "Severity    0\n",
       "dtype: int64"
      ]
     },
     "execution_count": 7,
     "metadata": {},
     "output_type": "execute_result"
    }
   ],
   "source": [
    "df.isnull().sum()"
   ]
  },
  {
   "cell_type": "code",
   "execution_count": 14,
   "id": "6979d97b-c43b-4c6b-a256-27c6cce4853f",
   "metadata": {},
   "outputs": [
    {
     "data": {
      "text/html": [
       "<div>\n",
       "<style scoped>\n",
       "    .dataframe tbody tr th:only-of-type {\n",
       "        vertical-align: middle;\n",
       "    }\n",
       "\n",
       "    .dataframe tbody tr th {\n",
       "        vertical-align: top;\n",
       "    }\n",
       "\n",
       "    .dataframe thead th {\n",
       "        text-align: right;\n",
       "    }\n",
       "</style>\n",
       "<table border=\"1\" class=\"dataframe\">\n",
       "  <thead>\n",
       "    <tr style=\"text-align: right;\">\n",
       "      <th></th>\n",
       "      <th>Id</th>\n",
       "      <th>Tweet</th>\n",
       "      <th>Hate</th>\n",
       "      <th>Target</th>\n",
       "      <th>Severity</th>\n",
       "      <th>Hateful</th>\n",
       "    </tr>\n",
       "  </thead>\n",
       "  <tbody>\n",
       "    <tr>\n",
       "      <th>0</th>\n",
       "      <td>5723</td>\n",
       "      <td>@sudhirchaudhary Abhi tak 2000 ke note me mujh...</td>\n",
       "      <td>0</td>\n",
       "      <td>0</td>\n",
       "      <td>0</td>\n",
       "      <td>@sudhirchaudhary Abhi tak 2000 ke note me mujh...</td>\n",
       "    </tr>\n",
       "    <tr>\n",
       "      <th>1</th>\n",
       "      <td>2338</td>\n",
       "      <td>@Gulamane_raza @MustakimRazvi Abe katiye tumse...</td>\n",
       "      <td>1</td>\n",
       "      <td>O</td>\n",
       "      <td>H</td>\n",
       "      <td>@Gulamane_raza @MustakimRazvi Abe katiye tumse...</td>\n",
       "    </tr>\n",
       "    <tr>\n",
       "      <th>2</th>\n",
       "      <td>1579</td>\n",
       "      <td>@RajatSharmaLive Ye sab sazish hai....bina sam...</td>\n",
       "      <td>1</td>\n",
       "      <td>O</td>\n",
       "      <td>M</td>\n",
       "      <td>@RajatSharmaLive Ye sab sazish hai....bina sam...</td>\n",
       "    </tr>\n",
       "    <tr>\n",
       "      <th>3</th>\n",
       "      <td>6524</td>\n",
       "      <td>abe jao tum to dasko pahle hi fash gye the jab...</td>\n",
       "      <td>1</td>\n",
       "      <td>I</td>\n",
       "      <td>L</td>\n",
       "      <td>abe jao tum to dasko pahle hi fash gye the jab...</td>\n",
       "    </tr>\n",
       "    <tr>\n",
       "      <th>4</th>\n",
       "      <td>7618</td>\n",
       "      <td>Ab ye afbah kaun faila Raha hai ki Shahhen bag...</td>\n",
       "      <td>0</td>\n",
       "      <td>0</td>\n",
       "      <td>0</td>\n",
       "      <td>Ab ye afbah kaun faila Raha hai ki Shahhen bag...</td>\n",
       "    </tr>\n",
       "  </tbody>\n",
       "</table>\n",
       "</div>"
      ],
      "text/plain": [
       "     Id                                              Tweet  Hate Target  \\\n",
       "0  5723  @sudhirchaudhary Abhi tak 2000 ke note me mujh...     0      0   \n",
       "1  2338  @Gulamane_raza @MustakimRazvi Abe katiye tumse...     1      O   \n",
       "2  1579  @RajatSharmaLive Ye sab sazish hai....bina sam...     1      O   \n",
       "3  6524  abe jao tum to dasko pahle hi fash gye the jab...     1      I   \n",
       "4  7618  Ab ye afbah kaun faila Raha hai ki Shahhen bag...     0      0   \n",
       "\n",
       "  Severity                                            Hateful  \n",
       "0        0  @sudhirchaudhary Abhi tak 2000 ke note me mujh...  \n",
       "1        H  @Gulamane_raza @MustakimRazvi Abe katiye tumse...  \n",
       "2        M  @RajatSharmaLive Ye sab sazish hai....bina sam...  \n",
       "3        L  abe jao tum to dasko pahle hi fash gye the jab...  \n",
       "4        0  Ab ye afbah kaun faila Raha hai ki Shahhen bag...  "
      ]
     },
     "execution_count": 14,
     "metadata": {},
     "output_type": "execute_result"
    }
   ],
   "source": [
    "df.head()"
   ]
  },
  {
   "cell_type": "code",
   "execution_count": 8,
   "id": "c42badd8-71c5-4a5d-afed-1dd40390a09b",
   "metadata": {},
   "outputs": [],
   "source": [
    "# extract the text and labels\n",
    "X = list(data['Tweet'])\n",
    "y = list(data['Hate'])"
   ]
  },
  {
   "cell_type": "code",
   "execution_count": 9,
   "id": "80c0b1ac-5c6a-4d01-87c3-5f5c878ae2b7",
   "metadata": {},
   "outputs": [
    {
     "name": "stdout",
     "output_type": "stream",
     "text": [
      "Label mapping: {0: 0, 1: 1}\n"
     ]
    }
   ],
   "source": [
    "unique_labels = df['Hate'].unique()\n",
    "label_dict = {label: i for i, label in enumerate(unique_labels)}\n",
    "num_labels = len(unique_labels)\n",
    "print(\"Label mapping:\", label_dict)\n"
   ]
  },
  {
   "cell_type": "code",
   "execution_count": 10,
   "id": "bbfa4da4-a84f-4cf5-8c4b-d240ea37b2f3",
   "metadata": {},
   "outputs": [],
   "source": [
    "import re\n",
    "import pandas as pd\n",
    "\n",
    "def clean_text(text):\n",
    "    if pd.isnull(text):  # Check for NaN values\n",
    "        return ''\n",
    "    \n",
    "    text = str(text)  # Ensure the input is a string\n",
    "\n",
    "    # Remove newlines\n",
    "    text = re.sub(r'\\n+', ' ', text)\n",
    "    \n",
    "    # Remove URLs (http, https, or www links)\n",
    "    text = re.sub(r'http\\S+|www\\S+|t\\.co\\S+', '', text)\n",
    "    \n",
    "    # Remove extra spaces\n",
    "    text = re.sub(r'\\s+', ' ', text).strip()\n",
    "    \n",
    "    return text\n",
    "\n",
    "# Apply the cleaning function to the 'Tweet' column\n",
    "df['preprocessed_text'] = df['Tweet'].apply(clean_text)\n"
   ]
  },
  {
   "cell_type": "code",
   "execution_count": 11,
   "id": "42bc9c6e-402d-439f-85e6-627569841941",
   "metadata": {},
   "outputs": [
    {
     "data": {
      "text/plain": [
       "0       @sudhirchaudhary Abhi tak 2000 ke note me mujh...\n",
       "1       @Gulamane_raza @MustakimRazvi Abe katiye tumse...\n",
       "2       @RajatSharmaLive Ye sab sazish hai....bina sam...\n",
       "3       abe jao tum to dasko pahle hi fash gye the jab...\n",
       "4       Ab ye afbah kaun faila Raha hai ki Shahhen bag...\n",
       "                              ...                        \n",
       "6391    @team_hyv Pathaan part 2 bhi aa rha hai, boyco...\n",
       "6392    @amitku1047 @bordiasanjay @izeenatrana @RahulG...\n",
       "6393    @HusainSahadal Sachaee ladaee hoti h hamare de...\n",
       "6394                  Hahaha hahaha kejurdin ððð\n",
       "6395    Aswini upadhyay aap desh ko grhyudh ke raste p...\n",
       "Name: preprocessed_text, Length: 6396, dtype: object"
      ]
     },
     "execution_count": 11,
     "metadata": {},
     "output_type": "execute_result"
    }
   ],
   "source": [
    "df['preprocessed_text']"
   ]
  },
  {
   "cell_type": "code",
   "execution_count": 12,
   "id": "bf694d39-d7d1-4dc6-983d-6e92b81b2f11",
   "metadata": {},
   "outputs": [],
   "source": [
    "import seaborn as sns\n",
    "import matplotlib.pyplot as plt\n",
    "%matplotlib inline\n",
    "import numpy as np\n",
    "import seaborn as sb\n",
    "import warnings\n",
    "from nltk.corpus import stopwords"
   ]
  },
  {
   "cell_type": "code",
   "execution_count": 13,
   "id": "ac856e5e-81ce-4d4f-a040-bba6d2b8a1ea",
   "metadata": {},
   "outputs": [],
   "source": [
    "from sklearn.model_selection import train_test_split\n",
    "from sklearn.base import BaseEstimator, TransformerMixin\n",
    "from sklearn.linear_model import LogisticRegression\n",
    "from sklearn.naive_bayes import MultinomialNB\n",
    "from sklearn.model_selection import cross_validate, StratifiedKFold\n",
    "from sklearn.metrics import accuracy_score, classification_report, confusion_matrix\n",
    "from sklearn.model_selection import GridSearchCV\n",
    "from sklearn.feature_extraction.text import TfidfTransformer\n",
    "from sklearn.preprocessing import Binarizer\n",
    "\n",
    "\n",
    "from collections import Counter\n",
    "from os import listdir, makedirs\n",
    "from os.path import isfile, join, splitext, split"
   ]
  },
  {
   "cell_type": "code",
   "execution_count": 14,
   "id": "519b616b-e565-4589-bcf4-9dc9d7a8e22f",
   "metadata": {},
   "outputs": [],
   "source": [
    "from wordcloud import STOPWORDS, WordCloud\n",
    "\n",
    "from sklearn.feature_extraction.text import CountVectorizer\n",
    "from sklearn.pipeline import Pipeline, FeatureUnion\n",
    "from sklearn.feature_extraction.text import TfidfVectorizer\n",
    "from sklearn.preprocessing import StandardScaler\n",
    "from sklearn.decomposition import TruncatedSVD\n",
    "from sklearn.metrics import accuracy_score, classification_report, confusion_matrix\n",
    "from sklearn.model_selection import cross_validate, StratifiedKFold\n",
    "from sklearn.naive_bayes import GaussianNB\n",
    "\n",
    "from sklearn import tree\n",
    "from sklearn.ensemble import RandomForestClassifier\n",
    "from sklearn import model_selection, naive_bayes, svm\n",
    "from sklearn.feature_extraction.text import TfidfVectorizer\n",
    "from sklearn.preprocessing import LabelEncoder\n",
    "from xgboost import XGBClassifier \n",
    "\n",
    "warnings.filterwarnings('ignore')\n",
    "np.random.seed(0)"
   ]
  },
  {
   "cell_type": "code",
   "execution_count": 29,
   "id": "0aa01985-d505-4809-aa02-ade401c985e9",
   "metadata": {},
   "outputs": [
    {
     "data": {
      "image/png": "[encoded data removed]",
      "text/plain": [
       "<Figure size 700x800 with 1 Axes>"
      ]
     },
     "metadata": {},
     "output_type": "display_data"
    }
   ],
   "source": [
    "# Define stopwords\n",
    "english_stopwords = set(stopwords.words('english'))\n",
    "\n",
    "# Combine all text from the preprocessed column\n",
    "text = ' '.join(df['preprocessed_text'].astype(str))\n",
    "\n",
    "# Use Mangal or Nirmala UI, which support Hindi text\n",
    "font_path = fm.findSystemFonts(fontpaths=None, fontext='ttf')\n",
    "hindi_font = None\n",
    "for font in font_path:\n",
    "    if 'Mangal' in font or 'Nirmala' in font:\n",
    "        hindi_font = font\n",
    "        break\n",
    "\n",
    "# Generate and display the word cloud\n",
    "if hindi_font:\n",
    "    wordcloud = WordCloud(\n",
    "        width=1000, \n",
    "        height=500, \n",
    "        background_color='white',\n",
    "        font_path=hindi_font,\n",
    "        stopwords=english_stopwords\n",
    "    ).generate(text)\n",
    "\n",
    "    plt.figure(figsize=(7, 8))\n",
    "    plt.imshow(wordcloud, interpolation='bilinear')\n",
    "    plt.axis('off')\n",
    "    plt.title(\"Word Cloud of Hate Words\", fontsize=18)\n",
    "    plt.show()\n",
    "else:\n",
    "    print(\"No Hindi-compatible font found.\")\n"
   ]
  },
  {
   "cell_type": "code",
   "execution_count": 30,
   "id": "bb68c334-9868-40dd-a360-515631a1391b",
   "metadata": {},
   "outputs": [
    {
     "data": {
      "text/plain": [
       "'abe jao tum to dasko pahle hi fash gye the jab tere dada ne talwar ke nokh par salwar pahena tha tera daram kabhi hindu kabhi muslim Ã°Â\\x9fÂ\\x98Â\\x82Ã°Â\\x9fÂ¤Â£Ã°Â\\x9fÂ\\x98Â\\x82Ã°Â\\x9fÂ¤Â£'"
      ]
     },
     "execution_count": 30,
     "metadata": {},
     "output_type": "execute_result"
    }
   ],
   "source": [
    "example=df['Tweet'][3]\n",
    "example"
   ]
  },
  {
   "cell_type": "code",
   "execution_count": 15,
   "id": "8bd08e7c-28aa-448d-8a8d-22feb4fe444a",
   "metadata": {},
   "outputs": [],
   "source": [
    "from sklearn.model_selection import train_test_split\n",
    "X_train,X_test,y_train,y_test = train_test_split(X,y,test_size=0.2,random_state = 32)"
   ]
  },
  {
   "cell_type": "code",
   "execution_count": 17,
   "id": "7d78b483-c397-4950-8cf3-f88ec3baff51",
   "metadata": {},
   "outputs": [],
   "source": [
    "import pandas as pd\n",
    "from sklearn.feature_extraction.text import TfidfVectorizer\n",
    "from sklearn.linear_model import LogisticRegression\n",
    "from sklearn.ensemble import RandomForestClassifier\n",
    "from sklearn.tree import DecisionTreeClassifier\n",
    "from sklearn.svm import SVC\n",
    "from sklearn.naive_bayes import MultinomialNB\n",
    "\n",
    "# Fill NaNs with empty strings\n",
    "X_train = pd.Series(X_train).fillna('')\n",
    "X_test = pd.Series(X_test).fillna('')\n",
    "\n",
    "# Vectorize text data\n",
    "tfidf_vectorizer = TfidfVectorizer(max_features=5000)\n",
    "X_train_tfidf = tfidf_vectorizer.fit_transform(X_train)\n",
    "X_test_tfidf = tfidf_vectorizer.transform(X_test)\n",
    "\n",
    "# Define models\n",
    "models = {\n",
    "    'Logistic Regression': LogisticRegression(),\n",
    "    'Random Forest': RandomForestClassifier(),\n",
    "    'Decision Tree': DecisionTreeClassifier(),\n",
    "    'Support Vector Machine': SVC(),\n",
    "    'Naive Bayes': MultinomialNB()\n",
    "}\n",
    "\n",
    "# Initialize results dictionary\n",
    "results = {}\n"
   ]
  },
  {
   "cell_type": "code",
   "execution_count": 36,
   "id": "b50ac2d3-be55-4bba-9a1f-858c9736b9f1",
   "metadata": {},
   "outputs": [
    {
     "data": {
      "image/png": "[encoded data removed]",
      "text/plain": [
       "<Figure size 400x300 with 2 Axes>"
      ]
     },
     "metadata": {},
     "output_type": "display_data"
    },
    {
     "data": {
      "image/png": "[encoded data removed]",
      "text/plain": [
       "<Figure size 400x300 with 2 Axes>"
      ]
     },
     "metadata": {},
     "output_type": "display_data"
    },
    {
     "data": {
      "image/png": "[encoded data removed]",
      "text/plain": [
       "<Figure size 400x300 with 2 Axes>"
      ]
     },
     "metadata": {},
     "output_type": "display_data"
    },
    {
     "data": {
      "image/png": "[encoded data removed]",
      "text/plain": [
       "<Figure size 400x300 with 2 Axes>"
      ]
     },
     "metadata": {},
     "output_type": "display_data"
    },
    {
     "data": {
      "image/png": "[encoded data removed]",
      "text/plain": [
       "<Figure size 400x300 with 2 Axes>"
      ]
     },
     "metadata": {},
     "output_type": "display_data"
    },
    {
     "name": "stdout",
     "output_type": "stream",
     "text": [
      "Results for Logistic Regression:\n",
      "Accuracy: 0.7578125\n",
      "F1 Score: 0.741548918047882\n",
      "Precision: 0.7584083688752405\n",
      "Recall: 0.7578125\n",
      "Time Taken: 0.09858012199401855\n",
      "\n",
      "\n",
      "Results for Random Forest:\n",
      "Accuracy: 0.75\n",
      "F1 Score: 0.7348767513626981\n",
      "Precision: 0.7474209224274551\n",
      "Recall: 0.75\n",
      "Time Taken: 8.952786922454834\n",
      "\n",
      "\n",
      "Results for Decision Tree:\n",
      "Accuracy: 0.703125\n",
      "F1 Score: 0.7026944446657954\n",
      "Precision: 0.70229507992008\n",
      "Recall: 0.703125\n",
      "Time Taken: 1.0918359756469727\n",
      "\n",
      "\n",
      "Results for Support Vector Machine:\n",
      "Accuracy: 0.7703125\n",
      "F1 Score: 0.7538234985055109\n",
      "Precision: 0.7751486306146004\n",
      "Recall: 0.7703125\n",
      "Time Taken: 4.74121356010437\n",
      "\n",
      "\n",
      "Results for Naive Bayes:\n",
      "Accuracy: 0.71328125\n",
      "F1 Score: 0.6551582751812182\n",
      "Precision: 0.7616013968146557\n",
      "Recall: 0.71328125\n",
      "Time Taken: 0.013857364654541016\n",
      "\n",
      "\n"
     ]
    }
   ],
   "source": [
    "import matplotlib.pyplot as plt\n",
    "import seaborn as sns\n",
    "from sklearn.metrics import precision_score, recall_score, accuracy_score, f1_score, confusion_matrix\n",
    "from time import time\n",
    "\n",
    "# Dictionary to store results\n",
    "results = {}\n",
    "\n",
    "# Iterate over each model\n",
    "for model_name, model in models.items():\n",
    "    start_time = time()\n",
    "    \n",
    "    # Train the model\n",
    "    model.fit(X_train_tfidf, y_train)\n",
    "    \n",
    "    # Predict on the test set\n",
    "    y_pred = model.predict(X_test_tfidf)\n",
    "    \n",
    "    # Calculate metrics\n",
    "    accuracy = accuracy_score(y_test, y_pred)\n",
    "    f1 = f1_score(y_test, y_pred, average='weighted')\n",
    "    precision = precision_score(y_test, y_pred, average='weighted')\n",
    "    recall = recall_score(y_test, y_pred, average='weighted')\n",
    "    conf_matrix = confusion_matrix(y_test, y_pred)\n",
    "    time_taken = time() - start_time\n",
    "    \n",
    "    # Save results\n",
    "    results[model_name] = {\n",
    "        'Accuracy': accuracy,\n",
    "        'F1 Score': f1,\n",
    "        'Precision': precision,\n",
    "        'Recall': recall,\n",
    "        'Confusion Matrix': conf_matrix,\n",
    "        'Time Taken': time_taken\n",
    "    }\n",
    "    \n",
    "    # Plot confusion matrix as heatmap\n",
    "    plt.figure(figsize=(4,3))\n",
    "    sns.heatmap(conf_matrix, annot=True, fmt='d', cmap='Blues', xticklabels=model.classes_, yticklabels=model.classes_)\n",
    "    plt.title(f'Confusion Matrix for {model_name}')\n",
    "    plt.xlabel('Predicted')\n",
    "    plt.ylabel('Actual')\n",
    "    plt.show()\n",
    "\n",
    "# Print results\n",
    "for model_name, metrics in results.items():\n",
    "    print(f\"Results for {model_name}:\")\n",
    "    for metric_name, value in metrics.items():\n",
    "        if metric_name != 'Confusion Matrix':\n",
    "            print(f\"{metric_name}: {value}\")\n",
    "    print(\"\\n\")\n"
   ]
  },
  {
   "cell_type": "code",
   "execution_count": 37,
   "id": "55ddae83-9157-4080-92ec-0c12ac4f0e91",
   "metadata": {},
   "outputs": [
    {
     "name": "stdout",
     "output_type": "stream",
     "text": [
      "\n",
      "Model: Logistic Regression\n",
      "Accuracy: 0.7578\n",
      "F1 Score: 0.7415\n",
      "Confusion Matrix:\n",
      "[[220 241]\n",
      " [ 69 750]]\n",
      "Time Taken: 0.0986 seconds\n",
      "\n",
      "Model: Random Forest\n",
      "Accuracy: 0.7500\n",
      "F1 Score: 0.7349\n",
      "Confusion Matrix:\n",
      "[[221 240]\n",
      " [ 80 739]]\n",
      "Time Taken: 8.9528 seconds\n",
      "\n",
      "Model: Decision Tree\n",
      "Accuracy: 0.7031\n",
      "F1 Score: 0.7027\n",
      "Confusion Matrix:\n",
      "[[268 193]\n",
      " [187 632]]\n",
      "Time Taken: 1.0918 seconds\n",
      "\n",
      "Model: Support Vector Machine\n",
      "Accuracy: 0.7703\n",
      "F1 Score: 0.7538\n",
      "Confusion Matrix:\n",
      "[[224 237]\n",
      " [ 57 762]]\n",
      "Time Taken: 4.7412 seconds\n",
      "\n",
      "Model: Naive Bayes\n",
      "Accuracy: 0.7133\n",
      "F1 Score: 0.6552\n",
      "Confusion Matrix:\n",
      "[[109 352]\n",
      " [ 15 804]]\n",
      "Time Taken: 0.0139 seconds\n"
     ]
    }
   ],
   "source": [
    "for model_name, metrics in results.items():\n",
    "    print(f\"\\nModel: {model_name}\")\n",
    "    print(f\"Accuracy: {metrics['Accuracy']:.4f}\")\n",
    "    print(f\"F1 Score: {metrics['F1 Score']:.4f}\")\n",
    "    print(f\"Confusion Matrix:\\n{metrics['Confusion Matrix']}\")\n",
    "    print(f\"Time Taken: {metrics['Time Taken']:.4f} seconds\")\n"
   ]
  },
  {
   "cell_type": "code",
   "execution_count": 18,
   "id": "6684d6c8-8060-4c36-99e7-37ab344809d0",
   "metadata": {},
   "outputs": [],
   "source": [
    "from tensorflow.keras.preprocessing.text import Tokenizer\n",
    "from tensorflow.keras.preprocessing.sequence import pad_sequences\n",
    "\n",
    "# Tokenization\n",
    "max_words = 10000\n",
    "max_len = 100\n",
    "\n",
    "tokenizer = Tokenizer(num_words=max_words, oov_token='<OOV>')\n",
    "tokenizer.fit_on_texts(X_train)\n",
    "\n",
    "# Convert text to sequences\n",
    "X_train_seq = tokenizer.texts_to_sequences(X_train)\n",
    "X_test_seq = tokenizer.texts_to_sequences(X_test)\n",
    "\n",
    "# Pad sequences\n",
    "X_train_padded = pad_sequences(X_train_seq, maxlen=max_len, padding='post', truncating='post')\n",
    "X_test_padded = pad_sequences(X_test_seq, maxlen=max_len, padding='post', truncating='post')\n"
   ]
  },
  {
   "cell_type": "code",
   "execution_count": 19,
   "id": "2cd56497-58e7-4e9d-b9bd-95856cf65de9",
   "metadata": {},
   "outputs": [],
   "source": [
    "import pandas as pd\n",
    "from sklearn.model_selection import train_test_split\n",
    "from sklearn.preprocessing import LabelEncoder\n",
    "from tensorflow.keras.preprocessing.text import Tokenizer\n",
    "from tensorflow.keras.preprocessing.sequence import pad_sequences\n",
    "\n",
    "# Encode the target labels\n",
    "encoder = LabelEncoder()\n",
    "df['Hate'] = encoder.fit_transform(df['Hate'])\n",
    "\n",
    "# Split the dataset\n",
    "X_train, X_test, y_train, y_test = train_test_split(\n",
    "    df['preprocessed_text'], df['Hate'], test_size=0.2, random_state=42\n",
    ")\n",
    "\n",
    "# Tokenization parameters\n",
    "max_words = 10000  # Vocabulary size\n",
    "max_len = 150      # Max sequence length\n",
    "\n",
    "# Tokenizer\n",
    "tokenizer = Tokenizer(num_words=max_words)\n",
    "tokenizer.fit_on_texts(X_train)\n",
    "\n",
    "# Convert texts to sequences and pad them\n",
    "X_train_seq = tokenizer.texts_to_sequences(X_train)\n",
    "X_test_seq = tokenizer.texts_to_sequences(X_test)\n",
    "\n",
    "X_train_pad = pad_sequences(X_train_seq, maxlen=max_len)\n",
    "X_test_pad = pad_sequences(X_test_seq, maxlen=max_len)\n",
    "\n",
    "# Labels as arrays\n",
    "y_train = y_train.values\n",
    "y_test = y_test.values\n"
   ]
  },
  {
   "cell_type": "code",
   "execution_count": 20,
   "id": "3984410a-b54a-4374-91f9-3e87ec00f865",
   "metadata": {},
   "outputs": [
    {
     "name": "stdout",
     "output_type": "stream",
     "text": [
      "X_train shape: (5116, 150)\n",
      "X_test shape: (1280, 150)\n"
     ]
    }
   ],
   "source": [
    "# Tokenization\n",
    "max_words = 10000  # Maximum vocabulary size\n",
    "max_len = 150      # Maximum sequence length\n",
    "\n",
    "# Initialize the tokenizer\n",
    "tokenizer = Tokenizer(num_words=max_words, oov_token='<OOV>')\n",
    "\n",
    "# Fit the tokenizer on training text\n",
    "tokenizer.fit_on_texts(X_train)\n",
    "\n",
    "# Convert text to sequences\n",
    "X_train_seq = tokenizer.texts_to_sequences(X_train)\n",
    "X_test_seq = tokenizer.texts_to_sequences(X_test)\n",
    "\n",
    "# Pad sequences to ensure uniform input size\n",
    "X_train_padded = pad_sequences(X_train_seq, maxlen=max_len, padding='post', truncating='post')\n",
    "X_test_padded = pad_sequences(X_test_seq, maxlen=max_len, padding='post', truncating='post')\n",
    "\n",
    "# Ensure all data is in NumPy format\n",
    "X_train_padded = np.array(X_train_padded)\n",
    "X_test_padded = np.array(X_test_padded)\n",
    "y_train = np.array(y_train)\n",
    "y_test = np.array(y_test)\n",
    "\n",
    "# Print the shapes for verification\n",
    "print(\"X_train shape:\", X_train_padded.shape)\n",
    "print(\"X_test shape:\", X_test_padded.shape)\n"
   ]
  },
  {
   "cell_type": "code",
   "execution_count": 21,
   "id": "9aa512aa-be4d-4788-9a8c-ca855eacfcd5",
   "metadata": {},
   "outputs": [],
   "source": [
    "from tensorflow.keras.models import Sequential\n",
    "from tensorflow.keras.layers import Embedding, Conv1D, GlobalMaxPooling1D, Dense, Dropout\n",
    "\n",
    "# CNN Model\n",
    "cnn_model = Sequential()\n",
    "\n",
    "# Embedding layer\n",
    "cnn_model.add(Embedding(input_dim=max_words, output_dim=128, input_length=max_len))\n",
    "\n",
    "# CNN layers\n",
    "cnn_model.add(Conv1D(filters=128, kernel_size=5, activation='relu'))\n",
    "cnn_model.add(GlobalMaxPooling1D())\n",
    "\n",
    "# Fully connected layers\n",
    "cnn_model.add(Dense(64, activation='relu'))\n",
    "cnn_model.add(Dropout(0.5))\n",
    "cnn_model.add(Dense(1, activation='sigmoid'))  # Binary classification\n",
    "\n",
    "# Compile the model\n",
    "cnn_model.compile(optimizer='adam', loss='binary_crossentropy', metrics=['accuracy'])\n"
   ]
  },
  {
   "cell_type": "code",
   "execution_count": 22,
   "id": "893558fc-b642-4385-9560-aaba51348792",
   "metadata": {},
   "outputs": [],
   "source": [
    "from sklearn.preprocessing import LabelEncoder\n",
    "import numpy as np\n",
    "\n",
    "# Initialize LabelEncoder\n",
    "label_encoder = LabelEncoder()\n",
    "\n",
    "# Fit and transform labels to numeric values\n",
    "y_train = label_encoder.fit_transform(y_train)\n",
    "y_test = label_encoder.transform(y_test)  # Use transform (not fit_transform) to keep consistency\n",
    "\n",
    "# Convert to float32 (or int32) for model compatibility\n",
    "y_train = np.array(y_train).astype('float32')\n",
    "y_test = np.array(y_test).astype('float32')\n"
   ]
  },
  {
   "cell_type": "code",
   "execution_count": 23,
   "id": "84b543a4-69e1-4258-b3da-1bc7661fc901",
   "metadata": {},
   "outputs": [
    {
     "name": "stdout",
     "output_type": "stream",
     "text": [
      "Epoch 1/10\n",
      "160/160 [==============================] - 8s 41ms/step - loss: 0.5730 - accuracy: 0.7019 - val_loss: 0.5163 - val_accuracy: 0.7359\n",
      "Epoch 2/10\n",
      "160/160 [==============================] - 8s 49ms/step - loss: 0.3998 - accuracy: 0.8428 - val_loss: 0.5177 - val_accuracy: 0.7547\n",
      "Epoch 3/10\n",
      "160/160 [==============================] - 8s 48ms/step - loss: 0.2236 - accuracy: 0.9240 - val_loss: 0.5923 - val_accuracy: 0.7422\n",
      "Epoch 4/10\n",
      "160/160 [==============================] - 8s 48ms/step - loss: 0.0850 - accuracy: 0.9775 - val_loss: 0.8300 - val_accuracy: 0.7273\n",
      "Epoch 5/10\n",
      "160/160 [==============================] - 7s 41ms/step - loss: 0.0362 - accuracy: 0.9920 - val_loss: 0.9904 - val_accuracy: 0.7305\n",
      "Epoch 6/10\n",
      "160/160 [==============================] - 9s 58ms/step - loss: 0.0241 - accuracy: 0.9953 - val_loss: 1.0785 - val_accuracy: 0.7445\n",
      "Epoch 7/10\n",
      "160/160 [==============================] - 8s 49ms/step - loss: 0.0181 - accuracy: 0.9967 - val_loss: 1.2025 - val_accuracy: 0.7414\n",
      "Epoch 8/10\n",
      "160/160 [==============================] - 7s 43ms/step - loss: 0.0157 - accuracy: 0.9967 - val_loss: 1.2531 - val_accuracy: 0.7453\n",
      "Epoch 9/10\n",
      "160/160 [==============================] - 7s 41ms/step - loss: 0.0190 - accuracy: 0.9961 - val_loss: 1.1787 - val_accuracy: 0.7406\n",
      "Epoch 10/10\n",
      "160/160 [==============================] - 6s 38ms/step - loss: 0.0132 - accuracy: 0.9975 - val_loss: 1.2853 - val_accuracy: 0.7180\n"
     ]
    }
   ],
   "source": [
    "# Train the model using the padded sequences\n",
    "cnn_history = cnn_model.fit(\n",
    "    X_train_padded, y_train,\n",
    "    epochs=10, batch_size=32,\n",
    "    validation_data=(X_test_padded, y_test)\n",
    ")\n"
   ]
  },
  {
   "cell_type": "code",
   "execution_count": 45,
   "id": "9411ba49-d2d9-4d6f-b347-46a713fa0515",
   "metadata": {},
   "outputs": [
    {
     "name": "stdout",
     "output_type": "stream",
     "text": [
      "40/40 [==============================] - 0s 8ms/step - loss: 1.2685 - accuracy: 0.7289\n",
      "CNN Accuracy: 72.89%\n"
     ]
    }
   ],
   "source": [
    "# Evaluate the CNN model\n",
    "cnn_loss, cnn_accuracy = cnn_model.evaluate(X_test_padded, y_test)\n",
    "print(f\"CNN Accuracy: {cnn_accuracy * 100:.2f}%\")\n"
   ]
  },
  {
   "cell_type": "code",
   "execution_count": 24,
   "id": "53654fff-b61f-4770-ab5d-bc9ccab906af",
   "metadata": {},
   "outputs": [
    {
     "name": "stdout",
     "output_type": "stream",
     "text": [
      "Epoch 1/10\n",
      "160/160 [==============================] - 22s 125ms/step - loss: 0.6594 - accuracy: 0.6394 - val_loss: 0.6551 - val_accuracy: 0.6383\n",
      "Epoch 2/10\n",
      "160/160 [==============================] - 22s 138ms/step - loss: 0.6567 - accuracy: 0.6419 - val_loss: 0.6555 - val_accuracy: 0.6383\n",
      "Epoch 3/10\n",
      "160/160 [==============================] - 20s 122ms/step - loss: 0.6567 - accuracy: 0.6419 - val_loss: 0.6551 - val_accuracy: 0.6383\n",
      "Epoch 4/10\n",
      "160/160 [==============================] - 22s 135ms/step - loss: 0.6548 - accuracy: 0.6419 - val_loss: 0.6545 - val_accuracy: 0.6383\n",
      "Epoch 5/10\n",
      "160/160 [==============================] - 20s 123ms/step - loss: 0.6548 - accuracy: 0.6419 - val_loss: 0.6548 - val_accuracy: 0.6383\n",
      "Epoch 6/10\n",
      "160/160 [==============================] - 20s 125ms/step - loss: 0.6540 - accuracy: 0.6419 - val_loss: 0.6544 - val_accuracy: 0.6383\n",
      "Epoch 7/10\n",
      "160/160 [==============================] - 21s 129ms/step - loss: 0.6551 - accuracy: 0.6419 - val_loss: 0.6544 - val_accuracy: 0.6383\n",
      "Epoch 8/10\n",
      "160/160 [==============================] - 19s 121ms/step - loss: 0.6534 - accuracy: 0.6419 - val_loss: 0.6555 - val_accuracy: 0.6383\n",
      "Epoch 9/10\n",
      "160/160 [==============================] - 21s 134ms/step - loss: 0.6532 - accuracy: 0.6419 - val_loss: 0.6544 - val_accuracy: 0.6383\n",
      "Epoch 10/10\n",
      "160/160 [==============================] - 22s 136ms/step - loss: 0.6531 - accuracy: 0.6419 - val_loss: 0.6544 - val_accuracy: 0.6383\n"
     ]
    }
   ],
   "source": [
    "from tensorflow.keras.models import Sequential\n",
    "from tensorflow.keras.layers import Embedding, LSTM, Dense, Dropout\n",
    "\n",
    "# LSTM Model\n",
    "lstm_model = Sequential()\n",
    "\n",
    "# Embedding layer\n",
    "lstm_model.add(Embedding(input_dim=max_words, output_dim=128, input_length=max_len))\n",
    "\n",
    "# LSTM layer\n",
    "lstm_model.add(LSTM(128, return_sequences=False))\n",
    "\n",
    "# Fully connected layers\n",
    "lstm_model.add(Dense(64, activation='relu'))\n",
    "lstm_model.add(Dropout(0.5))\n",
    "lstm_model.add(Dense(1, activation='sigmoid'))  # Binary classification\n",
    "\n",
    "# Compile the model\n",
    "lstm_model.compile(optimizer='adam', loss='binary_crossentropy', metrics=['accuracy'])\n",
    "\n",
    "# Train the LSTM model\n",
    "lstm_history = lstm_model.fit(\n",
    "    X_train_padded, y_train,\n",
    "    epochs=10, batch_size=32,\n",
    "    validation_data=(X_test_padded, y_test)\n",
    ")\n"
   ]
  },
  {
   "cell_type": "code",
   "execution_count": 48,
   "id": "e18f83c1-8cb0-47a4-9309-12b140c24a20",
   "metadata": {},
   "outputs": [
    {
     "name": "stdout",
     "output_type": "stream",
     "text": [
      "Epoch 1/10\n",
      "160/160 [==============================] - 38s 218ms/step - loss: 0.5794 - accuracy: 0.6982 - val_loss: 0.5335 - val_accuracy: 0.7328\n",
      "Epoch 2/10\n",
      "160/160 [==============================] - 42s 261ms/step - loss: 0.3808 - accuracy: 0.8442 - val_loss: 0.5296 - val_accuracy: 0.7266\n",
      "Epoch 3/10\n",
      "160/160 [==============================] - 48s 298ms/step - loss: 0.2421 - accuracy: 0.9142 - val_loss: 0.6624 - val_accuracy: 0.7125\n",
      "Epoch 4/10\n",
      "160/160 [==============================] - 51s 321ms/step - loss: 0.1574 - accuracy: 0.9500 - val_loss: 0.7623 - val_accuracy: 0.7102\n",
      "Epoch 5/10\n",
      "160/160 [==============================] - 51s 320ms/step - loss: 0.0961 - accuracy: 0.9685 - val_loss: 1.0632 - val_accuracy: 0.7109\n",
      "Epoch 6/10\n",
      "160/160 [==============================] - 53s 331ms/step - loss: 0.0580 - accuracy: 0.9826 - val_loss: 1.1037 - val_accuracy: 0.7055\n",
      "Epoch 7/10\n",
      "160/160 [==============================] - 52s 324ms/step - loss: 0.0413 - accuracy: 0.9861 - val_loss: 1.5034 - val_accuracy: 0.7117\n",
      "Epoch 8/10\n",
      "160/160 [==============================] - 53s 331ms/step - loss: 0.0310 - accuracy: 0.9887 - val_loss: 1.4589 - val_accuracy: 0.7000\n",
      "Epoch 9/10\n",
      "160/160 [==============================] - 53s 332ms/step - loss: 0.0291 - accuracy: 0.9906 - val_loss: 1.4470 - val_accuracy: 0.6930\n",
      "Epoch 10/10\n",
      "160/160 [==============================] - 52s 325ms/step - loss: 0.0196 - accuracy: 0.9928 - val_loss: 1.8917 - val_accuracy: 0.7063\n"
     ]
    }
   ],
   "source": [
    "from tensorflow.keras.layers import Bidirectional\n",
    "\n",
    "# Bi-LSTM Model\n",
    "bi_lstm_model = Sequential()\n",
    "\n",
    "# Embedding layer\n",
    "bi_lstm_model.add(Embedding(input_dim=max_words, output_dim=128, input_length=max_len))\n",
    "\n",
    "# Bidirectional LSTM layer\n",
    "bi_lstm_model.add(Bidirectional(LSTM(128, return_sequences=False)))\n",
    "\n",
    "# Fully connected layers\n",
    "bi_lstm_model.add(Dense(64, activation='relu'))\n",
    "bi_lstm_model.add(Dropout(0.5))\n",
    "bi_lstm_model.add(Dense(1, activation='sigmoid'))  # Binary classification\n",
    "\n",
    "# Compile the model\n",
    "bi_lstm_model.compile(optimizer='adam', loss='binary_crossentropy', metrics=['accuracy'])\n",
    "\n",
    "# Train the Bi-LSTM model\n",
    "bi_lstm_history = bi_lstm_model.fit(\n",
    "    X_train_padded, y_train,\n",
    "    epochs=10, batch_size=32,\n",
    "    validation_data=(X_test_padded, y_test)\n",
    ")\n"
   ]
  },
  {
   "cell_type": "code",
   "execution_count": 50,
   "id": "dc9428c4-390a-4937-9339-7323f7b1c93b",
   "metadata": {},
   "outputs": [
    {
     "name": "stdout",
     "output_type": "stream",
     "text": [
      "40/40 [==============================] - 1s 29ms/step - loss: 0.6544 - accuracy: 0.6383\n",
      "LSTM Accuracy: 63.83%\n"
     ]
    }
   ],
   "source": [
    "# Evaluate the LSTM model\n",
    "lstm_loss, lstm_accuracy = lstm_model.evaluate(X_test_padded, y_test)\n",
    "print(f\"LSTM Accuracy: {lstm_accuracy * 100:.2f}%\")\n"
   ]
  },
  {
   "cell_type": "code",
   "execution_count": 49,
   "id": "1e3d1910-da44-4393-8e58-9737cf161d1a",
   "metadata": {},
   "outputs": [
    {
     "name": "stdout",
     "output_type": "stream",
     "text": [
      "40/40 [==============================] - 2s 40ms/step - loss: 1.8917 - accuracy: 0.7063\n",
      "BI_LSTM Accuracy: 70.63%\n"
     ]
    }
   ],
   "source": [
    "# Evaluate the BI_LSTM model\n",
    "bi_lstm_loss, bi_lstm_accuracy = bi_lstm_model.evaluate(X_test_padded, y_test)\n",
    "print(f\"BI_LSTM Accuracy: {bi_lstm_accuracy * 100:.2f}%\")\n"
   ]
  },
  {
   "cell_type": "code",
   "execution_count": 51,
   "id": "ad6a2905-37c9-4042-a498-bcfd66d90d3c",
   "metadata": {},
   "outputs": [
    {
     "name": "stdout",
     "output_type": "stream",
     "text": [
      "Model: \"model\"\n",
      "__________________________________________________________________________________________________\n",
      " Layer (type)                Output Shape                 Param #   Connected to                  \n",
      "==================================================================================================\n",
      " input_1 (InputLayer)        [(None, 150)]                0         []                            \n",
      "                                                                                                  \n",
      " embedding_3 (Embedding)     (None, 150, 128)             1280000   ['input_1[0][0]']             \n",
      "                                                                                                  \n",
      " lstm_2 (LSTM)               (None, 150, 64)              49408     ['embedding_3[0][0]']         \n",
      "                                                                                                  \n",
      " conv1d_1 (Conv1D)           (None, 148, 64)              24640     ['embedding_3[0][0]']         \n",
      "                                                                                                  \n",
      " global_max_pooling1d_1 (Gl  (None, 64)                   0         ['lstm_2[0][0]']              \n",
      " obalMaxPooling1D)                                                                                \n",
      "                                                                                                  \n",
      " global_max_pooling1d_2 (Gl  (None, 64)                   0         ['conv1d_1[0][0]']            \n",
      " obalMaxPooling1D)                                                                                \n",
      "                                                                                                  \n",
      " concatenate (Concatenate)   (None, 128)                  0         ['global_max_pooling1d_1[0][0]\n",
      "                                                                    ',                            \n",
      "                                                                     'global_max_pooling1d_2[0][0]\n",
      "                                                                    ']                            \n",
      "                                                                                                  \n",
      " dropout_3 (Dropout)         (None, 128)                  0         ['concatenate[0][0]']         \n",
      "                                                                                                  \n",
      " dense_6 (Dense)             (None, 1)                    129       ['dropout_3[0][0]']           \n",
      "                                                                                                  \n",
      "==================================================================================================\n",
      "Total params: 1354177 (5.17 MB)\n",
      "Trainable params: 1354177 (5.17 MB)\n",
      "Non-trainable params: 0 (0.00 Byte)\n",
      "__________________________________________________________________________________________________\n"
     ]
    }
   ],
   "source": [
    "from tensorflow.keras.models import Model\n",
    "from tensorflow.keras.layers import Input, Embedding, LSTM, Conv1D, GlobalMaxPooling1D, Concatenate, Dense, Dropout\n",
    "\n",
    "# Input\n",
    "input_layer = Input(shape=(max_len,))\n",
    "\n",
    "# Shared Embedding layer\n",
    "embedding = Embedding(input_dim=max_words, output_dim=128, input_length=max_len)(input_layer)\n",
    "\n",
    "# LSTM Branch\n",
    "lstm = LSTM(64, return_sequences=True)(embedding)\n",
    "lstm_pool = GlobalMaxPooling1D()(lstm)\n",
    "\n",
    "# CNN Branch\n",
    "conv = Conv1D(64, kernel_size=3, activation='relu')(embedding)\n",
    "conv_pool = GlobalMaxPooling1D()(conv)\n",
    "\n",
    "# Merge both\n",
    "merged = Concatenate()([lstm_pool, conv_pool])\n",
    "merged = Dropout(0.5)(merged)\n",
    "output = Dense(1, activation='sigmoid')(merged)\n",
    "\n",
    "# Final model\n",
    "model = Model(inputs=input_layer, outputs=output)\n",
    "model.compile(loss='binary_crossentropy', optimizer='adam', metrics=['accuracy'])\n",
    "\n",
    "model.summary()\n"
   ]
  },
  {
   "cell_type": "code",
   "execution_count": 52,
   "id": "7c3a3e22-eb6d-4912-94d5-0c21b7489865",
   "metadata": {},
   "outputs": [
    {
     "name": "stdout",
     "output_type": "stream",
     "text": [
      "Epoch 1/5\n",
      "160/160 [==============================] - 17s 91ms/step - loss: 0.5843 - accuracy: 0.6767 - val_loss: 0.5260 - val_accuracy: 0.7492\n",
      "Epoch 2/5\n",
      "160/160 [==============================] - 15s 93ms/step - loss: 0.4484 - accuracy: 0.8184 - val_loss: 0.5073 - val_accuracy: 0.7594\n",
      "Epoch 3/5\n",
      "160/160 [==============================] - 19s 117ms/step - loss: 0.3160 - accuracy: 0.8864 - val_loss: 0.5680 - val_accuracy: 0.7273\n",
      "Epoch 4/5\n",
      "160/160 [==============================] - 22s 135ms/step - loss: 0.1898 - accuracy: 0.9345 - val_loss: 0.6577 - val_accuracy: 0.7234\n",
      "Epoch 5/5\n",
      "160/160 [==============================] - 22s 137ms/step - loss: 0.1015 - accuracy: 0.9705 - val_loss: 0.8520 - val_accuracy: 0.7258\n"
     ]
    }
   ],
   "source": [
    "history = model.fit(\n",
    "    X_train_pad, y_train,\n",
    "    epochs=5,\n",
    "    batch_size=32,\n",
    "    validation_data=(X_test_pad, y_test)\n",
    ")\n"
   ]
  },
  {
   "cell_type": "code",
   "execution_count": 55,
   "id": "3f3cf0ba-bb0e-40bf-9ad1-19e2fdff9d58",
   "metadata": {},
   "outputs": [
    {
     "name": "stdout",
     "output_type": "stream",
     "text": [
      "Final Training Accuracy: 97.05%\n",
      "Final Validation Accuracy: 72.58%\n"
     ]
    }
   ],
   "source": [
    "final_train_acc = history.history['accuracy'][-1]\n",
    "final_val_acc = history.history['val_accuracy'][-1]\n",
    "\n",
    "print(f\"Final Training Accuracy: {final_train_acc * 100:.2f}%\")\n",
    "print(f\"Final Validation Accuracy: {final_val_acc * 100:.2f}%\")"
   ]
  },
  {
   "cell_type": "code",
   "execution_count": 26,
   "id": "fda75c4d-e6f9-4751-b2db-10a305db6375",
   "metadata": {},
   "outputs": [
    {
     "data": {
      "text/html": [
       "<div>\n",
       "<style scoped>\n",
       "    .dataframe tbody tr th:only-of-type {\n",
       "        vertical-align: middle;\n",
       "    }\n",
       "\n",
       "    .dataframe tbody tr th {\n",
       "        vertical-align: top;\n",
       "    }\n",
       "\n",
       "    .dataframe thead th {\n",
       "        text-align: right;\n",
       "    }\n",
       "</style>\n",
       "<table border=\"1\" class=\"dataframe\">\n",
       "  <thead>\n",
       "    <tr style=\"text-align: right;\">\n",
       "      <th></th>\n",
       "      <th>Id</th>\n",
       "      <th>Tweet</th>\n",
       "      <th>Hate</th>\n",
       "      <th>Target</th>\n",
       "      <th>Severity</th>\n",
       "      <th>preprocessed_text</th>\n",
       "    </tr>\n",
       "  </thead>\n",
       "  <tbody>\n",
       "    <tr>\n",
       "      <th>0</th>\n",
       "      <td>5723</td>\n",
       "      <td>@sudhirchaudhary Abhi tak 2000 ke note me mujh...</td>\n",
       "      <td>0</td>\n",
       "      <td>0</td>\n",
       "      <td>0</td>\n",
       "      <td>@sudhirchaudhary Abhi tak 2000 ke note me mujh...</td>\n",
       "    </tr>\n",
       "    <tr>\n",
       "      <th>1</th>\n",
       "      <td>2338</td>\n",
       "      <td>@Gulamane_raza @MustakimRazvi Abe katiye tumse...</td>\n",
       "      <td>1</td>\n",
       "      <td>O</td>\n",
       "      <td>H</td>\n",
       "      <td>@Gulamane_raza @MustakimRazvi Abe katiye tumse...</td>\n",
       "    </tr>\n",
       "    <tr>\n",
       "      <th>2</th>\n",
       "      <td>1579</td>\n",
       "      <td>@RajatSharmaLive Ye sab sazish hai....bina sam...</td>\n",
       "      <td>1</td>\n",
       "      <td>O</td>\n",
       "      <td>M</td>\n",
       "      <td>@RajatSharmaLive Ye sab sazish hai....bina sam...</td>\n",
       "    </tr>\n",
       "    <tr>\n",
       "      <th>3</th>\n",
       "      <td>6524</td>\n",
       "      <td>abe jao tum to dasko pahle hi fash gye the jab...</td>\n",
       "      <td>1</td>\n",
       "      <td>I</td>\n",
       "      <td>L</td>\n",
       "      <td>abe jao tum to dasko pahle hi fash gye the jab...</td>\n",
       "    </tr>\n",
       "    <tr>\n",
       "      <th>4</th>\n",
       "      <td>7618</td>\n",
       "      <td>Ab ye afbah kaun faila Raha hai ki Shahhen bag...</td>\n",
       "      <td>0</td>\n",
       "      <td>0</td>\n",
       "      <td>0</td>\n",
       "      <td>Ab ye afbah kaun faila Raha hai ki Shahhen bag...</td>\n",
       "    </tr>\n",
       "    <tr>\n",
       "      <th>...</th>\n",
       "      <td>...</td>\n",
       "      <td>...</td>\n",
       "      <td>...</td>\n",
       "      <td>...</td>\n",
       "      <td>...</td>\n",
       "      <td>...</td>\n",
       "    </tr>\n",
       "    <tr>\n",
       "      <th>6391</th>\n",
       "      <td>5227</td>\n",
       "      <td>@team_hyv Pathaan part 2 bhi aa rha hai, boyco...</td>\n",
       "      <td>1</td>\n",
       "      <td>O</td>\n",
       "      <td>M</td>\n",
       "      <td>@team_hyv Pathaan part 2 bhi aa rha hai, boyco...</td>\n",
       "    </tr>\n",
       "    <tr>\n",
       "      <th>6392</th>\n",
       "      <td>5391</td>\n",
       "      <td>@amitku1047 @bordiasanjay @izeenatrana @RahulG...</td>\n",
       "      <td>1</td>\n",
       "      <td>O</td>\n",
       "      <td>L</td>\n",
       "      <td>@amitku1047 @bordiasanjay @izeenatrana @RahulG...</td>\n",
       "    </tr>\n",
       "    <tr>\n",
       "      <th>6393</th>\n",
       "      <td>861</td>\n",
       "      <td>@HusainSahadal Sachaee ladaee hoti h hamare de...</td>\n",
       "      <td>1</td>\n",
       "      <td>O</td>\n",
       "      <td>L</td>\n",
       "      <td>@HusainSahadal Sachaee ladaee hoti h hamare de...</td>\n",
       "    </tr>\n",
       "    <tr>\n",
       "      <th>6394</th>\n",
       "      <td>7604</td>\n",
       "      <td>Hahaha hahaha kejurdin ððð</td>\n",
       "      <td>0</td>\n",
       "      <td>0</td>\n",
       "      <td>0</td>\n",
       "      <td>Hahaha hahaha kejurdin ððð</td>\n",
       "    </tr>\n",
       "    <tr>\n",
       "      <th>6395</th>\n",
       "      <td>7271</td>\n",
       "      <td>Aswini upadhyay aap desh ko grhyudh ke raste p...</td>\n",
       "      <td>0</td>\n",
       "      <td>0</td>\n",
       "      <td>0</td>\n",
       "      <td>Aswini upadhyay aap desh ko grhyudh ke raste p...</td>\n",
       "    </tr>\n",
       "  </tbody>\n",
       "</table>\n",
       "<p>6396 rows × 6 columns</p>\n",
       "</div>"
      ],
      "text/plain": [
       "        Id                                              Tweet  Hate Target  \\\n",
       "0     5723  @sudhirchaudhary Abhi tak 2000 ke note me mujh...     0      0   \n",
       "1     2338  @Gulamane_raza @MustakimRazvi Abe katiye tumse...     1      O   \n",
       "2     1579  @RajatSharmaLive Ye sab sazish hai....bina sam...     1      O   \n",
       "3     6524  abe jao tum to dasko pahle hi fash gye the jab...     1      I   \n",
       "4     7618  Ab ye afbah kaun faila Raha hai ki Shahhen bag...     0      0   \n",
       "...    ...                                                ...   ...    ...   \n",
       "6391  5227  @team_hyv Pathaan part 2 bhi aa rha hai, boyco...     1      O   \n",
       "6392  5391  @amitku1047 @bordiasanjay @izeenatrana @RahulG...     1      O   \n",
       "6393   861  @HusainSahadal Sachaee ladaee hoti h hamare de...     1      O   \n",
       "6394  7604                Hahaha hahaha kejurdin ððð     0      0   \n",
       "6395  7271  Aswini upadhyay aap desh ko grhyudh ke raste p...     0      0   \n",
       "\n",
       "     Severity                                  preprocessed_text  \n",
       "0           0  @sudhirchaudhary Abhi tak 2000 ke note me mujh...  \n",
       "1           H  @Gulamane_raza @MustakimRazvi Abe katiye tumse...  \n",
       "2           M  @RajatSharmaLive Ye sab sazish hai....bina sam...  \n",
       "3           L  abe jao tum to dasko pahle hi fash gye the jab...  \n",
       "4           0  Ab ye afbah kaun faila Raha hai ki Shahhen bag...  \n",
       "...       ...                                                ...  \n",
       "6391        M  @team_hyv Pathaan part 2 bhi aa rha hai, boyco...  \n",
       "6392        L  @amitku1047 @bordiasanjay @izeenatrana @RahulG...  \n",
       "6393        L  @HusainSahadal Sachaee ladaee hoti h hamare de...  \n",
       "6394        0                Hahaha hahaha kejurdin ððð  \n",
       "6395        0  Aswini upadhyay aap desh ko grhyudh ke raste p...  \n",
       "\n",
       "[6396 rows x 6 columns]"
      ]
     },
     "execution_count": 26,
     "metadata": {},
     "output_type": "execute_result"
    }
   ],
   "source": [
    "df"
   ]
  },
  {
   "cell_type": "code",
   "execution_count": 30,
   "id": "752a621b-d5d4-42a8-a59b-c44a03d684b8",
   "metadata": {},
   "outputs": [
    {
     "name": "stdout",
     "output_type": "stream",
     "text": [
      "Epoch 1/10\n",
      "160/160 [==============================] - 12s 58ms/step - loss: 0.1330 - accuracy: 0.9400 - val_loss: 8.6550e-05 - val_accuracy: 1.0000\n",
      "Epoch 2/10\n",
      "160/160 [==============================] - 10s 59ms/step - loss: 7.4428e-04 - accuracy: 0.9998 - val_loss: 1.0874e-05 - val_accuracy: 1.0000\n",
      "Epoch 3/10\n",
      "160/160 [==============================] - 8s 50ms/step - loss: 2.5924e-04 - accuracy: 1.0000 - val_loss: 2.4527e-06 - val_accuracy: 1.0000\n",
      "Epoch 4/10\n",
      "160/160 [==============================] - 8s 49ms/step - loss: 1.8030e-04 - accuracy: 1.0000 - val_loss: 8.9789e-07 - val_accuracy: 1.0000\n",
      "Epoch 5/10\n",
      "160/160 [==============================] - 8s 51ms/step - loss: 8.7347e-05 - accuracy: 1.0000 - val_loss: 3.6778e-07 - val_accuracy: 1.0000\n",
      "Epoch 6/10\n",
      "160/160 [==============================] - 10s 64ms/step - loss: 5.6189e-05 - accuracy: 1.0000 - val_loss: 1.6233e-07 - val_accuracy: 1.0000\n",
      "Epoch 7/10\n",
      "160/160 [==============================] - 10s 62ms/step - loss: 3.9946e-05 - accuracy: 1.0000 - val_loss: 1.6233e-07 - val_accuracy: 1.0000\n",
      "Epoch 8/10\n",
      "160/160 [==============================] - 11s 69ms/step - loss: 3.5162e-05 - accuracy: 1.0000 - val_loss: 4.3120e-08 - val_accuracy: 1.0000\n",
      "Epoch 9/10\n",
      "160/160 [==============================] - 14s 85ms/step - loss: 6.4967e-05 - accuracy: 1.0000 - val_loss: 0.0000e+00 - val_accuracy: 1.0000\n",
      "Epoch 10/10\n",
      "160/160 [==============================] - 10s 66ms/step - loss: 1.0657e-05 - accuracy: 1.0000 - val_loss: 0.0000e+00 - val_accuracy: 1.0000\n"
     ]
    }
   ],
   "source": [
    "from tensorflow.keras.preprocessing.sequence import pad_sequences\n",
    "from tensorflow.keras.models import Model\n",
    "from tensorflow.keras.layers import Input, Embedding, LSTM, Conv1D, GlobalMaxPooling1D, concatenate, Dense, Dropout\n",
    "from tensorflow.keras.utils import to_categorical\n",
    "\n",
    "num_classes = len(df['Hate'].unique())\n",
    "texts = df['Hate'].astype(str).values\n",
    "labels = to_categorical(df['Hate'].astype(int).values, num_classes=num_classes)\n",
    "\n",
    "# 2. Split data\n",
    "X_train, X_test, y_train, y_test = train_test_split(texts, labels, test_size=0.2, random_state=42)\n",
    "\n",
    "# 3. Tokenization & Padding\n",
    "max_words = 10000\n",
    "max_len = 100\n",
    "\n",
    "tokenizer = Tokenizer(num_words=max_words)\n",
    "tokenizer.fit_on_texts(X_train)\n",
    "X_train_seq = tokenizer.texts_to_sequences(X_train)\n",
    "X_test_seq = tokenizer.texts_to_sequences(X_test)\n",
    "\n",
    "X_train_pad = pad_sequences(X_train_seq, maxlen=max_len, padding='post')\n",
    "X_test_pad = pad_sequences(X_test_seq, maxlen=max_len, padding='post')\n",
    "\n",
    "# 4. Build Hybrid Model: CNN + LSTM\n",
    "input_layer = Input(shape=(max_len,))\n",
    "embedding_layer = Embedding(input_dim=max_words, output_dim=128, input_length=max_len)(input_layer)\n",
    "\n",
    "# CNN branch\n",
    "cnn_layer = Conv1D(64, 5, activation='relu')(embedding_layer)\n",
    "cnn_layer = GlobalMaxPooling1D()(cnn_layer)\n",
    "\n",
    "# LSTM branch\n",
    "lstm_layer = LSTM(64)(embedding_layer)\n",
    "\n",
    "# Merge both branches\n",
    "merged = concatenate([cnn_layer, lstm_layer])\n",
    "dense = Dense(64, activation='relu')(merged)\n",
    "dropout = Dropout(0.5)(dense)\n",
    "output = Dense(num_classes, activation='softmax')(dropout)\n",
    "\n",
    "# Compile model\n",
    "model = Model(inputs=input_layer, outputs=output)\n",
    "model.compile(loss='categorical_crossentropy', optimizer='adam', metrics=['accuracy'])\n",
    "\n",
    "# 5. Train model\n",
    "history = model.fit(\n",
    "    X_train_pad, y_train,\n",
    "    epochs=10,\n",
    "    batch_size=32,\n",
    "    validation_data=(X_test_pad, y_test)\n",
    ")"
   ]
  },
  {
   "cell_type": "code",
   "execution_count": 31,
   "id": "af225f48-56c3-4e7c-8414-062d9611a9eb",
   "metadata": {},
   "outputs": [
    {
     "name": "stdout",
     "output_type": "stream",
     "text": [
      "40/40 [==============================] - 1s 14ms/step - loss: 0.0000e+00 - accuracy: 1.0000\n",
      "Test Accuracy: 100.00%\n"
     ]
    }
   ],
   "source": [
    "loss, accuracy = model.evaluate(X_test_pad, y_test, verbose=1)\n",
    "print(f\"Test Accuracy: {accuracy * 100:.2f}%\")\n"
   ]
  },
  {
   "cell_type": "code",
   "execution_count": null,
   "id": "4986ba49-c558-4c65-918d-71c91f804c3e",
   "metadata": {},
   "outputs": [],
   "source": []
  },
  {
   "cell_type": "code",
   "execution_count": null,
   "id": "0b921124-3db0-409a-9f6c-d3095a4a79bb",
   "metadata": {},
   "outputs": [],
   "source": []
  },
  {
   "cell_type": "code",
   "execution_count": null,
   "id": "59c5330a-1f0b-4500-bd76-f84934a695a0",
   "metadata": {},
   "outputs": [],
   "source": []
  },
  {
   "cell_type": "code",
   "execution_count": null,
   "id": "b8a450da-c2ee-45dc-9aeb-de6b99694039",
   "metadata": {},
   "outputs": [],
   "source": []
  },
  {
   "cell_type": "code",
   "execution_count": null,
   "id": "8f0f3dd7-dd79-4dbd-9478-dfe722cb8911",
   "metadata": {},
   "outputs": [],
   "source": []
  },
  {
   "cell_type": "code",
   "execution_count": null,
   "id": "8d67597c-ac5d-4d23-8611-3d39c86641af",
   "metadata": {},
   "outputs": [],
   "source": []
  },
  {
   "cell_type": "code",
   "execution_count": null,
   "id": "77ec8c3e-7ddf-4ff1-96b5-a3b751305e1a",
   "metadata": {},
   "outputs": [],
   "source": []
  },
  {
   "cell_type": "code",
   "execution_count": null,
   "id": "160c854e-0530-42c1-85b8-b38b4dd1cfed",
   "metadata": {},
   "outputs": [],
   "source": []
  },
  {
   "cell_type": "code",
   "execution_count": null,
   "id": "5c64ea23-6c27-42c0-be06-f571e1d796ed",
   "metadata": {},
   "outputs": [],
   "source": []
  },
  {
   "cell_type": "code",
   "execution_count": null,
   "id": "88fd3e10-f372-4d14-8d33-72e329295b05",
   "metadata": {},
   "outputs": [],
   "source": []
  },
  {
   "cell_type": "code",
   "execution_count": null,
   "id": "daced2cd-0f1e-4600-a8b9-707c2297f15c",
   "metadata": {},
   "outputs": [],
   "source": []
  },
  {
   "cell_type": "code",
   "execution_count": null,
   "id": "75f7b2c6-178a-492e-a8d3-f463e22a09e7",
   "metadata": {},
   "outputs": [],
   "source": []
  },
  {
   "cell_type": "code",
   "execution_count": null,
   "id": "c1180f60-d020-4a5e-900c-c8a0322d6235",
   "metadata": {},
   "outputs": [],
   "source": []
  },
  {
   "cell_type": "code",
   "execution_count": null,
   "id": "b2c42ddf-8941-4d92-b2ed-7e52897e1a0c",
   "metadata": {},
   "outputs": [],
   "source": []
  },
  {
   "cell_type": "code",
   "execution_count": null,
   "id": "b6745616-4dc2-457c-920f-dc164a07c8d9",
   "metadata": {},
   "outputs": [],
   "source": []
  },
  {
   "cell_type": "code",
   "execution_count": null,
   "id": "c073cf83-3913-45c9-a115-024ed96f7ce3",
   "metadata": {},
   "outputs": [],
   "source": []
  },
  {
   "cell_type": "code",
   "execution_count": null,
   "id": "49c575da-b3f1-42d6-b229-3f1ecaaa6739",
   "metadata": {},
   "outputs": [],
   "source": []
  },
  {
   "cell_type": "code",
   "execution_count": null,
   "id": "a4de83c7-0ca5-48f9-b9ac-40b3ff34523e",
   "metadata": {},
   "outputs": [],
   "source": []
  },
  {
   "cell_type": "code",
   "execution_count": null,
   "id": "21755f7b-a821-49aa-96e5-a7454314b8da",
   "metadata": {},
   "outputs": [],
   "source": []
  },
  {
   "cell_type": "code",
   "execution_count": null,
   "id": "c4644a55-219d-40ad-ac9c-be26e1557926",
   "metadata": {},
   "outputs": [],
   "source": []
  },
  {
   "cell_type": "code",
   "execution_count": null,
   "id": "f4242d91-23e3-48f9-9700-589e5c5a7218",
   "metadata": {},
   "outputs": [],
   "source": []
  },
  {
   "cell_type": "code",
   "execution_count": null,
   "id": "c2ca76e3-f623-467b-9d8b-775c59d5d5e3",
   "metadata": {},
   "outputs": [],
   "source": []
  },
  {
   "cell_type": "code",
   "execution_count": null,
   "id": "368bd408-62e9-40cf-ae7b-bcd934a1a3c6",
   "metadata": {},
   "outputs": [],
   "source": []
  },
  {
   "cell_type": "code",
   "execution_count": null,
   "id": "55723381-99a9-4f07-a85d-9bbb20250d82",
   "metadata": {},
   "outputs": [],
   "source": []
  },
  {
   "cell_type": "code",
   "execution_count": null,
   "id": "d95d47ae-09da-4f7c-b906-973d7da7390c",
   "metadata": {},
   "outputs": [],
   "source": []
  },
  {
   "cell_type": "code",
   "execution_count": null,
   "id": "74bcee6d-6ba8-4ead-b8bc-aec53bf507a9",
   "metadata": {},
   "outputs": [],
   "source": []
  },
  {
   "cell_type": "code",
   "execution_count": null,
   "id": "a69c1cc8-aa7a-4d9b-b38c-e5b80493ec74",
   "metadata": {},
   "outputs": [],
   "source": []
  },
  {
   "cell_type": "code",
   "execution_count": null,
   "id": "8b795655-fb7e-4ffb-a202-81b02d43c1bf",
   "metadata": {},
   "outputs": [],
   "source": []
  },
  {
   "cell_type": "code",
   "execution_count": null,
   "id": "50af9541-0dd5-4612-a43c-f172efc67606",
   "metadata": {},
   "outputs": [],
   "source": []
  },
  {
   "cell_type": "code",
   "execution_count": null,
   "id": "17549dc3-0902-4073-ac26-83270ea8208b",
   "metadata": {},
   "outputs": [],
   "source": []
  },
  {
   "cell_type": "code",
   "execution_count": null,
   "id": "b5ca4a69-f6cc-4e5b-9869-6d732fd6e669",
   "metadata": {},
   "outputs": [],
   "source": []
  },
  {
   "cell_type": "code",
   "execution_count": null,
   "id": "9b22bee6-502d-40fd-a3ab-4f23072a2f30",
   "metadata": {},
   "outputs": [],
   "source": []
  },
  {
   "cell_type": "code",
   "execution_count": null,
   "id": "6d6ef577-7064-4844-9622-3626c94ce531",
   "metadata": {},
   "outputs": [],
   "source": []
  },
  {
   "cell_type": "code",
   "execution_count": null,
   "id": "ed6e9fb5-284b-498f-bb50-ac4a5e80de1b",
   "metadata": {},
   "outputs": [],
   "source": []
  },
  {
   "cell_type": "code",
   "execution_count": null,
   "id": "e98a2c10-cb65-4cd1-83a9-6049422c8c7a",
   "metadata": {},
   "outputs": [],
   "source": []
  },
  {
   "cell_type": "code",
   "execution_count": null,
   "id": "463c28c3-a547-4d04-817a-e341014582a4",
   "metadata": {},
   "outputs": [],
   "source": []
  },
  {
   "cell_type": "code",
   "execution_count": null,
   "id": "3fcaa908-a73b-4a50-a5e6-2c45b7486767",
   "metadata": {},
   "outputs": [],
   "source": []
  },
  {
   "cell_type": "code",
   "execution_count": null,
   "id": "0d20a3e7-1064-4e8c-bdd5-59af415dfea0",
   "metadata": {},
   "outputs": [],
   "source": []
  },
  {
   "cell_type": "code",
   "execution_count": null,
   "id": "b744f500-b237-446f-b7ad-5549b76e4c1b",
   "metadata": {},
   "outputs": [],
   "source": []
  },
  {
   "cell_type": "code",
   "execution_count": null,
   "id": "47a961ed-9618-46f7-ac3e-252ca2a705cb",
   "metadata": {},
   "outputs": [],
   "source": []
  },
  {
   "cell_type": "code",
   "execution_count": null,
   "id": "9b73683e-fe74-4561-b8a6-2c3434031feb",
   "metadata": {},
   "outputs": [],
   "source": []
  },
  {
   "cell_type": "code",
   "execution_count": null,
   "id": "9a576902-26cc-4c8a-b7cb-047031bd41d9",
   "metadata": {},
   "outputs": [],
   "source": []
  },
  {
   "cell_type": "code",
   "execution_count": null,
   "id": "976f7f37-2592-49e7-8b44-2943b5eb6387",
   "metadata": {},
   "outputs": [],
   "source": []
  },
  {
   "cell_type": "code",
   "execution_count": null,
   "id": "0bf6bd93-1aaf-4630-8d9d-e8347e080e10",
   "metadata": {},
   "outputs": [],
   "source": []
  },
  {
   "cell_type": "code",
   "execution_count": null,
   "id": "8e102613-dcf8-4219-917a-719c27d2b9ad",
   "metadata": {},
   "outputs": [],
   "source": []
  },
  {
   "cell_type": "code",
   "execution_count": null,
   "id": "af3efba3-f38b-4b9f-ba67-6d71428f6270",
   "metadata": {},
   "outputs": [],
   "source": []
  },
  {
   "cell_type": "code",
   "execution_count": null,
   "id": "13c6612d-b256-442b-807d-ec415484aa04",
   "metadata": {},
   "outputs": [],
   "source": []
  },
  {
   "cell_type": "code",
   "execution_count": null,
   "id": "49114b62-7ab0-4e61-acdc-bedcfbb32c11",
   "metadata": {},
   "outputs": [],
   "source": []
  },
  {
   "cell_type": "code",
   "execution_count": null,
   "id": "d5fedf9b-98f3-439c-ae8a-d20ec8de8644",
   "metadata": {},
   "outputs": [],
   "source": []
  }
 ],
 "metadata": {
  "kernelspec": {
   "display_name": "Python 3 (ipykernel)",
   "language": "python",
   "name": "python3"
  },
  "language_info": {
   "codemirror_mode": {
    "name": "ipython",
    "version": 3
   },
   "file_extension": ".py",
   "mimetype": "text/x-python",
   "name": "python",
   "nbconvert_exporter": "python",
   "pygments_lexer": "ipython3",
   "version": "3.11.3"
  }
 },
 "nbformat": 4,
 "nbformat_minor": 5
}
