{
 "cells": [
  {
   "cell_type": "code",
   "execution_count": 1,
   "id": "adec0706-5410-4c3f-8a2f-9a8554e0b729",
   "metadata": {},
   "outputs": [],
   "source": [
    "import pandas as pd\n",
    "data = pd.read_csv(r\"C:\\Users\\parkh\\OneDrive\\Desktop\\HateSpeech\\TwitterHate.csv\")\n",
    "\n"
   ]
  },
  {
   "cell_type": "code",
   "execution_count": 2,
   "id": "aef4b3b6-87d2-42ea-8be6-de48874668e9",
   "metadata": {},
   "outputs": [],
   "source": [
    "df = data.copy()"
   ]
  },
  {
   "cell_type": "code",
   "execution_count": 3,
   "id": "f7c878d8-9297-48d3-ae84-d3c336f29a74",
   "metadata": {},
   "outputs": [
    {
     "data": {
      "text/plain": [
       "id       0\n",
       "label    0\n",
       "tweet    0\n",
       "dtype: int64"
      ]
     },
     "execution_count": 3,
     "metadata": {},
     "output_type": "execute_result"
    }
   ],
   "source": [
    "df.isnull().sum()"
   ]
  },
  {
   "cell_type": "code",
   "execution_count": 4,
   "id": "7c80fdc8-c74c-4ede-b02c-11d2425b5797",
   "metadata": {},
   "outputs": [
    {
     "data": {
      "text/html": [
       "<div>\n",
       "<style scoped>\n",
       "    .dataframe tbody tr th:only-of-type {\n",
       "        vertical-align: middle;\n",
       "    }\n",
       "\n",
       "    .dataframe tbody tr th {\n",
       "        vertical-align: top;\n",
       "    }\n",
       "\n",
       "    .dataframe thead th {\n",
       "        text-align: right;\n",
       "    }\n",
       "</style>\n",
       "<table border=\"1\" class=\"dataframe\">\n",
       "  <thead>\n",
       "    <tr style=\"text-align: right;\">\n",
       "      <th></th>\n",
       "      <th>id</th>\n",
       "      <th>label</th>\n",
       "      <th>tweet</th>\n",
       "    </tr>\n",
       "  </thead>\n",
       "  <tbody>\n",
       "    <tr>\n",
       "      <th>0</th>\n",
       "      <td>1</td>\n",
       "      <td>0</td>\n",
       "      <td>@user when a father is dysfunctional and is s...</td>\n",
       "    </tr>\n",
       "    <tr>\n",
       "      <th>1</th>\n",
       "      <td>2</td>\n",
       "      <td>0</td>\n",
       "      <td>@user @user thanks for #lyft credit i can't us...</td>\n",
       "    </tr>\n",
       "    <tr>\n",
       "      <th>2</th>\n",
       "      <td>3</td>\n",
       "      <td>0</td>\n",
       "      <td>bihday your majesty</td>\n",
       "    </tr>\n",
       "    <tr>\n",
       "      <th>3</th>\n",
       "      <td>4</td>\n",
       "      <td>0</td>\n",
       "      <td>#model   i love u take with u all the time in ...</td>\n",
       "    </tr>\n",
       "    <tr>\n",
       "      <th>4</th>\n",
       "      <td>5</td>\n",
       "      <td>0</td>\n",
       "      <td>factsguide: society now    #motivation</td>\n",
       "    </tr>\n",
       "  </tbody>\n",
       "</table>\n",
       "</div>"
      ],
      "text/plain": [
       "   id  label                                              tweet\n",
       "0   1      0   @user when a father is dysfunctional and is s...\n",
       "1   2      0  @user @user thanks for #lyft credit i can't us...\n",
       "2   3      0                                bihday your majesty\n",
       "3   4      0  #model   i love u take with u all the time in ...\n",
       "4   5      0             factsguide: society now    #motivation"
      ]
     },
     "execution_count": 4,
     "metadata": {},
     "output_type": "execute_result"
    }
   ],
   "source": [
    "df.head()"
   ]
  },
  {
   "cell_type": "code",
   "execution_count": 5,
   "id": "7af2a897-c2a1-42c1-be33-b82c9a97ee8e",
   "metadata": {},
   "outputs": [],
   "source": [
    "X = df['tweet']\n",
    "y = df['label']"
   ]
  },
  {
   "cell_type": "code",
   "execution_count": 6,
   "id": "c7ca71bd-818d-4925-8030-394fccdde8a5",
   "metadata": {},
   "outputs": [
    {
     "data": {
      "text/html": [
       "<div>\n",
       "<style scoped>\n",
       "    .dataframe tbody tr th:only-of-type {\n",
       "        vertical-align: middle;\n",
       "    }\n",
       "\n",
       "    .dataframe tbody tr th {\n",
       "        vertical-align: top;\n",
       "    }\n",
       "\n",
       "    .dataframe thead th {\n",
       "        text-align: right;\n",
       "    }\n",
       "</style>\n",
       "<table border=\"1\" class=\"dataframe\">\n",
       "  <thead>\n",
       "    <tr style=\"text-align: right;\">\n",
       "      <th></th>\n",
       "      <th>id</th>\n",
       "      <th>label</th>\n",
       "      <th>tweet</th>\n",
       "    </tr>\n",
       "  </thead>\n",
       "  <tbody>\n",
       "    <tr>\n",
       "      <th>0</th>\n",
       "      <td>1</td>\n",
       "      <td>0</td>\n",
       "      <td>@user when a father is dysfunctional and is s...</td>\n",
       "    </tr>\n",
       "    <tr>\n",
       "      <th>1</th>\n",
       "      <td>2</td>\n",
       "      <td>0</td>\n",
       "      <td>@user @user thanks for #lyft credit i can't us...</td>\n",
       "    </tr>\n",
       "    <tr>\n",
       "      <th>3</th>\n",
       "      <td>4</td>\n",
       "      <td>0</td>\n",
       "      <td>#model   i love u take with u all the time in ...</td>\n",
       "    </tr>\n",
       "    <tr>\n",
       "      <th>4</th>\n",
       "      <td>5</td>\n",
       "      <td>0</td>\n",
       "      <td>factsguide: society now    #motivation</td>\n",
       "    </tr>\n",
       "    <tr>\n",
       "      <th>5</th>\n",
       "      <td>6</td>\n",
       "      <td>0</td>\n",
       "      <td>[2/2] huge fan fare and big talking before the...</td>\n",
       "    </tr>\n",
       "    <tr>\n",
       "      <th>...</th>\n",
       "      <td>...</td>\n",
       "      <td>...</td>\n",
       "      <td>...</td>\n",
       "    </tr>\n",
       "    <tr>\n",
       "      <th>31956</th>\n",
       "      <td>31957</td>\n",
       "      <td>0</td>\n",
       "      <td>off fishing tomorrow @user carnt wait first ti...</td>\n",
       "    </tr>\n",
       "    <tr>\n",
       "      <th>31957</th>\n",
       "      <td>31958</td>\n",
       "      <td>0</td>\n",
       "      <td>ate @user isz that youuu?ðððððð...</td>\n",
       "    </tr>\n",
       "    <tr>\n",
       "      <th>31958</th>\n",
       "      <td>31959</td>\n",
       "      <td>0</td>\n",
       "      <td>to see nina turner on the airwaves trying to...</td>\n",
       "    </tr>\n",
       "    <tr>\n",
       "      <th>31960</th>\n",
       "      <td>31961</td>\n",
       "      <td>1</td>\n",
       "      <td>@user #sikh #temple vandalised in in #calgary,...</td>\n",
       "    </tr>\n",
       "    <tr>\n",
       "      <th>31961</th>\n",
       "      <td>31962</td>\n",
       "      <td>0</td>\n",
       "      <td>thank you @user for you follow</td>\n",
       "    </tr>\n",
       "  </tbody>\n",
       "</table>\n",
       "<p>31193 rows × 3 columns</p>\n",
       "</div>"
      ],
      "text/plain": [
       "          id  label                                              tweet\n",
       "0          1      0   @user when a father is dysfunctional and is s...\n",
       "1          2      0  @user @user thanks for #lyft credit i can't us...\n",
       "3          4      0  #model   i love u take with u all the time in ...\n",
       "4          5      0             factsguide: society now    #motivation\n",
       "5          6      0  [2/2] huge fan fare and big talking before the...\n",
       "...      ...    ...                                                ...\n",
       "31956  31957      0  off fishing tomorrow @user carnt wait first ti...\n",
       "31957  31958      0  ate @user isz that youuu?ðððððð...\n",
       "31958  31959      0    to see nina turner on the airwaves trying to...\n",
       "31960  31961      1  @user #sikh #temple vandalised in in #calgary,...\n",
       "31961  31962      0                   thank you @user for you follow  \n",
       "\n",
       "[31193 rows x 3 columns]"
      ]
     },
     "execution_count": 6,
     "metadata": {},
     "output_type": "execute_result"
    }
   ],
   "source": [
    "import re\n",
    "special_char_rows = df[df['tweet'].str.contains(r'[^A-Za-z0-9\\s]', regex=True)]\n",
    "special_char_rows\n"
   ]
  },
  {
   "cell_type": "code",
   "execution_count": 7,
   "id": "bedf277c-beb9-429c-84e8-d7299bc5f788",
   "metadata": {},
   "outputs": [],
   "source": [
    "def remove_special_characters(text):\n",
    "    return re.sub(r'[^A-Za-z0-9\\s]', '', text)\n",
    "\n",
    "df['tweet'] = df['tweet'].apply(remove_special_characters)\n",
    "no_special_char_rows = df[~df['tweet'].str.contains(r'[^A-Za-z0-9\\s]', regex=True)]\n",
    "no_special_char_rows\n",
    "df['preprocessed_text'] = df['tweet'].str.lower()\n",
    "\n"
   ]
  },
  {
   "cell_type": "code",
   "execution_count": 8,
   "id": "5feca375-887f-4378-984c-b8c050acdad6",
   "metadata": {},
   "outputs": [
    {
     "data": {
      "text/plain": [
       "0         user when a father is dysfunctional and is so...\n",
       "1        user user thanks for lyft credit i cant use ca...\n",
       "2                                      bihday your majesty\n",
       "3        model   i love u take with u all the time in u...\n",
       "4                     factsguide society now    motivation\n",
       "                               ...                        \n",
       "31957                             ate user isz that youuu \n",
       "31958      to see nina turner on the airwaves trying to...\n",
       "31959    listening to sad songs on a monday morning otw...\n",
       "31960    user sikh temple vandalised in in calgary wso ...\n",
       "31961                      thank you user for you follow  \n",
       "Name: preprocessed_text, Length: 31962, dtype: object"
      ]
     },
     "execution_count": 8,
     "metadata": {},
     "output_type": "execute_result"
    }
   ],
   "source": [
    "df['preprocessed_text']"
   ]
  },
  {
   "cell_type": "code",
   "execution_count": 9,
   "id": "f2fcaeea-dd21-4531-b2a2-dddd3d1911d5",
   "metadata": {},
   "outputs": [],
   "source": [
    "import seaborn as sns\n",
    "import matplotlib.pyplot as plt\n",
    "%matplotlib inline\n",
    "import numpy as np\n",
    "import seaborn as sb\n",
    "import warnings\n",
    "from nltk.corpus import stopwords"
   ]
  },
  {
   "cell_type": "code",
   "execution_count": 10,
   "id": "7c779041-d20f-413b-b365-089db64d545c",
   "metadata": {},
   "outputs": [],
   "source": [
    "from sklearn.model_selection import train_test_split\n",
    "from sklearn.base import BaseEstimator, TransformerMixin\n",
    "from sklearn.linear_model import LogisticRegression\n",
    "from sklearn.naive_bayes import MultinomialNB\n",
    "from sklearn.model_selection import cross_validate, StratifiedKFold\n",
    "from sklearn.metrics import accuracy_score, classification_report, confusion_matrix\n",
    "from sklearn.model_selection import GridSearchCV\n",
    "from sklearn.feature_extraction.text import TfidfTransformer\n",
    "from sklearn.preprocessing import Binarizer\n",
    "\n",
    "\n",
    "from collections import Counter\n",
    "from os import listdir, makedirs\n",
    "from os.path import isfile, join, splitext, split"
   ]
  },
  {
   "cell_type": "code",
   "execution_count": 11,
   "id": "034b6b93-50c7-414a-a23e-da4e4431d346",
   "metadata": {},
   "outputs": [],
   "source": [
    "from wordcloud import STOPWORDS, WordCloud\n",
    "\n",
    "from sklearn.feature_extraction.text import CountVectorizer\n",
    "from sklearn.pipeline import Pipeline, FeatureUnion\n",
    "from sklearn.feature_extraction.text import TfidfVectorizer\n",
    "from sklearn.preprocessing import StandardScaler\n",
    "from sklearn.decomposition import TruncatedSVD\n",
    "from sklearn.metrics import accuracy_score, classification_report, confusion_matrix\n",
    "from sklearn.model_selection import cross_validate, StratifiedKFold\n",
    "from sklearn.naive_bayes import GaussianNB\n",
    "\n",
    "from sklearn import tree\n",
    "from sklearn.ensemble import RandomForestClassifier\n",
    "from sklearn import model_selection, naive_bayes, svm\n",
    "from sklearn.feature_extraction.text import TfidfVectorizer\n",
    "from sklearn.preprocessing import LabelEncoder\n",
    "from xgboost import XGBClassifier \n",
    "\n",
    "warnings.filterwarnings('ignore')\n",
    "np.random.seed(0)"
   ]
  },
  {
   "cell_type": "code",
   "execution_count": 17,
   "id": "71d2d235-1521-4564-9a29-78918307a00d",
   "metadata": {},
   "outputs": [
    {
     "data": {
      "image/png": "[encoded data removed]",
      "text/plain": [
       "<Figure size 640x480 with 1 Axes>"
      ]
     },
     "metadata": {},
     "output_type": "display_data"
    }
   ],
   "source": [
    "np.random.seed(0)\n",
    "\n",
    "text = df['tweet'].values\n",
    "wordcloud = WordCloud(width=1000, height=500, background_color='white',stopwords=STOPWORDS).generate(str(text))\n",
    "plt.imshow(wordcloud)\n",
    "plt.axis('off')\n",
    "plt.title(\"Word Cloud of 'Hate' in a dataset\")\n",
    "plt.show()"
   ]
  },
  {
   "cell_type": "code",
   "execution_count": 23,
   "id": "57e22c0d-b752-4717-ba41-a2fc6dc999cb",
   "metadata": {},
   "outputs": [
    {
     "data": {
      "text/plain": [
       "'very excited to be back again for second year in a row theme is youth empowerment ypttl '"
      ]
     },
     "execution_count": 23,
     "metadata": {},
     "output_type": "execute_result"
    }
   ],
   "source": [
    "example=df['tweet'][29764]\n",
    "example"
   ]
  },
  {
   "cell_type": "code",
   "execution_count": 12,
   "id": "60568802-1729-40f9-8f1e-1c4ad86f93ec",
   "metadata": {},
   "outputs": [],
   "source": [
    "from sklearn.model_selection import train_test_split\n",
    "X_train,X_test,y_train,y_test = train_test_split(X,y,test_size=0.2,random_state = 32)"
   ]
  },
  {
   "cell_type": "code",
   "execution_count": 13,
   "id": "ef6cda2c-eb4a-4375-ba04-eae09d3a339d",
   "metadata": {},
   "outputs": [],
   "source": [
    "from sklearn.feature_extraction.text import TfidfVectorizer\n",
    "from sklearn.linear_model import LogisticRegression\n",
    "from sklearn.ensemble import RandomForestClassifier\n",
    "from sklearn.tree import DecisionTreeClassifier\n",
    "from sklearn.svm import SVC\n",
    "from sklearn.naive_bayes import MultinomialNB\n",
    "from sklearn.metrics import accuracy_score, f1_score, confusion_matrix\n",
    "from time import time\n",
    "tfidf_vectorizer = TfidfVectorizer(max_features=5000)  \n",
    "X_train_tfidf = tfidf_vectorizer.fit_transform(X_train)\n",
    "X_test_tfidf = tfidf_vectorizer.transform(X_test)\n",
    "\n",
    "models = {\n",
    "    'Logistic Regression': LogisticRegression(),\n",
    "    'Random Forest': RandomForestClassifier(),\n",
    "    'Decision Tree': DecisionTreeClassifier(),\n",
    "    'Support Vector Machine': SVC(),\n",
    "    'Naive Bayes': MultinomialNB()\n",
    "}\n",
    "\n",
    "results = {}"
   ]
  },
  {
   "cell_type": "code",
   "execution_count": 14,
   "id": "9c5e648b-444b-4224-8b33-20bb1448b48a",
   "metadata": {},
   "outputs": [
    {
     "data": {
      "image/png": "[encoded data removed]",
      "text/plain": [
       "<Figure size 400x300 with 2 Axes>"
      ]
     },
     "metadata": {},
     "output_type": "display_data"
    },
    {
     "data": {
      "image/png": "[encoded data removed]",
      "text/plain": [
       "<Figure size 400x300 with 2 Axes>"
      ]
     },
     "metadata": {},
     "output_type": "display_data"
    },
    {
     "data": {
      "image/png": "[encoded data removed]",
      "text/plain": [
       "<Figure size 400x300 with 2 Axes>"
      ]
     },
     "metadata": {},
     "output_type": "display_data"
    },
    {
     "data": {
      "image/png": "[encoded data removed]",
      "text/plain": [
       "<Figure size 400x300 with 2 Axes>"
      ]
     },
     "metadata": {},
     "output_type": "display_data"
    },
    {
     "data": {
      "image/png": "[encoded data removed]",
      "text/plain": [
       "<Figure size 400x300 with 2 Axes>"
      ]
     },
     "metadata": {},
     "output_type": "display_data"
    },
    {
     "name": "stdout",
     "output_type": "stream",
     "text": [
      "Results for Logistic Regression:\n",
      "Accuracy: 0.9515094634756766\n",
      "F1 Score: 0.9417628588669869\n",
      "Precision: 0.9486230340545595\n",
      "Recall: 0.9515094634756766\n",
      "Time Taken: 0.9521348476409912\n",
      "\n",
      "\n",
      "Results for Random Forest:\n",
      "Accuracy: 0.9585484123259815\n",
      "F1 Score: 0.9529332929733118\n",
      "Precision: 0.9557001772708502\n",
      "Recall: 0.9585484123259815\n",
      "Time Taken: 79.52030205726624\n",
      "\n",
      "\n",
      "Results for Decision Tree:\n",
      "Accuracy: 0.9425934615986234\n",
      "F1 Score: 0.9423252470663445\n",
      "Precision: 0.9420665122742153\n",
      "Recall: 0.9425934615986234\n",
      "Time Taken: 8.411476373672485\n",
      "\n",
      "\n",
      "Results for Support Vector Machine:\n",
      "Accuracy: 0.9596433599249179\n",
      "F1 Score: 0.9532538466240832\n",
      "Precision: 0.9585050463431561\n",
      "Recall: 0.9596433599249179\n",
      "Time Taken: 63.93921971321106\n",
      "\n",
      "\n",
      "Results for Naive Bayes:\n",
      "Accuracy: 0.9493195682778038\n",
      "F1 Score: 0.9362643271641391\n",
      "Precision: 0.9503712028205932\n",
      "Recall: 0.9493195682778038\n",
      "Time Taken: 0.031188249588012695\n",
      "\n",
      "\n"
     ]
    }
   ],
   "source": [
    "import matplotlib.pyplot as plt\n",
    "import seaborn as sns\n",
    "from sklearn.metrics import precision_score, recall_score, accuracy_score, f1_score, confusion_matrix\n",
    "from time import time\n",
    "\n",
    "# Dictionary to store results\n",
    "results = {}\n",
    "\n",
    "# Iterate over each model\n",
    "for model_name, model in models.items():\n",
    "    start_time = time()\n",
    "    \n",
    "    # Train the model\n",
    "    model.fit(X_train_tfidf, y_train)\n",
    "    \n",
    "    # Predict on the test set\n",
    "    y_pred = model.predict(X_test_tfidf)\n",
    "    \n",
    "    # Calculate metrics\n",
    "    accuracy = accuracy_score(y_test, y_pred)\n",
    "    f1 = f1_score(y_test, y_pred, average='weighted')\n",
    "    precision = precision_score(y_test, y_pred, average='weighted')\n",
    "    recall = recall_score(y_test, y_pred, average='weighted')\n",
    "    conf_matrix = confusion_matrix(y_test, y_pred)\n",
    "    time_taken = time() - start_time\n",
    "    \n",
    "    # Save results\n",
    "    results[model_name] = {\n",
    "        'Accuracy': accuracy,\n",
    "        'F1 Score': f1,\n",
    "        'Precision': precision,\n",
    "        'Recall': recall,\n",
    "        'Confusion Matrix': conf_matrix,\n",
    "        'Time Taken': time_taken\n",
    "    }\n",
    "    \n",
    "    # Plot confusion matrix as heatmap\n",
    "    plt.figure(figsize=(4,3))\n",
    "    sns.heatmap(conf_matrix, annot=True, fmt='d', cmap='Blues', xticklabels=model.classes_, yticklabels=model.classes_)\n",
    "    plt.title(f'Confusion Matrix for {model_name}')\n",
    "    plt.xlabel('Predicted')\n",
    "    plt.ylabel('Actual')\n",
    "    plt.show()\n",
    "\n",
    "# Print results\n",
    "for model_name, metrics in results.items():\n",
    "    print(f\"Results for {model_name}:\")\n",
    "    for metric_name, value in metrics.items():\n",
    "        if metric_name != 'Confusion Matrix':\n",
    "            print(f\"{metric_name}: {value}\")\n",
    "    print(\"\\n\")\n"
   ]
  },
  {
   "cell_type": "code",
   "execution_count": 15,
   "id": "78c88606-8f87-4ef9-b9ad-bc928cb2b84b",
   "metadata": {},
   "outputs": [
    {
     "name": "stdout",
     "output_type": "stream",
     "text": [
      "\n",
      "Model: Logistic Regression\n",
      "Accuracy: 0.9515\n",
      "F1 Score: 0.9418\n",
      "Confusion Matrix:\n",
      "[[5922   21]\n",
      " [ 289  161]]\n",
      "Time Taken: 0.9521 seconds\n",
      "\n",
      "Model: Random Forest\n",
      "Accuracy: 0.9585\n",
      "F1 Score: 0.9529\n",
      "Confusion Matrix:\n",
      "[[5911   32]\n",
      " [ 233  217]]\n",
      "Time Taken: 79.5203 seconds\n",
      "\n",
      "Model: Decision Tree\n",
      "Accuracy: 0.9426\n",
      "F1 Score: 0.9423\n",
      "Confusion Matrix:\n",
      "[[5764  179]\n",
      " [ 188  262]]\n",
      "Time Taken: 8.4115 seconds\n",
      "\n",
      "Model: Support Vector Machine\n",
      "Accuracy: 0.9596\n",
      "F1 Score: 0.9533\n",
      "Confusion Matrix:\n",
      "[[5927   16]\n",
      " [ 242  208]]\n",
      "Time Taken: 63.9392 seconds\n",
      "\n",
      "Model: Naive Bayes\n",
      "Accuracy: 0.9493\n",
      "F1 Score: 0.9363\n",
      "Confusion Matrix:\n",
      "[[5939    4]\n",
      " [ 320  130]]\n",
      "Time Taken: 0.0312 seconds\n"
     ]
    }
   ],
   "source": [
    "for model_name, metrics in results.items():\n",
    "    print(f\"\\nModel: {model_name}\")\n",
    "    print(f\"Accuracy: {metrics['Accuracy']:.4f}\")\n",
    "    print(f\"F1 Score: {metrics['F1 Score']:.4f}\")\n",
    "    print(f\"Confusion Matrix:\\n{metrics['Confusion Matrix']}\")\n",
    "    print(f\"Time Taken: {metrics['Time Taken']:.4f} seconds\")\n"
   ]
  },
  {
   "cell_type": "code",
   "execution_count": 16,
   "id": "277dfc68-b7a4-421c-8d05-271b7435565d",
   "metadata": {},
   "outputs": [],
   "source": [
    "from tensorflow.keras.preprocessing.text import Tokenizer\n",
    "from tensorflow.keras.preprocessing.sequence import pad_sequences\n",
    "\n",
    "# Tokenization\n",
    "max_words = 10000\n",
    "max_len = 100\n",
    "\n",
    "tokenizer = Tokenizer(num_words=max_words, oov_token='<OOV>')\n",
    "tokenizer.fit_on_texts(X_train)\n",
    "\n",
    "# Convert text to sequences\n",
    "X_train_seq = tokenizer.texts_to_sequences(X_train)\n",
    "X_test_seq = tokenizer.texts_to_sequences(X_test)\n",
    "\n",
    "# Pad sequences\n",
    "X_train_padded = pad_sequences(X_train_seq, maxlen=max_len, padding='post', truncating='post')\n",
    "X_test_padded = pad_sequences(X_test_seq, maxlen=max_len, padding='post', truncating='post')\n"
   ]
  },
  {
   "cell_type": "code",
   "execution_count": 18,
   "id": "21a53d37-1d96-445e-bce7-d98d32a2a4da",
   "metadata": {},
   "outputs": [
    {
     "data": {
      "text/html": [
       "<div>\n",
       "<style scoped>\n",
       "    .dataframe tbody tr th:only-of-type {\n",
       "        vertical-align: middle;\n",
       "    }\n",
       "\n",
       "    .dataframe tbody tr th {\n",
       "        vertical-align: top;\n",
       "    }\n",
       "\n",
       "    .dataframe thead th {\n",
       "        text-align: right;\n",
       "    }\n",
       "</style>\n",
       "<table border=\"1\" class=\"dataframe\">\n",
       "  <thead>\n",
       "    <tr style=\"text-align: right;\">\n",
       "      <th></th>\n",
       "      <th>id</th>\n",
       "      <th>label</th>\n",
       "      <th>tweet</th>\n",
       "      <th>preprocessed_text</th>\n",
       "    </tr>\n",
       "  </thead>\n",
       "  <tbody>\n",
       "    <tr>\n",
       "      <th>0</th>\n",
       "      <td>1</td>\n",
       "      <td>0</td>\n",
       "      <td>user when a father is dysfunctional and is so...</td>\n",
       "      <td>user when a father is dysfunctional and is so...</td>\n",
       "    </tr>\n",
       "    <tr>\n",
       "      <th>1</th>\n",
       "      <td>2</td>\n",
       "      <td>0</td>\n",
       "      <td>user user thanks for lyft credit i cant use ca...</td>\n",
       "      <td>user user thanks for lyft credit i cant use ca...</td>\n",
       "    </tr>\n",
       "    <tr>\n",
       "      <th>2</th>\n",
       "      <td>3</td>\n",
       "      <td>0</td>\n",
       "      <td>bihday your majesty</td>\n",
       "      <td>bihday your majesty</td>\n",
       "    </tr>\n",
       "    <tr>\n",
       "      <th>3</th>\n",
       "      <td>4</td>\n",
       "      <td>0</td>\n",
       "      <td>model   i love u take with u all the time in u...</td>\n",
       "      <td>model   i love u take with u all the time in u...</td>\n",
       "    </tr>\n",
       "    <tr>\n",
       "      <th>4</th>\n",
       "      <td>5</td>\n",
       "      <td>0</td>\n",
       "      <td>factsguide society now    motivation</td>\n",
       "      <td>factsguide society now    motivation</td>\n",
       "    </tr>\n",
       "    <tr>\n",
       "      <th>...</th>\n",
       "      <td>...</td>\n",
       "      <td>...</td>\n",
       "      <td>...</td>\n",
       "      <td>...</td>\n",
       "    </tr>\n",
       "    <tr>\n",
       "      <th>31957</th>\n",
       "      <td>31958</td>\n",
       "      <td>0</td>\n",
       "      <td>ate user isz that youuu</td>\n",
       "      <td>ate user isz that youuu</td>\n",
       "    </tr>\n",
       "    <tr>\n",
       "      <th>31958</th>\n",
       "      <td>31959</td>\n",
       "      <td>0</td>\n",
       "      <td>to see nina turner on the airwaves trying to...</td>\n",
       "      <td>to see nina turner on the airwaves trying to...</td>\n",
       "    </tr>\n",
       "    <tr>\n",
       "      <th>31959</th>\n",
       "      <td>31960</td>\n",
       "      <td>0</td>\n",
       "      <td>listening to sad songs on a monday morning otw...</td>\n",
       "      <td>listening to sad songs on a monday morning otw...</td>\n",
       "    </tr>\n",
       "    <tr>\n",
       "      <th>31960</th>\n",
       "      <td>31961</td>\n",
       "      <td>1</td>\n",
       "      <td>user sikh temple vandalised in in calgary wso ...</td>\n",
       "      <td>user sikh temple vandalised in in calgary wso ...</td>\n",
       "    </tr>\n",
       "    <tr>\n",
       "      <th>31961</th>\n",
       "      <td>31962</td>\n",
       "      <td>0</td>\n",
       "      <td>thank you user for you follow</td>\n",
       "      <td>thank you user for you follow</td>\n",
       "    </tr>\n",
       "  </tbody>\n",
       "</table>\n",
       "<p>31962 rows × 4 columns</p>\n",
       "</div>"
      ],
      "text/plain": [
       "          id  label                                              tweet  \\\n",
       "0          1      0   user when a father is dysfunctional and is so...   \n",
       "1          2      0  user user thanks for lyft credit i cant use ca...   \n",
       "2          3      0                                bihday your majesty   \n",
       "3          4      0  model   i love u take with u all the time in u...   \n",
       "4          5      0               factsguide society now    motivation   \n",
       "...      ...    ...                                                ...   \n",
       "31957  31958      0                           ate user isz that youuu    \n",
       "31958  31959      0    to see nina turner on the airwaves trying to...   \n",
       "31959  31960      0  listening to sad songs on a monday morning otw...   \n",
       "31960  31961      1  user sikh temple vandalised in in calgary wso ...   \n",
       "31961  31962      0                    thank you user for you follow     \n",
       "\n",
       "                                       preprocessed_text  \n",
       "0       user when a father is dysfunctional and is so...  \n",
       "1      user user thanks for lyft credit i cant use ca...  \n",
       "2                                    bihday your majesty  \n",
       "3      model   i love u take with u all the time in u...  \n",
       "4                   factsguide society now    motivation  \n",
       "...                                                  ...  \n",
       "31957                           ate user isz that youuu   \n",
       "31958    to see nina turner on the airwaves trying to...  \n",
       "31959  listening to sad songs on a monday morning otw...  \n",
       "31960  user sikh temple vandalised in in calgary wso ...  \n",
       "31961                    thank you user for you follow    \n",
       "\n",
       "[31962 rows x 4 columns]"
      ]
     },
     "execution_count": 18,
     "metadata": {},
     "output_type": "execute_result"
    }
   ],
   "source": [
    "df"
   ]
  },
  {
   "cell_type": "code",
   "execution_count": 19,
   "id": "3d62ddd5-789d-4415-87da-3e545fca2602",
   "metadata": {},
   "outputs": [],
   "source": [
    "import pandas as pd\n",
    "from sklearn.model_selection import train_test_split\n",
    "from sklearn.preprocessing import LabelEncoder\n",
    "from tensorflow.keras.preprocessing.text import Tokenizer\n",
    "from tensorflow.keras.preprocessing.sequence import pad_sequences\n",
    "\n",
    "# Encode the target labels (convert to string first)\n",
    "encoder = LabelEncoder()\n",
    "df['label'] = encoder.fit_transform(df['label'].astype(str))\n",
    "\n",
    "# Split the dataset\n",
    "X_train, X_test, y_train, y_test = train_test_split(\n",
    "    df['preprocessed_text'], df['label'], test_size=0.2, random_state=42\n",
    ")\n",
    "\n",
    "# Tokenization parameters\n",
    "max_words = 10000  # Vocabulary size\n",
    "max_len = 150      # Max sequence length\n",
    "\n",
    "# Tokenizer\n",
    "tokenizer = Tokenizer(num_words=max_words)\n",
    "tokenizer.fit_on_texts(X_train)\n",
    "\n",
    "# Convert texts to sequences and pad them\n",
    "X_train_seq = tokenizer.texts_to_sequences(X_train)\n",
    "X_test_seq = tokenizer.texts_to_sequences(X_test)\n",
    "\n",
    "X_train_pad = pad_sequences(X_train_seq, maxlen=max_len)\n",
    "X_test_pad = pad_sequences(X_test_seq, maxlen=max_len)\n",
    "\n",
    "# Labels as arrays\n",
    "y_train = y_train.values\n",
    "y_test = y_test.values\n"
   ]
  },
  {
   "cell_type": "code",
   "execution_count": 20,
   "id": "b36ab394-bb7c-4ce8-9258-d772b3a3c260",
   "metadata": {},
   "outputs": [
    {
     "name": "stdout",
     "output_type": "stream",
     "text": [
      "X_train shape: (25569, 150)\n",
      "X_test shape: (6393, 150)\n"
     ]
    }
   ],
   "source": [
    "# Tokenization\n",
    "max_words = 10000  # Maximum vocabulary size\n",
    "max_len = 150      # Maximum sequence length\n",
    "\n",
    "# Initialize the tokenizer\n",
    "tokenizer = Tokenizer(num_words=max_words, oov_token='<OOV>')\n",
    "\n",
    "# Fit the tokenizer on training text\n",
    "tokenizer.fit_on_texts(X_train)\n",
    "\n",
    "# Convert text to sequences\n",
    "X_train_seq = tokenizer.texts_to_sequences(X_train)\n",
    "X_test_seq = tokenizer.texts_to_sequences(X_test)\n",
    "\n",
    "# Pad sequences to ensure uniform input size\n",
    "X_train_padded = pad_sequences(X_train_seq, maxlen=max_len, padding='post', truncating='post')\n",
    "X_test_padded = pad_sequences(X_test_seq, maxlen=max_len, padding='post', truncating='post')\n",
    "\n",
    "# Ensure all data is in NumPy format\n",
    "X_train_padded = np.array(X_train_padded)\n",
    "X_test_padded = np.array(X_test_padded)\n",
    "y_train = np.array(y_train)\n",
    "y_test = np.array(y_test)\n",
    "\n",
    "# Print the shapes for verification\n",
    "print(\"X_train shape:\", X_train_padded.shape)\n",
    "print(\"X_test shape:\", X_test_padded.shape)\n"
   ]
  },
  {
   "cell_type": "code",
   "execution_count": 21,
   "id": "c3ba9fc3-2928-4e27-a487-57bd4137b0a3",
   "metadata": {},
   "outputs": [],
   "source": [
    "from tensorflow.keras.models import Sequential\n",
    "from tensorflow.keras.layers import Embedding, Conv1D, GlobalMaxPooling1D, Dense, Dropout\n",
    "\n",
    "# CNN Model\n",
    "cnn_model = Sequential()\n",
    "\n",
    "# Embedding layer\n",
    "cnn_model.add(Embedding(input_dim=max_words, output_dim=128, input_length=max_len))\n",
    "\n",
    "# CNN layers\n",
    "cnn_model.add(Conv1D(filters=128, kernel_size=5, activation='relu'))\n",
    "cnn_model.add(GlobalMaxPooling1D())\n",
    "\n",
    "# Fully connected layers\n",
    "cnn_model.add(Dense(64, activation='relu'))\n",
    "cnn_model.add(Dropout(0.5))\n",
    "cnn_model.add(Dense(1, activation='sigmoid'))  # Binary classification\n",
    "\n",
    "# Compile the model\n",
    "cnn_model.compile(optimizer='adam', loss='binary_crossentropy', metrics=['accuracy'])\n"
   ]
  },
  {
   "cell_type": "code",
   "execution_count": 22,
   "id": "9df5b5f8-e332-4e21-9e1c-2f384c4511f2",
   "metadata": {},
   "outputs": [],
   "source": [
    "from sklearn.preprocessing import LabelEncoder\n",
    "import numpy as np\n",
    "\n",
    "# Initialize LabelEncoder\n",
    "label_encoder = LabelEncoder()\n",
    "\n",
    "# Fit and transform labels to numeric values\n",
    "y_train = label_encoder.fit_transform(y_train)\n",
    "y_test = label_encoder.transform(y_test)  # Use transform (not fit_transform) to keep consistency\n",
    "\n",
    "# Convert to float32 (or int32) for model compatibility\n",
    "y_train = np.array(y_train).astype('float32')\n",
    "y_test = np.array(y_test).astype('float32')\n"
   ]
  },
  {
   "cell_type": "code",
   "execution_count": 23,
   "id": "a9ce0254-b10e-4cd6-8780-14ed59a0b26b",
   "metadata": {},
   "outputs": [
    {
     "name": "stdout",
     "output_type": "stream",
     "text": [
      "Epoch 1/10\n",
      "800/800 [==============================] - 41s 51ms/step - loss: 0.1729 - accuracy: 0.9476 - val_loss: 0.1273 - val_accuracy: 0.9550\n",
      "Epoch 2/10\n",
      "800/800 [==============================] - 43s 53ms/step - loss: 0.0734 - accuracy: 0.9752 - val_loss: 0.1233 - val_accuracy: 0.9601\n",
      "Epoch 3/10\n",
      "800/800 [==============================] - 34s 43ms/step - loss: 0.0317 - accuracy: 0.9897 - val_loss: 0.1612 - val_accuracy: 0.9557\n",
      "Epoch 4/10\n",
      "800/800 [==============================] - 32s 40ms/step - loss: 0.0133 - accuracy: 0.9960 - val_loss: 0.2015 - val_accuracy: 0.9504\n",
      "Epoch 5/10\n",
      "800/800 [==============================] - 38s 47ms/step - loss: 0.0054 - accuracy: 0.9983 - val_loss: 0.2907 - val_accuracy: 0.9545\n",
      "Epoch 6/10\n",
      "800/800 [==============================] - 32s 40ms/step - loss: 0.0037 - accuracy: 0.9991 - val_loss: 0.3088 - val_accuracy: 0.9554\n",
      "Epoch 7/10\n",
      "800/800 [==============================] - 34s 42ms/step - loss: 0.0032 - accuracy: 0.9988 - val_loss: 0.3943 - val_accuracy: 0.9543\n",
      "Epoch 8/10\n",
      "800/800 [==============================] - 34s 43ms/step - loss: 0.0018 - accuracy: 0.9995 - val_loss: 0.3978 - val_accuracy: 0.9526\n",
      "Epoch 9/10\n",
      "800/800 [==============================] - 32s 39ms/step - loss: 0.0026 - accuracy: 0.9991 - val_loss: 0.4797 - val_accuracy: 0.9589\n",
      "Epoch 10/10\n",
      "800/800 [==============================] - 31s 38ms/step - loss: 0.0034 - accuracy: 0.9991 - val_loss: 0.4003 - val_accuracy: 0.9551\n"
     ]
    }
   ],
   "source": [
    "# Train the model using the padded sequences\n",
    "cnn_history = cnn_model.fit(\n",
    "    X_train_padded, y_train,\n",
    "    epochs=10, batch_size=32,\n",
    "    validation_data=(X_test_padded, y_test)\n",
    ")\n"
   ]
  },
  {
   "cell_type": "code",
   "execution_count": 24,
   "id": "3111e4d3-4c7f-44af-abaf-8e4436e19c3d",
   "metadata": {},
   "outputs": [
    {
     "name": "stdout",
     "output_type": "stream",
     "text": [
      "200/200 [==============================] - 1s 6ms/step - loss: 0.4003 - accuracy: 0.9551\n",
      "CNN Accuracy: 95.51%\n"
     ]
    }
   ],
   "source": [
    "# Evaluate the CNN model\n",
    "cnn_loss, cnn_accuracy = cnn_model.evaluate(X_test_padded, y_test)\n",
    "print(f\"CNN Accuracy: {cnn_accuracy * 100:.2f}%\")\n"
   ]
  },
  {
   "cell_type": "code",
   "execution_count": 25,
   "id": "1eb998d5-a2e7-4f3f-844f-1a5440f7389c",
   "metadata": {},
   "outputs": [
    {
     "name": "stdout",
     "output_type": "stream",
     "text": [
      "Epoch 1/10\n",
      "800/800 [==============================] - 87s 106ms/step - loss: 0.2758 - accuracy: 0.9293 - val_loss: 0.2595 - val_accuracy: 0.9287\n",
      "Epoch 2/10\n",
      "800/800 [==============================] - 91s 114ms/step - loss: 0.2666 - accuracy: 0.9301 - val_loss: 0.2584 - val_accuracy: 0.9287\n",
      "Epoch 3/10\n",
      "800/800 [==============================] - 100s 124ms/step - loss: 0.2638 - accuracy: 0.9301 - val_loss: 0.2576 - val_accuracy: 0.9287\n",
      "Epoch 4/10\n",
      "800/800 [==============================] - 87s 109ms/step - loss: 0.2645 - accuracy: 0.9301 - val_loss: 0.2574 - val_accuracy: 0.9287\n",
      "Epoch 5/10\n",
      "800/800 [==============================] - 103s 129ms/step - loss: 0.2623 - accuracy: 0.9301 - val_loss: 0.2575 - val_accuracy: 0.9287\n",
      "Epoch 6/10\n",
      "800/800 [==============================] - 206s 258ms/step - loss: 0.2610 - accuracy: 0.9301 - val_loss: 0.2572 - val_accuracy: 0.9287\n",
      "Epoch 7/10\n",
      "800/800 [==============================] - 190s 238ms/step - loss: 0.2590 - accuracy: 0.9301 - val_loss: 0.2574 - val_accuracy: 0.9287\n",
      "Epoch 8/10\n",
      "800/800 [==============================] - 186s 233ms/step - loss: 0.2587 - accuracy: 0.9301 - val_loss: 0.2582 - val_accuracy: 0.9287\n",
      "Epoch 9/10\n",
      "800/800 [==============================] - 185s 231ms/step - loss: 0.2584 - accuracy: 0.9301 - val_loss: 0.2571 - val_accuracy: 0.9287\n",
      "Epoch 10/10\n",
      "800/800 [==============================] - 116s 145ms/step - loss: 0.2581 - accuracy: 0.9301 - val_loss: 0.2572 - val_accuracy: 0.9287\n"
     ]
    }
   ],
   "source": [
    "from tensorflow.keras.models import Sequential\n",
    "from tensorflow.keras.layers import Embedding, LSTM, Dense, Dropout\n",
    "\n",
    "# LSTM Model\n",
    "lstm_model = Sequential()\n",
    "\n",
    "# Embedding layer\n",
    "lstm_model.add(Embedding(input_dim=max_words, output_dim=128, input_length=max_len))\n",
    "\n",
    "# LSTM layer\n",
    "lstm_model.add(LSTM(128, return_sequences=False))\n",
    "\n",
    "# Fully connected layers\n",
    "lstm_model.add(Dense(64, activation='relu'))\n",
    "lstm_model.add(Dropout(0.5))\n",
    "lstm_model.add(Dense(1, activation='sigmoid'))  # Binary classification\n",
    "\n",
    "# Compile the model\n",
    "lstm_model.compile(optimizer='adam', loss='binary_crossentropy', metrics=['accuracy'])\n",
    "\n",
    "# Train the LSTM model\n",
    "lstm_history = lstm_model.fit(\n",
    "    X_train_padded, y_train,\n",
    "    epochs=10, batch_size=32,\n",
    "    validation_data=(X_test_padded, y_test)\n",
    ")\n"
   ]
  },
  {
   "cell_type": "code",
   "execution_count": 30,
   "id": "b23c44f9-88fe-497f-842c-0cf2c9543da3",
   "metadata": {},
   "outputs": [
    {
     "name": "stdout",
     "output_type": "stream",
     "text": [
      "Epoch 1/10\n",
      "800/800 [==============================] - 137s 168ms/step - loss: 0.1753 - accuracy: 0.9475 - val_loss: 0.1188 - val_accuracy: 0.9595\n",
      "Epoch 2/10\n",
      "800/800 [==============================] - 138s 172ms/step - loss: 0.0825 - accuracy: 0.9727 - val_loss: 0.1103 - val_accuracy: 0.9611\n",
      "Epoch 3/10\n",
      "800/800 [==============================] - 138s 173ms/step - loss: 0.0519 - accuracy: 0.9827 - val_loss: 0.1308 - val_accuracy: 0.9573\n",
      "Epoch 4/10\n",
      "800/800 [==============================] - 136s 170ms/step - loss: 0.0308 - accuracy: 0.9903 - val_loss: 0.2178 - val_accuracy: 0.9589\n",
      "Epoch 5/10\n",
      "800/800 [==============================] - 137s 172ms/step - loss: 0.0185 - accuracy: 0.9938 - val_loss: 0.2132 - val_accuracy: 0.9578\n",
      "Epoch 6/10\n",
      "800/800 [==============================] - 140s 175ms/step - loss: 0.0132 - accuracy: 0.9959 - val_loss: 0.2389 - val_accuracy: 0.9567\n",
      "Epoch 7/10\n",
      "800/800 [==============================] - 137s 171ms/step - loss: 0.0095 - accuracy: 0.9973 - val_loss: 0.2965 - val_accuracy: 0.9528\n",
      "Epoch 8/10\n",
      "800/800 [==============================] - 144s 180ms/step - loss: 0.0077 - accuracy: 0.9975 - val_loss: 0.3116 - val_accuracy: 0.9521\n",
      "Epoch 9/10\n",
      "800/800 [==============================] - 140s 175ms/step - loss: 0.0052 - accuracy: 0.9984 - val_loss: 0.3191 - val_accuracy: 0.9542\n",
      "Epoch 10/10\n",
      "800/800 [==============================] - 141s 176ms/step - loss: 0.0049 - accuracy: 0.9982 - val_loss: 0.3813 - val_accuracy: 0.9440\n"
     ]
    }
   ],
   "source": [
    "from tensorflow.keras.layers import Bidirectional\n",
    "\n",
    "# Bi-LSTM Model\n",
    "bi_lstm_model = Sequential()\n",
    "\n",
    "# Embedding layer\n",
    "bi_lstm_model.add(Embedding(input_dim=max_words, output_dim=128, input_length=max_len))\n",
    "\n",
    "# Bidirectional LSTM layer\n",
    "bi_lstm_model.add(Bidirectional(LSTM(128, return_sequences=False)))\n",
    "\n",
    "# Fully connected layers\n",
    "bi_lstm_model.add(Dense(64, activation='relu'))\n",
    "bi_lstm_model.add(Dropout(0.5))\n",
    "bi_lstm_model.add(Dense(1, activation='sigmoid'))  # Binary classification\n",
    "\n",
    "# Compile the model\n",
    "bi_lstm_model.compile(optimizer='adam', loss='binary_crossentropy', metrics=['accuracy'])\n",
    "\n",
    "# Train the Bi-LSTM model\n",
    "bi_lstm_history = bi_lstm_model.fit(\n",
    "    X_train_padded, y_train,\n",
    "    epochs=10, batch_size=32,\n",
    "    validation_data=(X_test_padded, y_test)\n",
    ")\n"
   ]
  },
  {
   "cell_type": "code",
   "execution_count": 26,
   "id": "a1270a40-25e0-442b-b49a-36b314544cc0",
   "metadata": {},
   "outputs": [
    {
     "name": "stdout",
     "output_type": "stream",
     "text": [
      "200/200 [==============================] - 6s 30ms/step - loss: 0.2572 - accuracy: 0.9287\n",
      "LSTM Accuracy: 92.87%\n"
     ]
    }
   ],
   "source": [
    "# Evaluate the CNN model\n",
    "lstm_loss, lstm_accuracy = lstm_model.evaluate(X_test_padded, y_test)\n",
    "print(f\"LSTM Accuracy: {lstm_accuracy * 100:.2f}%\")\n"
   ]
  },
  {
   "cell_type": "code",
   "execution_count": 27,
   "id": "c22a6035-f120-4077-97f2-e2d28cf54deb",
   "metadata": {},
   "outputs": [
    {
     "name": "stdout",
     "output_type": "stream",
     "text": [
      "Model: \"model\"\n",
      "__________________________________________________________________________________________________\n",
      " Layer (type)                Output Shape                 Param #   Connected to                  \n",
      "==================================================================================================\n",
      " input_1 (InputLayer)        [(None, 150)]                0         []                            \n",
      "                                                                                                  \n",
      " embedding_2 (Embedding)     (None, 150, 128)             1280000   ['input_1[0][0]']             \n",
      "                                                                                                  \n",
      " lstm_1 (LSTM)               (None, 150, 64)              49408     ['embedding_2[0][0]']         \n",
      "                                                                                                  \n",
      " conv1d_1 (Conv1D)           (None, 148, 64)              24640     ['embedding_2[0][0]']         \n",
      "                                                                                                  \n",
      " global_max_pooling1d_1 (Gl  (None, 64)                   0         ['lstm_1[0][0]']              \n",
      " obalMaxPooling1D)                                                                                \n",
      "                                                                                                  \n",
      " global_max_pooling1d_2 (Gl  (None, 64)                   0         ['conv1d_1[0][0]']            \n",
      " obalMaxPooling1D)                                                                                \n",
      "                                                                                                  \n",
      " concatenate (Concatenate)   (None, 128)                  0         ['global_max_pooling1d_1[0][0]\n",
      "                                                                    ',                            \n",
      "                                                                     'global_max_pooling1d_2[0][0]\n",
      "                                                                    ']                            \n",
      "                                                                                                  \n",
      " dropout_2 (Dropout)         (None, 128)                  0         ['concatenate[0][0]']         \n",
      "                                                                                                  \n",
      " dense_4 (Dense)             (None, 1)                    129       ['dropout_2[0][0]']           \n",
      "                                                                                                  \n",
      "==================================================================================================\n",
      "Total params: 1354177 (5.17 MB)\n",
      "Trainable params: 1354177 (5.17 MB)\n",
      "Non-trainable params: 0 (0.00 Byte)\n",
      "__________________________________________________________________________________________________\n"
     ]
    }
   ],
   "source": [
    "from tensorflow.keras.models import Model\n",
    "from tensorflow.keras.layers import Input, Embedding, LSTM, Conv1D, GlobalMaxPooling1D, Concatenate, Dense, Dropout\n",
    "\n",
    "# Input\n",
    "input_layer = Input(shape=(max_len,))\n",
    "\n",
    "# Shared Embedding layer\n",
    "embedding = Embedding(input_dim=max_words, output_dim=128, input_length=max_len)(input_layer)\n",
    "\n",
    "# LSTM Branch\n",
    "lstm = LSTM(64, return_sequences=True)(embedding)\n",
    "lstm_pool = GlobalMaxPooling1D()(lstm)\n",
    "\n",
    "# CNN Branch\n",
    "conv = Conv1D(64, kernel_size=3, activation='relu')(embedding)\n",
    "conv_pool = GlobalMaxPooling1D()(conv)\n",
    "\n",
    "# Merge both\n",
    "merged = Concatenate()([lstm_pool, conv_pool])\n",
    "merged = Dropout(0.5)(merged)\n",
    "output = Dense(1, activation='sigmoid')(merged)\n",
    "\n",
    "# Final model\n",
    "model = Model(inputs=input_layer, outputs=output)\n",
    "model.compile(loss='binary_crossentropy', optimizer='adam', metrics=['accuracy'])\n",
    "\n",
    "model.summary()\n"
   ]
  },
  {
   "cell_type": "code",
   "execution_count": 28,
   "id": "670646fb-278f-46f3-814e-0fd9e224bd80",
   "metadata": {},
   "outputs": [
    {
     "name": "stdout",
     "output_type": "stream",
     "text": [
      "Epoch 1/5\n",
      "800/800 [==============================] - 64s 77ms/step - loss: 0.1816 - accuracy: 0.9440 - val_loss: 0.1193 - val_accuracy: 0.9570\n",
      "Epoch 2/5\n",
      "800/800 [==============================] - 66s 83ms/step - loss: 0.0850 - accuracy: 0.9706 - val_loss: 0.1217 - val_accuracy: 0.9590\n",
      "Epoch 3/5\n",
      "800/800 [==============================] - 63s 79ms/step - loss: 0.0497 - accuracy: 0.9832 - val_loss: 0.1351 - val_accuracy: 0.9567\n",
      "Epoch 4/5\n",
      "800/800 [==============================] - 62s 78ms/step - loss: 0.0315 - accuracy: 0.9896 - val_loss: 0.1754 - val_accuracy: 0.9585\n",
      "Epoch 5/5\n",
      "800/800 [==============================] - 63s 78ms/step - loss: 0.0179 - accuracy: 0.9945 - val_loss: 0.2045 - val_accuracy: 0.9553\n"
     ]
    }
   ],
   "source": [
    "history = model.fit(\n",
    "    X_train_pad, y_train,\n",
    "    epochs=5,\n",
    "    batch_size=32,\n",
    "    validation_data=(X_test_pad, y_test)\n",
    ")\n"
   ]
  },
  {
   "cell_type": "code",
   "execution_count": 29,
   "id": "f3fba25e-a857-4f3c-83df-b796a7dbfa32",
   "metadata": {},
   "outputs": [
    {
     "name": "stdout",
     "output_type": "stream",
     "text": [
      "Final Training Accuracy: 99.45%\n",
      "Final Validation Accuracy: 95.53%\n"
     ]
    }
   ],
   "source": [
    "final_train_acc = history.history['accuracy'][-1]\n",
    "final_val_acc = history.history['val_accuracy'][-1]\n",
    "\n",
    "print(f\"Final Training Accuracy: {final_train_acc * 100:.2f}%\")\n",
    "print(f\"Final Validation Accuracy: {final_val_acc * 100:.2f}%\")"
   ]
  },
  {
   "cell_type": "code",
   "execution_count": 31,
   "id": "e9bc07ae-9557-4f61-96e3-9e66389609cd",
   "metadata": {},
   "outputs": [
    {
     "name": "stdout",
     "output_type": "stream",
     "text": [
      "200/200 [==============================] - 8s 40ms/step - loss: 0.3813 - accuracy: 0.9440\n",
      "BI-LSTM Accuracy: 94.40%\n"
     ]
    }
   ],
   "source": [
    "# Evaluate the CNN model\n",
    "bi_lstm_loss, bi_lstm_accuracy = bi_lstm_model.evaluate(X_test_padded, y_test)\n",
    "print(f\"BI-LSTM Accuracy: {bi_lstm_accuracy * 100:.2f}%\")\n"
   ]
  },
  {
   "cell_type": "code",
   "execution_count": 32,
   "id": "876e9812-36fc-4f58-bd26-7ad48b686cce",
   "metadata": {},
   "outputs": [
    {
     "name": "stdout",
     "output_type": "stream",
     "text": [
      "200/200 [==============================] - 6s 26ms/step\n",
      "200/200 [==============================] - 8s 39ms/step\n",
      "200/200 [==============================] - 1s 6ms/step\n",
      "Ensemble Accuracy: 0.9286719849835758\n"
     ]
    }
   ],
   "source": [
    "from sklearn.metrics import accuracy_score\n",
    "import numpy as np\n",
    "\n",
    "# Predict probabilities from each model\n",
    "lstm_preds = lstm_model.predict(X_test_pad)\n",
    "bi_lstm_preds = bi_lstm_model.predict(X_test_pad)\n",
    "cnn_preds = cnn_model.predict(X_test_pad)\n",
    "\n",
    "# Average predictions\n",
    "avg_preds = (lstm_preds + bi_lstm_preds + cnn_preds) / 3\n",
    "final_preds = np.round(avg_preds).astype(int)\n",
    "\n",
    "# Evaluate\n",
    "print(\"Ensemble Accuracy:\", accuracy_score(y_test, final_preds))\n"
   ]
  },
  {
   "cell_type": "code",
   "execution_count": null,
   "id": "836c70c3-bbbf-4439-b651-6e161cdd87f0",
   "metadata": {},
   "outputs": [],
   "source": []
  },
  {
   "cell_type": "code",
   "execution_count": null,
   "id": "6ad250e3-f909-4f9c-9324-f44778ea4824",
   "metadata": {},
   "outputs": [],
   "source": []
  },
  {
   "cell_type": "code",
   "execution_count": null,
   "id": "732cea46-e4ae-44e9-ada7-123f35e12213",
   "metadata": {},
   "outputs": [],
   "source": []
  },
  {
   "cell_type": "code",
   "execution_count": null,
   "id": "56a0ba08-0464-43f5-a1fa-dcae8f4f0ae6",
   "metadata": {},
   "outputs": [],
   "source": []
  },
  {
   "cell_type": "code",
   "execution_count": null,
   "id": "91ca0128-bf40-4bbb-91a3-fa7dd116f275",
   "metadata": {},
   "outputs": [],
   "source": []
  },
  {
   "cell_type": "code",
   "execution_count": null,
   "id": "93e0e23f-a206-4897-b563-32c6dab78e3f",
   "metadata": {},
   "outputs": [],
   "source": []
  },
  {
   "cell_type": "code",
   "execution_count": null,
   "id": "0d58f09e-2916-42ca-8720-13063fa17cde",
   "metadata": {},
   "outputs": [],
   "source": []
  },
  {
   "cell_type": "code",
   "execution_count": null,
   "id": "3d1dceaf-b209-48a1-a7b8-b2c5749bf448",
   "metadata": {},
   "outputs": [],
   "source": []
  },
  {
   "cell_type": "code",
   "execution_count": null,
   "id": "b2713ed1-8738-480c-a244-5cfe0c2f18ad",
   "metadata": {},
   "outputs": [],
   "source": []
  },
  {
   "cell_type": "code",
   "execution_count": null,
   "id": "ce3ca6ef-851d-4ae0-8e5c-9efb5a7082f5",
   "metadata": {},
   "outputs": [],
   "source": []
  },
  {
   "cell_type": "code",
   "execution_count": null,
   "id": "c8ef8108-2baa-4402-843c-56b4614a11db",
   "metadata": {},
   "outputs": [],
   "source": []
  },
  {
   "cell_type": "code",
   "execution_count": null,
   "id": "eeb1ea09-346f-4e96-90fc-774babb243ec",
   "metadata": {},
   "outputs": [],
   "source": []
  },
  {
   "cell_type": "code",
   "execution_count": null,
   "id": "ee42af6d-23e5-4510-a1f0-064187776c90",
   "metadata": {},
   "outputs": [],
   "source": []
  },
  {
   "cell_type": "code",
   "execution_count": null,
   "id": "5229062a-3b9c-420f-b0ee-7d7aa9819abe",
   "metadata": {},
   "outputs": [],
   "source": []
  },
  {
   "cell_type": "code",
   "execution_count": null,
   "id": "526c5166-8d89-41d1-aa21-112aa9db7a17",
   "metadata": {},
   "outputs": [],
   "source": []
  },
  {
   "cell_type": "code",
   "execution_count": null,
   "id": "1d7d9610-57aa-40e8-8803-9b5712acc004",
   "metadata": {},
   "outputs": [],
   "source": []
  },
  {
   "cell_type": "code",
   "execution_count": null,
   "id": "f9ed83fb-7e6d-4129-a6ef-3763bb0083df",
   "metadata": {},
   "outputs": [],
   "source": []
  },
  {
   "cell_type": "code",
   "execution_count": null,
   "id": "a6740565-fb75-41e8-8d3a-73745d00b4a1",
   "metadata": {},
   "outputs": [],
   "source": []
  },
  {
   "cell_type": "code",
   "execution_count": null,
   "id": "4c00369a-2e3d-4c3f-b2bf-f9cdc9e45e42",
   "metadata": {},
   "outputs": [],
   "source": []
  },
  {
   "cell_type": "code",
   "execution_count": null,
   "id": "8701691b-5ba2-4cbd-be5b-1ad3c458135b",
   "metadata": {},
   "outputs": [],
   "source": []
  },
  {
   "cell_type": "code",
   "execution_count": null,
   "id": "da25262e-2110-45c5-94bd-74b1c546470d",
   "metadata": {},
   "outputs": [],
   "source": []
  },
  {
   "cell_type": "code",
   "execution_count": null,
   "id": "a91ca258-2633-498e-a5ce-d3d8d30cc771",
   "metadata": {},
   "outputs": [],
   "source": []
  },
  {
   "cell_type": "code",
   "execution_count": null,
   "id": "0b981b4d-906c-4884-a4fa-1770d619b7f5",
   "metadata": {},
   "outputs": [],
   "source": []
  },
  {
   "cell_type": "code",
   "execution_count": null,
   "id": "23fb1282-7ec4-46dd-a0ee-b28256545cc6",
   "metadata": {},
   "outputs": [],
   "source": []
  },
  {
   "cell_type": "code",
   "execution_count": null,
   "id": "0eefa41d-d7fc-4f74-8d5b-738c37416649",
   "metadata": {},
   "outputs": [],
   "source": []
  },
  {
   "cell_type": "code",
   "execution_count": null,
   "id": "3a52a069-f826-406a-bf14-2eaabf26bb5b",
   "metadata": {},
   "outputs": [],
   "source": []
  },
  {
   "cell_type": "code",
   "execution_count": null,
   "id": "506fda3d-7576-41ae-9738-34f02661e753",
   "metadata": {},
   "outputs": [],
   "source": []
  },
  {
   "cell_type": "code",
   "execution_count": null,
   "id": "1ef90585-39b8-4b6a-8385-a17b047d563e",
   "metadata": {},
   "outputs": [],
   "source": []
  },
  {
   "cell_type": "code",
   "execution_count": null,
   "id": "d99e0b8b-e04f-47fd-975c-a3dfc953181c",
   "metadata": {},
   "outputs": [],
   "source": []
  },
  {
   "cell_type": "code",
   "execution_count": null,
   "id": "c1c53387-c041-4c62-8b23-d89014d46424",
   "metadata": {},
   "outputs": [],
   "source": []
  },
  {
   "cell_type": "code",
   "execution_count": null,
   "id": "f448d221-d1a0-48e2-aa82-ecb1f3eb9c94",
   "metadata": {},
   "outputs": [],
   "source": []
  },
  {
   "cell_type": "code",
   "execution_count": null,
   "id": "799a6be4-7993-498f-929a-8a4eb5053b3e",
   "metadata": {},
   "outputs": [],
   "source": []
  },
  {
   "cell_type": "code",
   "execution_count": null,
   "id": "49b17683-1208-4319-ac17-a46da2d96553",
   "metadata": {},
   "outputs": [],
   "source": []
  },
  {
   "cell_type": "code",
   "execution_count": null,
   "id": "1dcbeb05-55ce-40ee-8fba-ea74ae3b0e11",
   "metadata": {},
   "outputs": [],
   "source": []
  },
  {
   "cell_type": "code",
   "execution_count": null,
   "id": "f344ab5f-4cec-4eec-82bd-c6a2b79a60e3",
   "metadata": {},
   "outputs": [],
   "source": []
  },
  {
   "cell_type": "code",
   "execution_count": null,
   "id": "93545805-5d70-4a73-910f-31d727232373",
   "metadata": {},
   "outputs": [],
   "source": []
  },
  {
   "cell_type": "code",
   "execution_count": null,
   "id": "6593e078-e4ee-45c6-b338-4dde16f6d4e3",
   "metadata": {},
   "outputs": [],
   "source": []
  },
  {
   "cell_type": "code",
   "execution_count": null,
   "id": "82630e5c-00e0-497e-83f0-908624b88e44",
   "metadata": {},
   "outputs": [],
   "source": []
  },
  {
   "cell_type": "code",
   "execution_count": null,
   "id": "3d2068c5-4559-4b5c-a424-3de89e2907ae",
   "metadata": {},
   "outputs": [],
   "source": []
  },
  {
   "cell_type": "code",
   "execution_count": null,
   "id": "9f4e6824-b890-4398-993a-7c1cece00ce8",
   "metadata": {},
   "outputs": [],
   "source": []
  },
  {
   "cell_type": "code",
   "execution_count": null,
   "id": "63c2c68b-7d15-4252-8592-e5834daed9b1",
   "metadata": {},
   "outputs": [],
   "source": []
  },
  {
   "cell_type": "code",
   "execution_count": null,
   "id": "01314ea9-a3cf-41d6-832c-d4ccfaf83401",
   "metadata": {},
   "outputs": [],
   "source": []
  },
  {
   "cell_type": "code",
   "execution_count": null,
   "id": "fe29f54d-0091-4dfa-9930-850481f1f805",
   "metadata": {},
   "outputs": [],
   "source": []
  },
  {
   "cell_type": "code",
   "execution_count": null,
   "id": "c416440f-0595-4c80-ad18-8bd67c9cde0b",
   "metadata": {},
   "outputs": [],
   "source": []
  },
  {
   "cell_type": "code",
   "execution_count": null,
   "id": "0a6ab00f-b628-401d-a7e6-904f64ca9352",
   "metadata": {},
   "outputs": [],
   "source": []
  },
  {
   "cell_type": "code",
   "execution_count": null,
   "id": "5090b157-ed19-41dc-b137-4fc13a889077",
   "metadata": {},
   "outputs": [],
   "source": []
  },
  {
   "cell_type": "code",
   "execution_count": null,
   "id": "1237d0bd-b535-4fa0-97e9-68e4ce8c7847",
   "metadata": {},
   "outputs": [],
   "source": []
  },
  {
   "cell_type": "code",
   "execution_count": null,
   "id": "ee6ac153-3975-4198-ab11-921cc133d833",
   "metadata": {},
   "outputs": [],
   "source": []
  },
  {
   "cell_type": "code",
   "execution_count": null,
   "id": "4e879d72-d5a2-4ee1-b463-ef9fd25ed65f",
   "metadata": {},
   "outputs": [],
   "source": []
  },
  {
   "cell_type": "code",
   "execution_count": null,
   "id": "333067c0-87af-43a1-be5f-946abbd75838",
   "metadata": {},
   "outputs": [],
   "source": []
  },
  {
   "cell_type": "code",
   "execution_count": null,
   "id": "736327a6-0ac2-406a-852e-6519d560a32e",
   "metadata": {},
   "outputs": [],
   "source": []
  },
  {
   "cell_type": "code",
   "execution_count": null,
   "id": "0c5ce8f8-66d9-432a-8328-11f280ed870e",
   "metadata": {},
   "outputs": [],
   "source": []
  },
  {
   "cell_type": "code",
   "execution_count": null,
   "id": "05459e65-170c-426b-a681-1021d9fd856a",
   "metadata": {},
   "outputs": [],
   "source": []
  },
  {
   "cell_type": "code",
   "execution_count": null,
   "id": "4c18e4f4-eff3-4250-a737-5eec12c8bff8",
   "metadata": {},
   "outputs": [],
   "source": []
  },
  {
   "cell_type": "code",
   "execution_count": null,
   "id": "5bf51d6f-35c2-4ae0-a1b0-ac071cbea8bf",
   "metadata": {},
   "outputs": [],
   "source": []
  },
  {
   "cell_type": "code",
   "execution_count": null,
   "id": "9b318368-6251-45be-8c3b-ebbedd85ec80",
   "metadata": {},
   "outputs": [],
   "source": []
  },
  {
   "cell_type": "code",
   "execution_count": null,
   "id": "4727dd73-ddcf-402b-a2e9-bbbd90212e18",
   "metadata": {},
   "outputs": [],
   "source": []
  },
  {
   "cell_type": "code",
   "execution_count": null,
   "id": "222709d7-3faf-4876-9802-d5b706614c4c",
   "metadata": {},
   "outputs": [],
   "source": []
  },
  {
   "cell_type": "code",
   "execution_count": null,
   "id": "ad2d27d5-87bd-46c8-b581-21daeced4626",
   "metadata": {},
   "outputs": [],
   "source": []
  }
 ],
 "metadata": {
  "kernelspec": {
   "display_name": "Python 3 (ipykernel)",
   "language": "python",
   "name": "python3"
  },
  "language_info": {
   "codemirror_mode": {
    "name": "ipython",
    "version": 3
   },
   "file_extension": ".py",
   "mimetype": "text/x-python",
   "name": "python",
   "nbconvert_exporter": "python",
   "pygments_lexer": "ipython3",
   "version": "3.11.3"
  }
 },
 "nbformat": 4,
 "nbformat_minor": 5
}
