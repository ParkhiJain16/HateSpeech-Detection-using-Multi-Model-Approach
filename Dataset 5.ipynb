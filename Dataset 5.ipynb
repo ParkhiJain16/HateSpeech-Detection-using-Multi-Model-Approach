{
 "cells": [
  {
   "cell_type": "code",
   "execution_count": 1,
   "id": "e7a367c6-c4e8-4d1e-989f-04b9b1102848",
   "metadata": {},
   "outputs": [],
   "source": [
    "import pandas as pd\n",
    "data = pd.read_csv(r\"C:\\Users\\parkh\\OneDrive\\Desktop\\HateSpeech\\urdu_tweets_dataset.csv\")"
   ]
  },
  {
   "cell_type": "code",
   "execution_count": 2,
   "id": "e5de72c2-be4f-4107-84c6-e60e76a5517d",
   "metadata": {},
   "outputs": [],
   "source": [
    "df = data.copy()"
   ]
  },
  {
   "cell_type": "code",
   "execution_count": 3,
   "id": "15b98c68-5262-4bf0-9fa0-c649cef42a73",
   "metadata": {},
   "outputs": [
    {
     "data": {
      "text/plain": [
       "tweet    0\n",
       "label    0\n",
       "dtype: int64"
      ]
     },
     "execution_count": 3,
     "metadata": {},
     "output_type": "execute_result"
    }
   ],
   "source": [
    "df.isnull().sum()"
   ]
  },
  {
   "cell_type": "code",
   "execution_count": 4,
   "id": "f568ac34-7ac9-4e3b-a10e-61f4145f404c",
   "metadata": {},
   "outputs": [
    {
     "data": {
      "text/html": [
       "<div>\n",
       "<style scoped>\n",
       "    .dataframe tbody tr th:only-of-type {\n",
       "        vertical-align: middle;\n",
       "    }\n",
       "\n",
       "    .dataframe tbody tr th {\n",
       "        vertical-align: top;\n",
       "    }\n",
       "\n",
       "    .dataframe thead th {\n",
       "        text-align: right;\n",
       "    }\n",
       "</style>\n",
       "<table border=\"1\" class=\"dataframe\">\n",
       "  <thead>\n",
       "    <tr style=\"text-align: right;\">\n",
       "      <th></th>\n",
       "      <th>tweet</th>\n",
       "      <th>label</th>\n",
       "    </tr>\n",
       "  </thead>\n",
       "  <tbody>\n",
       "    <tr>\n",
       "      <th>0</th>\n",
       "      <td>kya mein bhooka hon? kutia ab tum ney ye pooch...</td>\n",
       "      <td>1</td>\n",
       "    </tr>\n",
       "    <tr>\n",
       "      <th>1</th>\n",
       "      <td>khawateen ghaas ki tarah hain, inhen baqaidagi...</td>\n",
       "      <td>0</td>\n",
       "    </tr>\n",
       "    <tr>\n",
       "      <th>2</th>\n",
       "      <td>Afghani dehshat gard hotay hain</td>\n",
       "      <td>0</td>\n",
       "    </tr>\n",
       "    <tr>\n",
       "      <th>3</th>\n",
       "      <td>tamam sarkari hukkaam chor hain</td>\n",
       "      <td>1</td>\n",
       "    </tr>\n",
       "    <tr>\n",
       "      <th>4</th>\n",
       "      <td>yeh mohabbat nahi hai kutia</td>\n",
       "      <td>1</td>\n",
       "    </tr>\n",
       "  </tbody>\n",
       "</table>\n",
       "</div>"
      ],
      "text/plain": [
       "                                               tweet  label\n",
       "0  kya mein bhooka hon? kutia ab tum ney ye pooch...      1\n",
       "1  khawateen ghaas ki tarah hain, inhen baqaidagi...      0\n",
       "2                    Afghani dehshat gard hotay hain      0\n",
       "3                    tamam sarkari hukkaam chor hain      1\n",
       "4                        yeh mohabbat nahi hai kutia      1"
      ]
     },
     "execution_count": 4,
     "metadata": {},
     "output_type": "execute_result"
    }
   ],
   "source": [
    "df.head()"
   ]
  },
  {
   "cell_type": "code",
   "execution_count": 6,
   "id": "9058ba58-c497-40ce-ae9e-b0e62ce9621e",
   "metadata": {},
   "outputs": [],
   "source": [
    "# extract the text and labels\n",
    "X = list(data['tweet'])\n",
    "y = list(data['label'])"
   ]
  },
  {
   "cell_type": "code",
   "execution_count": 8,
   "id": "7a4a3e24-a69f-4302-b740-6798c09f9bcf",
   "metadata": {},
   "outputs": [
    {
     "name": "stdout",
     "output_type": "stream",
     "text": [
      "Label mapping: {1: 0, 0: 1}\n"
     ]
    }
   ],
   "source": [
    "unique_labels = df['label'].unique()\n",
    "label_dict = {label: i for i, label in enumerate(unique_labels)}\n",
    "num_labels = len(unique_labels)\n",
    "print(\"Label mapping:\", label_dict)\n"
   ]
  },
  {
   "cell_type": "code",
   "execution_count": 10,
   "id": "1c5ad1b8-cdde-4be3-ad32-4dc6258edb57",
   "metadata": {},
   "outputs": [],
   "source": [
    "import re\n",
    "def clean_text(text):\n",
    "    if pd.isnull(text):  # Check for NaN values\n",
    "        return ''\n",
    "    \n",
    "    # Remove newlines\n",
    "    text = re.sub(r'\\n+', ' ', text)\n",
    "    \n",
    "    # Remove URLs (http, https, or www links)\n",
    "    text = re.sub(r'http\\S+|www\\S+|t\\.co\\S+', '', text)\n",
    "    \n",
    "    # Remove extra spaces\n",
    "    text = re.sub(r'\\s+', ' ', text).strip()\n",
    "    \n",
    "    return text\n",
    "\n",
    "# Apply the cleaning function to the 'cleaned_text' column\n",
    "df['preprocessed_text'] = df['tweet'].apply(clean_text)"
   ]
  },
  {
   "cell_type": "code",
   "execution_count": 11,
   "id": "89a6a6e8-f50d-47c0-9b98-8bc3b2295dbb",
   "metadata": {},
   "outputs": [
    {
     "data": {
      "text/plain": [
       "0       kya mein bhooka hon? kutia ab tum ney ye pooch...\n",
       "1       khawateen ghaas ki tarah hain, inhen baqaidagi...\n",
       "2                         Afghani dehshat gard hotay hain\n",
       "3                         tamam sarkari hukkaam chor hain\n",
       "4                             yeh mohabbat nahi hai kutia\n",
       "                              ...                        \n",
       "3565    tera baap to tere maa ke yaar modi ko ghar bul...\n",
       "3566              patwari hotay hi khinzeer ki olaad hain\n",
       "3567    maa behen ke baare me abhi tk baat nhi ki, jab...\n",
       "3568    agar ye kutia meri zindagi mein na aye hoti to...\n",
       "3569    kab meray ghar aur zindagi se dafa ho rahi hai...\n",
       "Name: preprocessed_text, Length: 3570, dtype: object"
      ]
     },
     "execution_count": 11,
     "metadata": {},
     "output_type": "execute_result"
    }
   ],
   "source": [
    "df['preprocessed_text']"
   ]
  },
  {
   "cell_type": "code",
   "execution_count": 12,
   "id": "3bb3d640-0ddf-48e7-a213-9e4eb96c2b3d",
   "metadata": {},
   "outputs": [],
   "source": [
    "import seaborn as sns\n",
    "import matplotlib.pyplot as plt\n",
    "%matplotlib inline\n",
    "import numpy as np\n",
    "import seaborn as sb\n",
    "import warnings\n",
    "from nltk.corpus import stopwords"
   ]
  },
  {
   "cell_type": "code",
   "execution_count": 13,
   "id": "71f0d065-8b0b-46b4-9349-0b28a5cbdc11",
   "metadata": {},
   "outputs": [],
   "source": [
    "from sklearn.model_selection import train_test_split\n",
    "from sklearn.base import BaseEstimator, TransformerMixin\n",
    "from sklearn.linear_model import LogisticRegression\n",
    "from sklearn.naive_bayes import MultinomialNB\n",
    "from sklearn.model_selection import cross_validate, StratifiedKFold\n",
    "from sklearn.metrics import accuracy_score, classification_report, confusion_matrix\n",
    "from sklearn.model_selection import GridSearchCV\n",
    "from sklearn.feature_extraction.text import TfidfTransformer\n",
    "from sklearn.preprocessing import Binarizer\n",
    "\n",
    "\n",
    "from collections import Counter\n",
    "from os import listdir, makedirs\n",
    "from os.path import isfile, join, splitext, split"
   ]
  },
  {
   "cell_type": "code",
   "execution_count": 14,
   "id": "0ab06a1c-eac2-4681-ae3b-e5a50aae9e0c",
   "metadata": {},
   "outputs": [],
   "source": [
    "from wordcloud import STOPWORDS, WordCloud\n",
    "\n",
    "from sklearn.feature_extraction.text import CountVectorizer\n",
    "from sklearn.pipeline import Pipeline, FeatureUnion\n",
    "from sklearn.feature_extraction.text import TfidfVectorizer\n",
    "from sklearn.preprocessing import StandardScaler\n",
    "from sklearn.decomposition import TruncatedSVD\n",
    "from sklearn.metrics import accuracy_score, classification_report, confusion_matrix\n",
    "from sklearn.model_selection import cross_validate, StratifiedKFold\n",
    "from sklearn.naive_bayes import GaussianNB\n",
    "\n",
    "from sklearn import tree\n",
    "from sklearn.ensemble import RandomForestClassifier\n",
    "from sklearn import model_selection, naive_bayes, svm\n",
    "from sklearn.feature_extraction.text import TfidfVectorizer\n",
    "from sklearn.preprocessing import LabelEncoder\n",
    "from xgboost import XGBClassifier \n",
    "\n",
    "warnings.filterwarnings('ignore')\n",
    "np.random.seed(0)"
   ]
  },
  {
   "cell_type": "code",
   "execution_count": 24,
   "id": "00c33c97-fdc8-4b7b-8c1e-bf6f3600aa7c",
   "metadata": {},
   "outputs": [
    {
     "data": {
      "image/png": "[encoded data removed]",
      "text/plain": [
       "<Figure size 700x800 with 1 Axes>"
      ]
     },
     "metadata": {},
     "output_type": "display_data"
    }
   ],
   "source": [
    "all_text = \" \".join(df[\"tweet\"].astype(str))\n",
    "\n",
    "# If you have an Urdu-compatible font path, use it here. Otherwise, leave it None.\n",
    "# Example: font_path = \"NotoNastaliqUrdu-Regular.ttf\"\n",
    "font_path = None\n",
    "\n",
    "# Generate the word cloud\n",
    "wordcloud = WordCloud(\n",
    "    width=1000,\n",
    "    height=500,\n",
    "    background_color='white',\n",
    "    font_path=font_path  # Add your Urdu-supporting font if available\n",
    ").generate(all_text)\n",
    "\n",
    "# Plot the word cloud\n",
    "plt.figure(figsize=(7,8))\n",
    "plt.imshow(wordcloud, interpolation='bilinear')\n",
    "plt.axis('off')\n",
    "plt.title(\"Word Cloud of Urdu Tweets\", fontsize=18)\n",
    "plt.show()"
   ]
  },
  {
   "cell_type": "code",
   "execution_count": 20,
   "id": "5bb5c3c9-4b89-4c36-8d4d-8da3b74ad71f",
   "metadata": {},
   "outputs": [
    {
     "data": {
      "text/plain": [
       "'khuda kary tu kuttey ki mout marey'"
      ]
     },
     "execution_count": 20,
     "metadata": {},
     "output_type": "execute_result"
    }
   ],
   "source": [
    "example=df['tweet'][333]\n",
    "example"
   ]
  },
  {
   "cell_type": "code",
   "execution_count": 25,
   "id": "d11dd302-b27c-4078-996d-668c3298f558",
   "metadata": {},
   "outputs": [],
   "source": [
    "from sklearn.model_selection import train_test_split\n",
    "X_train,X_test,y_train,y_test = train_test_split(X,y,test_size=0.2,random_state = 32)"
   ]
  },
  {
   "cell_type": "code",
   "execution_count": 26,
   "id": "6072e33d-a6f3-407d-9027-6ca307de5f5e",
   "metadata": {},
   "outputs": [],
   "source": [
    "from sklearn.feature_extraction.text import TfidfVectorizer\n",
    "from sklearn.linear_model import LogisticRegression\n",
    "from sklearn.ensemble import RandomForestClassifier\n",
    "from sklearn.tree import DecisionTreeClassifier\n",
    "from sklearn.svm import SVC\n",
    "from sklearn.naive_bayes import MultinomialNB\n",
    "from sklearn.metrics import accuracy_score, f1_score, confusion_matrix\n",
    "from time import time\n",
    "tfidf_vectorizer = TfidfVectorizer(max_features=5000)  \n",
    "X_train_tfidf = tfidf_vectorizer.fit_transform(X_train)\n",
    "X_test_tfidf = tfidf_vectorizer.transform(X_test)\n",
    "\n",
    "models = {\n",
    "    'Logistic Regression': LogisticRegression(),\n",
    "    'Random Forest': RandomForestClassifier(),\n",
    "    'Decision Tree': DecisionTreeClassifier(),\n",
    "    'Support Vector Machine': SVC(),\n",
    "    'Naive Bayes': MultinomialNB()\n",
    "}\n",
    "\n",
    "results = {}"
   ]
  },
  {
   "cell_type": "code",
   "execution_count": 27,
   "id": "4850814b-ba77-445d-b9b6-377fb7187904",
   "metadata": {},
   "outputs": [
    {
     "data": {
      "image/png": "[encoded data removed]",
      "text/plain": [
       "<Figure size 400x300 with 2 Axes>"
      ]
     },
     "metadata": {},
     "output_type": "display_data"
    },
    {
     "data": {
      "image/png": "[encoded data removed]",
      "text/plain": [
       "<Figure size 400x300 with 2 Axes>"
      ]
     },
     "metadata": {},
     "output_type": "display_data"
    },
    {
     "data": {
      "image/png": "[encoded data removed]",
      "text/plain": [
       "<Figure size 400x300 with 2 Axes>"
      ]
     },
     "metadata": {},
     "output_type": "display_data"
    },
    {
     "data": {
      "image/png": "[encoded data removed]",
      "text/plain": [
       "<Figure size 400x300 with 2 Axes>"
      ]
     },
     "metadata": {},
     "output_type": "display_data"
    },
    {
     "data": {
      "image/png": "[encoded data removed]",
      "text/plain": [
       "<Figure size 400x300 with 2 Axes>"
      ]
     },
     "metadata": {},
     "output_type": "display_data"
    },
    {
     "name": "stdout",
     "output_type": "stream",
     "text": [
      "Results for Logistic Regression:\n",
      "Accuracy: 0.8291316526610645\n",
      "F1 Score: 0.7967166484798173\n",
      "Precision: 0.838412416657472\n",
      "Recall: 0.8291316526610645\n",
      "Time Taken: 0.1511387825012207\n",
      "\n",
      "\n",
      "Results for Random Forest:\n",
      "Accuracy: 0.8403361344537815\n",
      "F1 Score: 0.8196470180179276\n",
      "Precision: 0.8380916754619175\n",
      "Recall: 0.8403361344537815\n",
      "Time Taken: 3.532238006591797\n",
      "\n",
      "\n",
      "Results for Decision Tree:\n",
      "Accuracy: 0.7955182072829131\n",
      "F1 Score: 0.7989709593379529\n",
      "Precision: 0.8035113303558443\n",
      "Recall: 0.7955182072829131\n",
      "Time Taken: 0.9883251190185547\n",
      "\n",
      "\n",
      "Results for Support Vector Machine:\n",
      "Accuracy: 0.8445378151260504\n",
      "F1 Score: 0.8188117232880462\n",
      "Precision: 0.8552599300589802\n",
      "Recall: 0.8445378151260504\n",
      "Time Taken: 0.9257538318634033\n",
      "\n",
      "\n",
      "Results for Naive Bayes:\n",
      "Accuracy: 0.7969187675070029\n",
      "F1 Score: 0.7358730549913146\n",
      "Precision: 0.823978571020245\n",
      "Recall: 0.7969187675070029\n",
      "Time Taken: 0.015019655227661133\n",
      "\n",
      "\n"
     ]
    }
   ],
   "source": [
    "import matplotlib.pyplot as plt\n",
    "import seaborn as sns\n",
    "from sklearn.metrics import precision_score, recall_score, accuracy_score, f1_score, confusion_matrix\n",
    "from time import time\n",
    "\n",
    "# Dictionary to store results\n",
    "results = {}\n",
    "\n",
    "# Iterate over each model\n",
    "for model_name, model in models.items():\n",
    "    start_time = time()\n",
    "    \n",
    "    # Train the model\n",
    "    model.fit(X_train_tfidf, y_train)\n",
    "    \n",
    "    # Predict on the test set\n",
    "    y_pred = model.predict(X_test_tfidf)\n",
    "    \n",
    "    # Calculate metrics\n",
    "    accuracy = accuracy_score(y_test, y_pred)\n",
    "    f1 = f1_score(y_test, y_pred, average='weighted')\n",
    "    precision = precision_score(y_test, y_pred, average='weighted')\n",
    "    recall = recall_score(y_test, y_pred, average='weighted')\n",
    "    conf_matrix = confusion_matrix(y_test, y_pred)\n",
    "    time_taken = time() - start_time\n",
    "    \n",
    "    # Save results\n",
    "    results[model_name] = {\n",
    "        'Accuracy': accuracy,\n",
    "        'F1 Score': f1,\n",
    "        'Precision': precision,\n",
    "        'Recall': recall,\n",
    "        'Confusion Matrix': conf_matrix,\n",
    "        'Time Taken': time_taken\n",
    "    }\n",
    "    \n",
    "    # Plot confusion matrix as heatmap\n",
    "    plt.figure(figsize=(4,3))\n",
    "    sns.heatmap(conf_matrix, annot=True, fmt='d', cmap='Blues', xticklabels=model.classes_, yticklabels=model.classes_)\n",
    "    plt.title(f'Confusion Matrix for {model_name}')\n",
    "    plt.xlabel('Predicted')\n",
    "    plt.ylabel('Actual')\n",
    "    plt.show()\n",
    "\n",
    "# Print results\n",
    "for model_name, metrics in results.items():\n",
    "    print(f\"Results for {model_name}:\")\n",
    "    for metric_name, value in metrics.items():\n",
    "        if metric_name != 'Confusion Matrix':\n",
    "            print(f\"{metric_name}: {value}\")\n",
    "    print(\"\\n\")\n"
   ]
  },
  {
   "cell_type": "code",
   "execution_count": 28,
   "id": "c23353cf-fbb4-4bbd-bfdc-d094f2112235",
   "metadata": {},
   "outputs": [
    {
     "name": "stdout",
     "output_type": "stream",
     "text": [
      "\n",
      "Model: Logistic Regression\n",
      "Accuracy: 0.8291\n",
      "F1 Score: 0.7967\n",
      "Confusion Matrix:\n",
      "[[ 54 115]\n",
      " [  7 538]]\n",
      "Time Taken: 0.1511 seconds\n",
      "\n",
      "Model: Random Forest\n",
      "Accuracy: 0.8403\n",
      "F1 Score: 0.8196\n",
      "Confusion Matrix:\n",
      "[[ 70  99]\n",
      " [ 15 530]]\n",
      "Time Taken: 3.5322 seconds\n",
      "\n",
      "Model: Decision Tree\n",
      "Accuracy: 0.7955\n",
      "F1 Score: 0.7990\n",
      "Confusion Matrix:\n",
      "[[105  64]\n",
      " [ 82 463]]\n",
      "Time Taken: 0.9883 seconds\n",
      "\n",
      "Model: Support Vector Machine\n",
      "Accuracy: 0.8445\n",
      "F1 Score: 0.8188\n",
      "Confusion Matrix:\n",
      "[[ 64 105]\n",
      " [  6 539]]\n",
      "Time Taken: 0.9258 seconds\n",
      "\n",
      "Model: Naive Bayes\n",
      "Accuracy: 0.7969\n",
      "F1 Score: 0.7359\n",
      "Confusion Matrix:\n",
      "[[ 26 143]\n",
      " [  2 543]]\n",
      "Time Taken: 0.0150 seconds\n"
     ]
    }
   ],
   "source": [
    "for model_name, metrics in results.items():\n",
    "    print(f\"\\nModel: {model_name}\")\n",
    "    print(f\"Accuracy: {metrics['Accuracy']:.4f}\")\n",
    "    print(f\"F1 Score: {metrics['F1 Score']:.4f}\")\n",
    "    print(f\"Confusion Matrix:\\n{metrics['Confusion Matrix']}\")\n",
    "    print(f\"Time Taken: {metrics['Time Taken']:.4f} seconds\")\n"
   ]
  },
  {
   "cell_type": "code",
   "execution_count": 29,
   "id": "6a0fce36-9f3b-4c01-a55b-327a75541be3",
   "metadata": {},
   "outputs": [],
   "source": [
    "from tensorflow.keras.preprocessing.text import Tokenizer\n",
    "from tensorflow.keras.preprocessing.sequence import pad_sequences\n",
    "\n",
    "# Tokenization\n",
    "max_words = 10000\n",
    "max_len = 100\n",
    "\n",
    "tokenizer = Tokenizer(num_words=max_words, oov_token='<OOV>')\n",
    "tokenizer.fit_on_texts(X_train)\n",
    "\n",
    "# Convert text to sequences\n",
    "X_train_seq = tokenizer.texts_to_sequences(X_train)\n",
    "X_test_seq = tokenizer.texts_to_sequences(X_test)\n",
    "\n",
    "# Pad sequences\n",
    "X_train_padded = pad_sequences(X_train_seq, maxlen=max_len, padding='post', truncating='post')\n",
    "X_test_padded = pad_sequences(X_test_seq, maxlen=max_len, padding='post', truncating='post')\n"
   ]
  },
  {
   "cell_type": "code",
   "execution_count": 30,
   "id": "4f36f2bb-c04d-4f5a-b852-be715ee9dae1",
   "metadata": {},
   "outputs": [
    {
     "name": "stdout",
     "output_type": "stream",
     "text": [
      "X_train shape: (2856, 150)\n",
      "X_test shape: (714, 150)\n"
     ]
    }
   ],
   "source": [
    "# Tokenization\n",
    "max_words = 10000  # Maximum vocabulary size\n",
    "max_len = 150      # Maximum sequence length\n",
    "\n",
    "# Initialize the tokenizer\n",
    "tokenizer = Tokenizer(num_words=max_words, oov_token='<OOV>')\n",
    "\n",
    "# Fit the tokenizer on training text\n",
    "tokenizer.fit_on_texts(X_train)\n",
    "\n",
    "# Convert text to sequences\n",
    "X_train_seq = tokenizer.texts_to_sequences(X_train)\n",
    "X_test_seq = tokenizer.texts_to_sequences(X_test)\n",
    "\n",
    "# Pad sequences to ensure uniform input size\n",
    "X_train_padded = pad_sequences(X_train_seq, maxlen=max_len, padding='post', truncating='post')\n",
    "X_test_padded = pad_sequences(X_test_seq, maxlen=max_len, padding='post', truncating='post')\n",
    "\n",
    "# Ensure all data is in NumPy format\n",
    "X_train_padded = np.array(X_train_padded)\n",
    "X_test_padded = np.array(X_test_padded)\n",
    "y_train = np.array(y_train)\n",
    "y_test = np.array(y_test)\n",
    "\n",
    "# Print the shapes for verification\n",
    "print(\"X_train shape:\", X_train_padded.shape)\n",
    "print(\"X_test shape:\", X_test_padded.shape)\n"
   ]
  },
  {
   "cell_type": "code",
   "execution_count": 31,
   "id": "f2c69729-6493-4a05-9fa9-a95cb2a520b1",
   "metadata": {},
   "outputs": [],
   "source": [
    "from tensorflow.keras.models import Sequential\n",
    "from tensorflow.keras.layers import Embedding, Conv1D, GlobalMaxPooling1D, Dense, Dropout\n",
    "\n",
    "# CNN Model\n",
    "cnn_model = Sequential()\n",
    "\n",
    "# Embedding layer\n",
    "cnn_model.add(Embedding(input_dim=max_words, output_dim=128, input_length=max_len))\n",
    "\n",
    "# CNN layers\n",
    "cnn_model.add(Conv1D(filters=128, kernel_size=5, activation='relu'))\n",
    "cnn_model.add(GlobalMaxPooling1D())\n",
    "\n",
    "# Fully connected layers\n",
    "cnn_model.add(Dense(64, activation='relu'))\n",
    "cnn_model.add(Dropout(0.5))\n",
    "cnn_model.add(Dense(1, activation='sigmoid'))  # Binary classification\n",
    "\n",
    "# Compile the model\n",
    "cnn_model.compile(optimizer='adam', loss='binary_crossentropy', metrics=['accuracy'])\n"
   ]
  },
  {
   "cell_type": "code",
   "execution_count": 32,
   "id": "7eeadbf6-a119-4be3-b18f-85c9ddb855ae",
   "metadata": {},
   "outputs": [],
   "source": [
    "from sklearn.preprocessing import LabelEncoder\n",
    "import numpy as np\n",
    "\n",
    "# Initialize LabelEncoder\n",
    "label_encoder = LabelEncoder()\n",
    "\n",
    "# Fit and transform labels to numeric values\n",
    "y_train = label_encoder.fit_transform(y_train)\n",
    "y_test = label_encoder.transform(y_test)  # Use transform (not fit_transform) to keep consistency\n",
    "\n",
    "# Convert to float32 (or int32) for model compatibility\n",
    "y_train = np.array(y_train).astype('float32')\n",
    "y_test = np.array(y_test).astype('float32')\n"
   ]
  },
  {
   "cell_type": "code",
   "execution_count": 33,
   "id": "df7149b5-cb1c-4855-a630-ccb2ea893265",
   "metadata": {},
   "outputs": [
    {
     "name": "stdout",
     "output_type": "stream",
     "text": [
      "Epoch 1/10\n",
      "90/90 [==============================] - 5s 45ms/step - loss: 0.5639 - accuracy: 0.7504 - val_loss: 0.5005 - val_accuracy: 0.7633\n",
      "Epoch 2/10\n",
      "90/90 [==============================] - 4s 50ms/step - loss: 0.3684 - accuracy: 0.8375 - val_loss: 0.3276 - val_accuracy: 0.8599\n",
      "Epoch 3/10\n",
      "90/90 [==============================] - 4s 41ms/step - loss: 0.1400 - accuracy: 0.9517 - val_loss: 0.3704 - val_accuracy: 0.8501\n",
      "Epoch 4/10\n",
      "90/90 [==============================] - 3s 39ms/step - loss: 0.0406 - accuracy: 0.9905 - val_loss: 0.4440 - val_accuracy: 0.8445\n",
      "Epoch 5/10\n",
      "90/90 [==============================] - 4s 42ms/step - loss: 0.0166 - accuracy: 0.9979 - val_loss: 0.5128 - val_accuracy: 0.8613\n",
      "Epoch 6/10\n",
      "90/90 [==============================] - 4s 41ms/step - loss: 0.0034 - accuracy: 1.0000 - val_loss: 0.5750 - val_accuracy: 0.8641\n",
      "Epoch 7/10\n",
      "90/90 [==============================] - 4s 40ms/step - loss: 0.0019 - accuracy: 1.0000 - val_loss: 0.6006 - val_accuracy: 0.8571\n",
      "Epoch 8/10\n",
      "90/90 [==============================] - 4s 43ms/step - loss: 0.0014 - accuracy: 1.0000 - val_loss: 0.6393 - val_accuracy: 0.8557\n",
      "Epoch 9/10\n",
      "90/90 [==============================] - 4s 40ms/step - loss: 0.0012 - accuracy: 1.0000 - val_loss: 0.6794 - val_accuracy: 0.8599\n",
      "Epoch 10/10\n",
      "90/90 [==============================] - 3s 39ms/step - loss: 8.3844e-04 - accuracy: 1.0000 - val_loss: 0.6998 - val_accuracy: 0.8599\n"
     ]
    }
   ],
   "source": [
    "# Train the model using the padded sequences\n",
    "cnn_history = cnn_model.fit(\n",
    "    X_train_padded, y_train,\n",
    "    epochs=10, batch_size=32,\n",
    "    validation_data=(X_test_padded, y_test)\n",
    ")\n"
   ]
  },
  {
   "cell_type": "code",
   "execution_count": 34,
   "id": "4dcfc327-6a3f-410f-96ca-87ebeb626629",
   "metadata": {},
   "outputs": [
    {
     "name": "stdout",
     "output_type": "stream",
     "text": [
      "23/23 [==============================] - 0s 7ms/step - loss: 0.6998 - accuracy: 0.8599\n",
      "CNN Accuracy: 85.99%\n"
     ]
    }
   ],
   "source": [
    "# Evaluate the CNN model\n",
    "cnn_loss, cnn_accuracy = cnn_model.evaluate(X_test_padded, y_test)\n",
    "print(f\"CNN Accuracy: {cnn_accuracy * 100:.2f}%\")\n"
   ]
  },
  {
   "cell_type": "code",
   "execution_count": 35,
   "id": "e517ae52-8395-493e-9969-b34a75520ef9",
   "metadata": {},
   "outputs": [
    {
     "name": "stdout",
     "output_type": "stream",
     "text": [
      "Epoch 1/10\n",
      "90/90 [==============================] - 14s 137ms/step - loss: 0.5831 - accuracy: 0.7447 - val_loss: 0.5647 - val_accuracy: 0.7633\n",
      "Epoch 2/10\n",
      "90/90 [==============================] - 11s 126ms/step - loss: 0.5715 - accuracy: 0.7511 - val_loss: 0.5483 - val_accuracy: 0.7633\n",
      "Epoch 3/10\n",
      "90/90 [==============================] - 9s 105ms/step - loss: 0.5703 - accuracy: 0.7511 - val_loss: 0.5477 - val_accuracy: 0.7633\n",
      "Epoch 4/10\n",
      "90/90 [==============================] - 9s 105ms/step - loss: 0.5684 - accuracy: 0.7511 - val_loss: 0.5478 - val_accuracy: 0.7633\n",
      "Epoch 5/10\n",
      "90/90 [==============================] - 10s 107ms/step - loss: 0.5682 - accuracy: 0.7511 - val_loss: 0.5473 - val_accuracy: 0.7633\n",
      "Epoch 6/10\n",
      "90/90 [==============================] - 9s 105ms/step - loss: 0.5656 - accuracy: 0.7511 - val_loss: 0.5486 - val_accuracy: 0.7633\n",
      "Epoch 7/10\n",
      "90/90 [==============================] - 10s 109ms/step - loss: 0.5672 - accuracy: 0.7511 - val_loss: 0.5501 - val_accuracy: 0.7633\n",
      "Epoch 8/10\n",
      "90/90 [==============================] - 11s 122ms/step - loss: 0.5696 - accuracy: 0.7511 - val_loss: 0.5536 - val_accuracy: 0.7633\n",
      "Epoch 9/10\n",
      "90/90 [==============================] - 10s 112ms/step - loss: 0.5658 - accuracy: 0.7511 - val_loss: 0.5478 - val_accuracy: 0.7633\n",
      "Epoch 10/10\n",
      "90/90 [==============================] - 10s 108ms/step - loss: 0.5675 - accuracy: 0.7511 - val_loss: 0.5480 - val_accuracy: 0.7633\n"
     ]
    }
   ],
   "source": [
    "from tensorflow.keras.models import Sequential\n",
    "from tensorflow.keras.layers import Embedding, LSTM, Dense, Dropout\n",
    "\n",
    "# LSTM Model\n",
    "lstm_model = Sequential()\n",
    "\n",
    "# Embedding layer\n",
    "lstm_model.add(Embedding(input_dim=max_words, output_dim=128, input_length=max_len))\n",
    "\n",
    "# LSTM layer\n",
    "lstm_model.add(LSTM(128, return_sequences=False))\n",
    "\n",
    "# Fully connected layers\n",
    "lstm_model.add(Dense(64, activation='relu'))\n",
    "lstm_model.add(Dropout(0.5))\n",
    "lstm_model.add(Dense(1, activation='sigmoid'))  # Binary classification\n",
    "\n",
    "# Compile the model\n",
    "lstm_model.compile(optimizer='adam', loss='binary_crossentropy', metrics=['accuracy'])\n",
    "\n",
    "# Train the LSTM model\n",
    "lstm_history = lstm_model.fit(\n",
    "    X_train_padded, y_train,\n",
    "    epochs=10, batch_size=32,\n",
    "    validation_data=(X_test_padded, y_test)\n",
    ")\n"
   ]
  },
  {
   "cell_type": "code",
   "execution_count": 36,
   "id": "3c4cb63e-1e19-4968-829a-384187e930a5",
   "metadata": {},
   "outputs": [
    {
     "name": "stdout",
     "output_type": "stream",
     "text": [
      "23/23 [==============================] - 1s 34ms/step - loss: 0.5480 - accuracy: 0.7633\n",
      "LSTM Accuracy: 76.33%\n"
     ]
    }
   ],
   "source": [
    "# Evaluate the LSTM model\n",
    "lstm_loss, lstm_accuracy = lstm_model.evaluate(X_test_padded, y_test)\n",
    "print(f\"LSTM Accuracy: {lstm_accuracy * 100:.2f}%\")\n"
   ]
  },
  {
   "cell_type": "code",
   "execution_count": 37,
   "id": "357522ff-7767-4db0-a53f-7f95056976ad",
   "metadata": {},
   "outputs": [
    {
     "name": "stdout",
     "output_type": "stream",
     "text": [
      "Epoch 1/10\n",
      "90/90 [==============================] - 22s 208ms/step - loss: 0.5504 - accuracy: 0.7581 - val_loss: 0.4051 - val_accuracy: 0.8333\n",
      "Epoch 2/10\n",
      "90/90 [==============================] - 17s 189ms/step - loss: 0.2901 - accuracy: 0.8831 - val_loss: 0.3549 - val_accuracy: 0.8361\n",
      "Epoch 3/10\n",
      "90/90 [==============================] - 17s 188ms/step - loss: 0.1109 - accuracy: 0.9678 - val_loss: 0.4069 - val_accuracy: 0.8389\n",
      "Epoch 4/10\n",
      "90/90 [==============================] - 15s 171ms/step - loss: 0.0446 - accuracy: 0.9874 - val_loss: 0.5168 - val_accuracy: 0.8249\n",
      "Epoch 5/10\n",
      "90/90 [==============================] - 16s 173ms/step - loss: 0.0171 - accuracy: 0.9951 - val_loss: 0.6487 - val_accuracy: 0.8445\n",
      "Epoch 6/10\n",
      "90/90 [==============================] - 16s 175ms/step - loss: 0.0203 - accuracy: 0.9940 - val_loss: 0.6999 - val_accuracy: 0.8403\n",
      "Epoch 7/10\n",
      "90/90 [==============================] - 16s 175ms/step - loss: 0.0040 - accuracy: 0.9996 - val_loss: 0.8487 - val_accuracy: 0.8459\n",
      "Epoch 8/10\n",
      "90/90 [==============================] - 16s 183ms/step - loss: 0.0032 - accuracy: 0.9996 - val_loss: 0.7851 - val_accuracy: 0.8515\n",
      "Epoch 9/10\n",
      "90/90 [==============================] - 16s 180ms/step - loss: 0.0016 - accuracy: 0.9996 - val_loss: 0.9062 - val_accuracy: 0.8389\n",
      "Epoch 10/10\n",
      "90/90 [==============================] - 16s 182ms/step - loss: 0.0039 - accuracy: 0.9993 - val_loss: 0.9384 - val_accuracy: 0.8417\n"
     ]
    }
   ],
   "source": [
    "from tensorflow.keras.layers import Bidirectional\n",
    "\n",
    "# Bi-LSTM Model\n",
    "bi_lstm_model = Sequential()\n",
    "\n",
    "# Embedding layer\n",
    "bi_lstm_model.add(Embedding(input_dim=max_words, output_dim=128, input_length=max_len))\n",
    "\n",
    "# Bidirectional LSTM layer\n",
    "bi_lstm_model.add(Bidirectional(LSTM(128, return_sequences=False)))\n",
    "\n",
    "# Fully connected layers\n",
    "bi_lstm_model.add(Dense(64, activation='relu'))\n",
    "bi_lstm_model.add(Dropout(0.5))\n",
    "bi_lstm_model.add(Dense(1, activation='sigmoid'))  # Binary classification\n",
    "\n",
    "# Compile the model\n",
    "bi_lstm_model.compile(optimizer='adam', loss='binary_crossentropy', metrics=['accuracy'])\n",
    "\n",
    "# Train the Bi-LSTM model\n",
    "bi_lstm_history = bi_lstm_model.fit(\n",
    "    X_train_padded, y_train,\n",
    "    epochs=10, batch_size=32,\n",
    "    validation_data=(X_test_padded, y_test)\n",
    ")\n"
   ]
  },
  {
   "cell_type": "code",
   "execution_count": 38,
   "id": "0f27793b-9e6e-4bd4-80a7-1599d4e8d294",
   "metadata": {},
   "outputs": [
    {
     "name": "stdout",
     "output_type": "stream",
     "text": [
      "23/23 [==============================] - 2s 73ms/step - loss: 0.9384 - accuracy: 0.8417\n",
      "Bi-LSTM Accuracy: 84.17%\n"
     ]
    }
   ],
   "source": [
    "# Evaluate the Bi-LSTM model\n",
    "bi_lstm_loss, bi_lstm_accuracy = bi_lstm_model.evaluate(X_test_padded, y_test)\n",
    "print(f\"Bi-LSTM Accuracy: {bi_lstm_accuracy * 100:.2f}%\")\n"
   ]
  },
  {
   "cell_type": "code",
   "execution_count": 39,
   "id": "5f0d6cff-4216-4956-aa51-d0ea1ed793d6",
   "metadata": {},
   "outputs": [
    {
     "name": "stdout",
     "output_type": "stream",
     "text": [
      "Model: \"model\"\n",
      "__________________________________________________________________________________________________\n",
      " Layer (type)                Output Shape                 Param #   Connected to                  \n",
      "==================================================================================================\n",
      " input_1 (InputLayer)        [(None, 150)]                0         []                            \n",
      "                                                                                                  \n",
      " embedding_3 (Embedding)     (None, 150, 128)             1280000   ['input_1[0][0]']             \n",
      "                                                                                                  \n",
      " lstm_2 (LSTM)               (None, 150, 64)              49408     ['embedding_3[0][0]']         \n",
      "                                                                                                  \n",
      " conv1d_1 (Conv1D)           (None, 148, 64)              24640     ['embedding_3[0][0]']         \n",
      "                                                                                                  \n",
      " global_max_pooling1d_1 (Gl  (None, 64)                   0         ['lstm_2[0][0]']              \n",
      " obalMaxPooling1D)                                                                                \n",
      "                                                                                                  \n",
      " global_max_pooling1d_2 (Gl  (None, 64)                   0         ['conv1d_1[0][0]']            \n",
      " obalMaxPooling1D)                                                                                \n",
      "                                                                                                  \n",
      " concatenate (Concatenate)   (None, 128)                  0         ['global_max_pooling1d_1[0][0]\n",
      "                                                                    ',                            \n",
      "                                                                     'global_max_pooling1d_2[0][0]\n",
      "                                                                    ']                            \n",
      "                                                                                                  \n",
      " dropout_3 (Dropout)         (None, 128)                  0         ['concatenate[0][0]']         \n",
      "                                                                                                  \n",
      " dense_6 (Dense)             (None, 1)                    129       ['dropout_3[0][0]']           \n",
      "                                                                                                  \n",
      "==================================================================================================\n",
      "Total params: 1354177 (5.17 MB)\n",
      "Trainable params: 1354177 (5.17 MB)\n",
      "Non-trainable params: 0 (0.00 Byte)\n",
      "__________________________________________________________________________________________________\n"
     ]
    }
   ],
   "source": [
    "from tensorflow.keras.models import Model\n",
    "from tensorflow.keras.layers import Input, Embedding, LSTM, Conv1D, GlobalMaxPooling1D, Concatenate, Dense, Dropout\n",
    "\n",
    "# Input\n",
    "input_layer = Input(shape=(max_len,))\n",
    "\n",
    "# Shared Embedding layer\n",
    "embedding = Embedding(input_dim=max_words, output_dim=128, input_length=max_len)(input_layer)\n",
    "\n",
    "# LSTM Branch\n",
    "lstm = LSTM(64, return_sequences=True)(embedding)\n",
    "lstm_pool = GlobalMaxPooling1D()(lstm)\n",
    "\n",
    "# CNN Branch\n",
    "conv = Conv1D(64, kernel_size=3, activation='relu')(embedding)\n",
    "conv_pool = GlobalMaxPooling1D()(conv)\n",
    "\n",
    "# Merge both\n",
    "merged = Concatenate()([lstm_pool, conv_pool])\n",
    "merged = Dropout(0.5)(merged)\n",
    "output = Dense(1, activation='sigmoid')(merged)\n",
    "\n",
    "# Final model\n",
    "model = Model(inputs=input_layer, outputs=output)\n",
    "model.compile(loss='binary_crossentropy', optimizer='adam', metrics=['accuracy'])\n",
    "\n",
    "model.summary()\n"
   ]
  },
  {
   "cell_type": "code",
   "execution_count": 41,
   "id": "93f0a9eb-8131-4527-9e99-e244637c4b8b",
   "metadata": {},
   "outputs": [],
   "source": [
    "tokenizer = Tokenizer(num_words=10000)\n",
    "tokenizer.fit_on_texts(X_train)\n",
    "\n",
    "X_train_seq = tokenizer.texts_to_sequences(X_train)\n",
    "X_test_seq = tokenizer.texts_to_sequences(X_test)\n",
    "\n",
    "# 4. Pad sequences\n",
    "maxlen = 100\n",
    "X_train_pad = pad_sequences(X_train_seq, maxlen=maxlen, padding='post')\n",
    "X_test_pad = pad_sequences(X_test_seq, maxlen=maxlen, padding='post')"
   ]
  },
  {
   "cell_type": "code",
   "execution_count": 45,
   "id": "91ac754f-064b-4df0-bd97-3c609515e029",
   "metadata": {},
   "outputs": [
    {
     "name": "stdout",
     "output_type": "stream",
     "text": [
      "Epoch 1/10\n",
      "90/90 [==============================] - 9s 71ms/step - loss: 0.5645 - accuracy: 0.7514 - val_loss: 0.5323 - val_accuracy: 0.7493\n",
      "Epoch 2/10\n",
      "90/90 [==============================] - 6s 62ms/step - loss: 0.3845 - accuracy: 0.8200 - val_loss: 0.3749 - val_accuracy: 0.8459\n",
      "Epoch 3/10\n",
      "90/90 [==============================] - 5s 57ms/step - loss: 0.1222 - accuracy: 0.9618 - val_loss: 0.4288 - val_accuracy: 0.8403\n",
      "Epoch 4/10\n",
      "90/90 [==============================] - 6s 67ms/step - loss: 0.0342 - accuracy: 0.9912 - val_loss: 0.5039 - val_accuracy: 0.8333\n",
      "Epoch 5/10\n",
      "90/90 [==============================] - 7s 77ms/step - loss: 0.0127 - accuracy: 0.9986 - val_loss: 0.6021 - val_accuracy: 0.8403\n",
      "Epoch 6/10\n",
      "90/90 [==============================] - 5s 60ms/step - loss: 0.0056 - accuracy: 0.9996 - val_loss: 0.6491 - val_accuracy: 0.8319\n",
      "Epoch 7/10\n",
      "90/90 [==============================] - 5s 57ms/step - loss: 0.0026 - accuracy: 1.0000 - val_loss: 0.7042 - val_accuracy: 0.8361\n",
      "Epoch 8/10\n",
      "90/90 [==============================] - 5s 56ms/step - loss: 0.0023 - accuracy: 0.9996 - val_loss: 0.7542 - val_accuracy: 0.8319\n",
      "Epoch 9/10\n",
      "90/90 [==============================] - 6s 62ms/step - loss: 0.0015 - accuracy: 1.0000 - val_loss: 0.7918 - val_accuracy: 0.8333\n",
      "Epoch 10/10\n",
      "90/90 [==============================] - 6s 64ms/step - loss: 0.0011 - accuracy: 1.0000 - val_loss: 0.8484 - val_accuracy: 0.8333\n"
     ]
    }
   ],
   "source": [
    "from tensorflow.keras.preprocessing.sequence import pad_sequences\n",
    "from tensorflow.keras.models import Model\n",
    "from tensorflow.keras.layers import Input, Embedding, LSTM, Conv1D, GlobalMaxPooling1D, concatenate, Dense, Dropout\n",
    "from tensorflow.keras.utils import to_categorical\n",
    "\n",
    "num_classes = len(df['label'].unique())\n",
    "texts = df['tweet'].astype(str).values\n",
    "labels = to_categorical(df['label'].astype(int).values, num_classes=num_classes)\n",
    "\n",
    "# 2. Split data\n",
    "X_train, X_test, y_train, y_test = train_test_split(texts, labels, test_size=0.2, random_state=42)\n",
    "\n",
    "# 3. Tokenization & Padding\n",
    "max_words = 10000\n",
    "max_len = 100\n",
    "\n",
    "tokenizer = Tokenizer(num_words=max_words)\n",
    "tokenizer.fit_on_texts(X_train)\n",
    "X_train_seq = tokenizer.texts_to_sequences(X_train)\n",
    "X_test_seq = tokenizer.texts_to_sequences(X_test)\n",
    "\n",
    "X_train_pad = pad_sequences(X_train_seq, maxlen=max_len, padding='post')\n",
    "X_test_pad = pad_sequences(X_test_seq, maxlen=max_len, padding='post')\n",
    "\n",
    "# 4. Build Hybrid Model: CNN + LSTM\n",
    "input_layer = Input(shape=(max_len,))\n",
    "embedding_layer = Embedding(input_dim=max_words, output_dim=128, input_length=max_len)(input_layer)\n",
    "\n",
    "# CNN branch\n",
    "cnn_layer = Conv1D(64, 5, activation='relu')(embedding_layer)\n",
    "cnn_layer = GlobalMaxPooling1D()(cnn_layer)\n",
    "\n",
    "# LSTM branch\n",
    "lstm_layer = LSTM(64)(embedding_layer)\n",
    "\n",
    "# Merge both branches\n",
    "merged = concatenate([cnn_layer, lstm_layer])\n",
    "dense = Dense(64, activation='relu')(merged)\n",
    "dropout = Dropout(0.5)(dense)\n",
    "output = Dense(num_classes, activation='softmax')(dropout)\n",
    "\n",
    "# Compile model\n",
    "model = Model(inputs=input_layer, outputs=output)\n",
    "model.compile(loss='categorical_crossentropy', optimizer='adam', metrics=['accuracy'])\n",
    "\n",
    "# 5. Train model\n",
    "history = model.fit(\n",
    "    X_train_pad, y_train,\n",
    "    epochs=10,\n",
    "    batch_size=32,\n",
    "    validation_data=(X_test_pad, y_test)\n",
    ")"
   ]
  },
  {
   "cell_type": "code",
   "execution_count": 46,
   "id": "f0607549-82d5-4a0a-b771-caa648c9d1e2",
   "metadata": {},
   "outputs": [
    {
     "name": "stdout",
     "output_type": "stream",
     "text": [
      "23/23 [==============================] - 0s 15ms/step - loss: 0.8484 - accuracy: 0.8333\n",
      "Test Accuracy: 83.33%\n"
     ]
    }
   ],
   "source": [
    "loss, accuracy = model.evaluate(X_test_pad, y_test, verbose=1)\n",
    "print(f\"Test Accuracy: {accuracy * 100:.2f}%\")\n"
   ]
  },
  {
   "cell_type": "code",
   "execution_count": 48,
   "id": "23f2adf5-2635-4128-9271-6dccc6329453",
   "metadata": {},
   "outputs": [
    {
     "name": "stdout",
     "output_type": "stream",
     "text": [
      "23/23 [==============================] - 0s 18ms/step\n",
      "Test Accuracy: 0.8333333333333334\n"
     ]
    }
   ],
   "source": [
    "from sklearn.metrics import accuracy_score\n",
    "import numpy as np\n",
    "\n",
    "# Predict probabilities\n",
    "y_pred_probs = model.predict(X_test_pad)\n",
    "\n",
    "# Convert one-hot predictions and labels back to class indices\n",
    "y_pred = np.argmax(y_pred_probs, axis=1)\n",
    "y_true = np.argmax(y_test, axis=1)\n",
    "\n",
    "# Calculate accuracy\n",
    "acc = accuracy_score(y_true, y_pred)\n",
    "print(\"Test Accuracy:\", acc)\n"
   ]
  },
  {
   "cell_type": "code",
   "execution_count": null,
   "id": "6372b417-8a5b-4072-b925-e3cad7cfde59",
   "metadata": {},
   "outputs": [],
   "source": []
  },
  {
   "cell_type": "code",
   "execution_count": null,
   "id": "cdb7d959-1e9f-4062-909a-58aea8044498",
   "metadata": {},
   "outputs": [],
   "source": []
  },
  {
   "cell_type": "code",
   "execution_count": null,
   "id": "abce6220-8a2d-47ce-bae7-65ed758ab653",
   "metadata": {},
   "outputs": [],
   "source": []
  },
  {
   "cell_type": "code",
   "execution_count": null,
   "id": "993cf2b8-5434-4195-a95f-dd703631b1a7",
   "metadata": {},
   "outputs": [],
   "source": []
  },
  {
   "cell_type": "code",
   "execution_count": null,
   "id": "b7938989-522c-4626-9ef7-1505bbd47cb7",
   "metadata": {},
   "outputs": [],
   "source": []
  },
  {
   "cell_type": "code",
   "execution_count": null,
   "id": "3e1e7b13-700c-4faf-ab64-9532f3d2c8a5",
   "metadata": {},
   "outputs": [],
   "source": []
  },
  {
   "cell_type": "code",
   "execution_count": null,
   "id": "f2bfb8ec-b9da-422b-85b3-d2238571f220",
   "metadata": {},
   "outputs": [],
   "source": []
  },
  {
   "cell_type": "code",
   "execution_count": null,
   "id": "4e8fb291-b5bf-43f3-9c1e-ea589f7790d1",
   "metadata": {},
   "outputs": [],
   "source": []
  },
  {
   "cell_type": "code",
   "execution_count": null,
   "id": "ab071f77-5de7-4650-ac41-7a34fa529057",
   "metadata": {},
   "outputs": [],
   "source": []
  },
  {
   "cell_type": "code",
   "execution_count": null,
   "id": "fc5a62ca-9187-42bf-9e3d-e41c0e163ead",
   "metadata": {},
   "outputs": [],
   "source": []
  },
  {
   "cell_type": "code",
   "execution_count": null,
   "id": "a469cfc3-300e-47c1-8e6c-b3b84b248072",
   "metadata": {},
   "outputs": [],
   "source": []
  },
  {
   "cell_type": "code",
   "execution_count": null,
   "id": "1330b7cb-4205-4667-ae36-23933c95e135",
   "metadata": {},
   "outputs": [],
   "source": []
  },
  {
   "cell_type": "code",
   "execution_count": null,
   "id": "4637b363-2f5e-4ff7-b2a5-e5459cbe4d2d",
   "metadata": {},
   "outputs": [],
   "source": []
  },
  {
   "cell_type": "code",
   "execution_count": null,
   "id": "38b2cf31-d1d4-4a95-9655-ca0cfc93932f",
   "metadata": {},
   "outputs": [],
   "source": []
  },
  {
   "cell_type": "code",
   "execution_count": null,
   "id": "b25d33a5-681b-4ce3-ab9b-c8ddfb09042c",
   "metadata": {},
   "outputs": [],
   "source": []
  },
  {
   "cell_type": "code",
   "execution_count": null,
   "id": "f5a2ee17-a18e-4956-8900-e066f7d8445c",
   "metadata": {},
   "outputs": [],
   "source": []
  },
  {
   "cell_type": "code",
   "execution_count": null,
   "id": "d30ea068-910c-47d0-8d13-e13195a9c622",
   "metadata": {},
   "outputs": [],
   "source": []
  },
  {
   "cell_type": "code",
   "execution_count": null,
   "id": "b95a32a5-6d55-45a7-882b-d9cf3063b1d5",
   "metadata": {},
   "outputs": [],
   "source": []
  },
  {
   "cell_type": "code",
   "execution_count": null,
   "id": "fc0e1de4-78d3-40ca-bb32-59638e8a13fb",
   "metadata": {},
   "outputs": [],
   "source": []
  },
  {
   "cell_type": "code",
   "execution_count": null,
   "id": "51a37bb8-bb2d-4289-997c-38237539a5c8",
   "metadata": {},
   "outputs": [],
   "source": []
  },
  {
   "cell_type": "code",
   "execution_count": null,
   "id": "33ded3b8-e2ab-4eb5-94fd-6a4df05827aa",
   "metadata": {},
   "outputs": [],
   "source": []
  },
  {
   "cell_type": "code",
   "execution_count": null,
   "id": "d991702b-a19e-476a-a717-10f5db3fad4e",
   "metadata": {},
   "outputs": [],
   "source": []
  },
  {
   "cell_type": "code",
   "execution_count": null,
   "id": "980cd16e-6594-4450-8edf-bcb5cad370d0",
   "metadata": {},
   "outputs": [],
   "source": []
  },
  {
   "cell_type": "code",
   "execution_count": null,
   "id": "f718ab9b-eada-4217-b3fc-3c37d09fec9f",
   "metadata": {},
   "outputs": [],
   "source": []
  },
  {
   "cell_type": "code",
   "execution_count": null,
   "id": "060a51ea-d495-4447-b871-7c201cc17ba3",
   "metadata": {},
   "outputs": [],
   "source": []
  },
  {
   "cell_type": "code",
   "execution_count": null,
   "id": "3b67d647-3bb4-4af1-a7a9-8479aff69e71",
   "metadata": {},
   "outputs": [],
   "source": []
  },
  {
   "cell_type": "code",
   "execution_count": null,
   "id": "7fdb7d84-5fc3-44ce-8ac1-3db527a3ed12",
   "metadata": {},
   "outputs": [],
   "source": []
  },
  {
   "cell_type": "code",
   "execution_count": null,
   "id": "db75ec5c-59a4-4926-bb30-22291a7aef3f",
   "metadata": {},
   "outputs": [],
   "source": []
  },
  {
   "cell_type": "code",
   "execution_count": null,
   "id": "efa5188b-e7f6-4098-9cf3-7855a555289e",
   "metadata": {},
   "outputs": [],
   "source": []
  },
  {
   "cell_type": "code",
   "execution_count": null,
   "id": "df3e7664-8a54-4a55-b66f-69a1a2734f69",
   "metadata": {},
   "outputs": [],
   "source": []
  },
  {
   "cell_type": "code",
   "execution_count": null,
   "id": "530322fe-493b-498b-b914-f51aa3566396",
   "metadata": {},
   "outputs": [],
   "source": []
  },
  {
   "cell_type": "code",
   "execution_count": null,
   "id": "9e506690-c0dd-41e2-8d4c-6e78d5290cee",
   "metadata": {},
   "outputs": [],
   "source": []
  },
  {
   "cell_type": "code",
   "execution_count": null,
   "id": "89fd39ec-77ed-400e-acc5-613d8c03cc57",
   "metadata": {},
   "outputs": [],
   "source": []
  },
  {
   "cell_type": "code",
   "execution_count": null,
   "id": "583a0862-8ce7-4cb1-b84d-c5843ad1cde1",
   "metadata": {},
   "outputs": [],
   "source": []
  },
  {
   "cell_type": "code",
   "execution_count": null,
   "id": "96cdd2e8-915e-49ca-884e-ab52df2d220a",
   "metadata": {},
   "outputs": [],
   "source": []
  },
  {
   "cell_type": "code",
   "execution_count": null,
   "id": "6eaa8255-738c-4f88-be40-dc585a5e652a",
   "metadata": {},
   "outputs": [],
   "source": []
  },
  {
   "cell_type": "code",
   "execution_count": null,
   "id": "7274b55b-0a93-4a32-bfd2-2b3a57bdc326",
   "metadata": {},
   "outputs": [],
   "source": []
  },
  {
   "cell_type": "code",
   "execution_count": null,
   "id": "6f8d20e3-4860-4494-91b9-5491850dad87",
   "metadata": {},
   "outputs": [],
   "source": []
  },
  {
   "cell_type": "code",
   "execution_count": null,
   "id": "b32b72a2-01c5-4fe4-8d01-7256bc3fba8f",
   "metadata": {},
   "outputs": [],
   "source": []
  },
  {
   "cell_type": "code",
   "execution_count": null,
   "id": "dec9c845-8c4f-4ff6-8d95-16a000307abf",
   "metadata": {},
   "outputs": [],
   "source": []
  },
  {
   "cell_type": "code",
   "execution_count": null,
   "id": "7c7d4ab5-7b39-4cab-ad01-274c0d7b8aa9",
   "metadata": {},
   "outputs": [],
   "source": []
  },
  {
   "cell_type": "code",
   "execution_count": null,
   "id": "f2e59f29-53c5-4c95-9ff6-440a2dbdab6a",
   "metadata": {},
   "outputs": [],
   "source": []
  },
  {
   "cell_type": "code",
   "execution_count": null,
   "id": "1aeba741-45ba-40c8-8fad-5bbcd2f4c722",
   "metadata": {},
   "outputs": [],
   "source": []
  },
  {
   "cell_type": "code",
   "execution_count": null,
   "id": "392ce827-9e91-4754-84fd-86699fcc25bc",
   "metadata": {},
   "outputs": [],
   "source": []
  },
  {
   "cell_type": "code",
   "execution_count": null,
   "id": "8c446c27-f786-44e0-aa5a-f5f44dd7f739",
   "metadata": {},
   "outputs": [],
   "source": []
  },
  {
   "cell_type": "code",
   "execution_count": null,
   "id": "8e4de69b-4760-4b14-ba82-56f6740b9c4a",
   "metadata": {},
   "outputs": [],
   "source": []
  },
  {
   "cell_type": "code",
   "execution_count": null,
   "id": "f901d14a-35ec-42d2-82fb-65c3c53c722c",
   "metadata": {},
   "outputs": [],
   "source": []
  },
  {
   "cell_type": "code",
   "execution_count": null,
   "id": "eeca7f61-407d-468b-b2ba-c271d0782d18",
   "metadata": {},
   "outputs": [],
   "source": []
  },
  {
   "cell_type": "code",
   "execution_count": null,
   "id": "db1e8fd9-723e-4ee0-beff-bce487d0d6c2",
   "metadata": {},
   "outputs": [],
   "source": []
  },
  {
   "cell_type": "code",
   "execution_count": null,
   "id": "593c3e75-0ee5-42d6-82b2-62f7e5802c52",
   "metadata": {},
   "outputs": [],
   "source": []
  },
  {
   "cell_type": "code",
   "execution_count": null,
   "id": "a7d49ecc-a92f-4da9-a3dd-1d4f60f47107",
   "metadata": {},
   "outputs": [],
   "source": []
  },
  {
   "cell_type": "code",
   "execution_count": null,
   "id": "2ddf6e1c-8cf8-4f8e-914d-eb7648100bfd",
   "metadata": {},
   "outputs": [],
   "source": []
  },
  {
   "cell_type": "code",
   "execution_count": null,
   "id": "4484fda6-fec1-4b5f-968f-539494df4fd6",
   "metadata": {},
   "outputs": [],
   "source": []
  },
  {
   "cell_type": "code",
   "execution_count": null,
   "id": "22d87618-906b-46d6-924f-d767159fd0af",
   "metadata": {},
   "outputs": [],
   "source": []
  },
  {
   "cell_type": "code",
   "execution_count": null,
   "id": "4a267e39-7ab8-47d0-a7ec-f51f8c64f36f",
   "metadata": {},
   "outputs": [],
   "source": []
  },
  {
   "cell_type": "code",
   "execution_count": null,
   "id": "9f773470-3115-4b62-b458-b62488c79b41",
   "metadata": {},
   "outputs": [],
   "source": []
  },
  {
   "cell_type": "code",
   "execution_count": null,
   "id": "e7a14c05-3924-446b-b762-a9f9bcbe3670",
   "metadata": {},
   "outputs": [],
   "source": []
  },
  {
   "cell_type": "code",
   "execution_count": null,
   "id": "f49b85bf-fc15-4bfe-bbbd-46a9e9f8a1c8",
   "metadata": {},
   "outputs": [],
   "source": []
  },
  {
   "cell_type": "code",
   "execution_count": null,
   "id": "b55c3bbf-9f08-43c1-9a2d-1c45c5d44f87",
   "metadata": {},
   "outputs": [],
   "source": []
  },
  {
   "cell_type": "code",
   "execution_count": null,
   "id": "11a95a2b-a98e-461d-8cb8-3bf106f7f3d7",
   "metadata": {},
   "outputs": [],
   "source": []
  },
  {
   "cell_type": "code",
   "execution_count": null,
   "id": "2cd19af0-19ab-452a-97f8-a74197199349",
   "metadata": {},
   "outputs": [],
   "source": []
  },
  {
   "cell_type": "code",
   "execution_count": null,
   "id": "e7350df7-6d2f-4d82-b0f1-81d7484acf57",
   "metadata": {},
   "outputs": [],
   "source": []
  },
  {
   "cell_type": "code",
   "execution_count": null,
   "id": "e1ef19dc-adde-4d64-87fc-8476da0e9fea",
   "metadata": {},
   "outputs": [],
   "source": []
  },
  {
   "cell_type": "code",
   "execution_count": null,
   "id": "32a467fd-0271-4237-8283-efbb2f2e9e40",
   "metadata": {},
   "outputs": [],
   "source": []
  },
  {
   "cell_type": "code",
   "execution_count": null,
   "id": "16440353-62a3-49a2-8e45-9b280e80bdab",
   "metadata": {},
   "outputs": [],
   "source": []
  },
  {
   "cell_type": "code",
   "execution_count": null,
   "id": "359c2456-593c-4263-8f67-e3984a1e9c8d",
   "metadata": {},
   "outputs": [],
   "source": []
  },
  {
   "cell_type": "code",
   "execution_count": null,
   "id": "82bd8bb2-ea39-47f2-99a4-8df722b2798b",
   "metadata": {},
   "outputs": [],
   "source": []
  },
  {
   "cell_type": "code",
   "execution_count": null,
   "id": "8aa798f7-70e3-4ac7-ad05-a8778b39b7b1",
   "metadata": {},
   "outputs": [],
   "source": []
  },
  {
   "cell_type": "code",
   "execution_count": null,
   "id": "6623da74-a31c-4809-ad9f-358a960e9b5e",
   "metadata": {},
   "outputs": [],
   "source": []
  },
  {
   "cell_type": "code",
   "execution_count": null,
   "id": "53e63b5e-1cd8-47d9-9f96-87f0147c9e2c",
   "metadata": {},
   "outputs": [],
   "source": []
  },
  {
   "cell_type": "code",
   "execution_count": null,
   "id": "0d3f2a94-4c3f-449f-bacd-4c97c4769962",
   "metadata": {},
   "outputs": [],
   "source": []
  },
  {
   "cell_type": "code",
   "execution_count": null,
   "id": "ad138390-c160-439e-bff2-71a1c9ffc134",
   "metadata": {},
   "outputs": [],
   "source": []
  },
  {
   "cell_type": "code",
   "execution_count": null,
   "id": "d4873339-3504-46eb-ab89-189de9b5a1e9",
   "metadata": {},
   "outputs": [],
   "source": []
  },
  {
   "cell_type": "code",
   "execution_count": null,
   "id": "cc877973-db75-4350-8454-fd634f9eb48e",
   "metadata": {},
   "outputs": [],
   "source": []
  },
  {
   "cell_type": "code",
   "execution_count": null,
   "id": "480012e4-e0d2-40ad-a34d-5a1dddc0d288",
   "metadata": {},
   "outputs": [],
   "source": []
  },
  {
   "cell_type": "code",
   "execution_count": null,
   "id": "d165dee8-3908-46a6-9cee-c12f842af7ce",
   "metadata": {},
   "outputs": [],
   "source": []
  },
  {
   "cell_type": "code",
   "execution_count": null,
   "id": "fa67574f-d828-40dc-98f6-a95624adf854",
   "metadata": {},
   "outputs": [],
   "source": []
  },
  {
   "cell_type": "code",
   "execution_count": null,
   "id": "6fcad009-6a2d-49d2-acea-84f614d91387",
   "metadata": {},
   "outputs": [],
   "source": []
  },
  {
   "cell_type": "code",
   "execution_count": null,
   "id": "d0fc582e-721a-4edd-8629-e77e919c3d16",
   "metadata": {},
   "outputs": [],
   "source": []
  },
  {
   "cell_type": "code",
   "execution_count": null,
   "id": "3f477b20-8b1f-4c8b-9e7a-615a1cdab59a",
   "metadata": {},
   "outputs": [],
   "source": []
  },
  {
   "cell_type": "code",
   "execution_count": null,
   "id": "1bbaaba1-8219-497f-aefe-b6727687f82c",
   "metadata": {},
   "outputs": [],
   "source": []
  },
  {
   "cell_type": "code",
   "execution_count": null,
   "id": "b611dd58-90cc-4488-95d5-9a6c2fa4a092",
   "metadata": {},
   "outputs": [],
   "source": []
  },
  {
   "cell_type": "code",
   "execution_count": null,
   "id": "bfa7f0e7-a2ab-4a61-8589-68f420fa27b1",
   "metadata": {},
   "outputs": [],
   "source": []
  },
  {
   "cell_type": "code",
   "execution_count": null,
   "id": "168e07b8-b382-408c-a478-1bd6c988fa53",
   "metadata": {},
   "outputs": [],
   "source": []
  },
  {
   "cell_type": "code",
   "execution_count": null,
   "id": "b920d0bb-22aa-4204-9b63-c489ad96b325",
   "metadata": {},
   "outputs": [],
   "source": []
  },
  {
   "cell_type": "code",
   "execution_count": null,
   "id": "1b612ced-7efe-4b51-b15e-07fbabc72bda",
   "metadata": {},
   "outputs": [],
   "source": []
  },
  {
   "cell_type": "code",
   "execution_count": null,
   "id": "a261dbc5-a817-42f6-b6c0-962e09a37469",
   "metadata": {},
   "outputs": [],
   "source": []
  },
  {
   "cell_type": "code",
   "execution_count": null,
   "id": "e6e19516-175b-4cdc-8080-20fdaa227af2",
   "metadata": {},
   "outputs": [],
   "source": []
  },
  {
   "cell_type": "code",
   "execution_count": null,
   "id": "9d49c576-ed93-4d91-86db-b134b19ebeda",
   "metadata": {},
   "outputs": [],
   "source": []
  },
  {
   "cell_type": "code",
   "execution_count": null,
   "id": "179dfd9b-b375-4738-ae67-c7b4be27a758",
   "metadata": {},
   "outputs": [],
   "source": []
  },
  {
   "cell_type": "code",
   "execution_count": null,
   "id": "1fb36f50-a2be-45b0-8eb4-454bce6730dc",
   "metadata": {},
   "outputs": [],
   "source": []
  },
  {
   "cell_type": "code",
   "execution_count": null,
   "id": "f5f25406-7238-42c2-a833-a728c7959a7f",
   "metadata": {},
   "outputs": [],
   "source": []
  },
  {
   "cell_type": "code",
   "execution_count": null,
   "id": "ac56de54-9ff4-4909-a8f4-2a743f1e3278",
   "metadata": {},
   "outputs": [],
   "source": []
  },
  {
   "cell_type": "code",
   "execution_count": null,
   "id": "cca9e620-84bb-437d-b2cf-38354bb74a69",
   "metadata": {},
   "outputs": [],
   "source": []
  },
  {
   "cell_type": "code",
   "execution_count": null,
   "id": "61f47c36-d1e7-4032-974d-a8fb7b635a1d",
   "metadata": {},
   "outputs": [],
   "source": []
  },
  {
   "cell_type": "code",
   "execution_count": null,
   "id": "8485ef44-ddf2-4c0b-8be1-d9701d3a095c",
   "metadata": {},
   "outputs": [],
   "source": []
  },
  {
   "cell_type": "code",
   "execution_count": null,
   "id": "b02e4ebc-d912-4d9a-b6a8-64c75bfb38be",
   "metadata": {},
   "outputs": [],
   "source": []
  },
  {
   "cell_type": "code",
   "execution_count": null,
   "id": "6eb086eb-ce32-4e2b-beef-43ee49a67236",
   "metadata": {},
   "outputs": [],
   "source": []
  },
  {
   "cell_type": "code",
   "execution_count": null,
   "id": "0843cdd4-d437-4a83-8f32-04fdebbadac6",
   "metadata": {},
   "outputs": [],
   "source": []
  },
  {
   "cell_type": "code",
   "execution_count": null,
   "id": "4660f906-1b6d-4953-af1d-9127a3cfb027",
   "metadata": {},
   "outputs": [],
   "source": []
  },
  {
   "cell_type": "code",
   "execution_count": null,
   "id": "333e15a0-98fa-4363-b45f-318417097b3c",
   "metadata": {},
   "outputs": [],
   "source": []
  },
  {
   "cell_type": "code",
   "execution_count": null,
   "id": "174e8eb4-8b7f-4a1e-99b7-14730028c83c",
   "metadata": {},
   "outputs": [],
   "source": []
  },
  {
   "cell_type": "code",
   "execution_count": null,
   "id": "2623162a-9878-410d-8181-e2a3a876e624",
   "metadata": {},
   "outputs": [],
   "source": []
  },
  {
   "cell_type": "code",
   "execution_count": null,
   "id": "81b2cdfe-4b6d-4768-a885-93563025320f",
   "metadata": {},
   "outputs": [],
   "source": []
  },
  {
   "cell_type": "code",
   "execution_count": null,
   "id": "b4e58927-1851-4fec-a0ac-e9ea1f901e00",
   "metadata": {},
   "outputs": [],
   "source": []
  },
  {
   "cell_type": "code",
   "execution_count": null,
   "id": "19a4098a-53b4-448f-9cbb-091990bf714d",
   "metadata": {},
   "outputs": [],
   "source": []
  },
  {
   "cell_type": "code",
   "execution_count": null,
   "id": "f1d71cd8-99de-4fe7-9ba9-c798b130dae2",
   "metadata": {},
   "outputs": [],
   "source": []
  },
  {
   "cell_type": "code",
   "execution_count": null,
   "id": "46e48bf4-d4a4-45d3-80b8-de67860183f6",
   "metadata": {},
   "outputs": [],
   "source": []
  },
  {
   "cell_type": "code",
   "execution_count": null,
   "id": "df12b1e2-8caf-4805-a7ec-c5446af849e4",
   "metadata": {},
   "outputs": [],
   "source": []
  },
  {
   "cell_type": "code",
   "execution_count": null,
   "id": "1855912a-0aec-45de-921e-fddb303376bc",
   "metadata": {},
   "outputs": [],
   "source": []
  },
  {
   "cell_type": "code",
   "execution_count": null,
   "id": "50341db2-1560-44e0-bc61-9d511704be10",
   "metadata": {},
   "outputs": [],
   "source": []
  },
  {
   "cell_type": "code",
   "execution_count": null,
   "id": "74327f52-fc01-445b-82b3-1d40425826e9",
   "metadata": {},
   "outputs": [],
   "source": []
  },
  {
   "cell_type": "code",
   "execution_count": null,
   "id": "f5509e60-2d45-424b-b396-bb354c6f6160",
   "metadata": {},
   "outputs": [],
   "source": []
  },
  {
   "cell_type": "code",
   "execution_count": null,
   "id": "395235a0-6067-4504-9a8a-f7789de077d5",
   "metadata": {},
   "outputs": [],
   "source": []
  },
  {
   "cell_type": "code",
   "execution_count": null,
   "id": "f024374c-0110-4c71-9c7c-c561d383d6d2",
   "metadata": {},
   "outputs": [],
   "source": []
  },
  {
   "cell_type": "code",
   "execution_count": null,
   "id": "1b2a386b-e213-40a6-9e1e-89a28cc07d64",
   "metadata": {},
   "outputs": [],
   "source": []
  },
  {
   "cell_type": "code",
   "execution_count": null,
   "id": "fd513c58-47ce-49e6-973e-772df997fd25",
   "metadata": {},
   "outputs": [],
   "source": []
  },
  {
   "cell_type": "code",
   "execution_count": null,
   "id": "3f47856b-7ab8-4ec1-91fb-c7980e770cf6",
   "metadata": {},
   "outputs": [],
   "source": []
  },
  {
   "cell_type": "code",
   "execution_count": null,
   "id": "d9cb5e82-2130-4556-b257-dd3d12f26dd4",
   "metadata": {},
   "outputs": [],
   "source": []
  },
  {
   "cell_type": "code",
   "execution_count": null,
   "id": "6f421a5e-a957-4053-a4e5-f7a21b5214de",
   "metadata": {},
   "outputs": [],
   "source": []
  },
  {
   "cell_type": "code",
   "execution_count": null,
   "id": "ff581a6f-99fc-446c-b3ad-5bbb5ecea41b",
   "metadata": {},
   "outputs": [],
   "source": []
  },
  {
   "cell_type": "code",
   "execution_count": null,
   "id": "f1676c6e-804a-41ba-9230-0935cea51dde",
   "metadata": {},
   "outputs": [],
   "source": []
  },
  {
   "cell_type": "code",
   "execution_count": null,
   "id": "fc305f8a-9956-4193-9411-4d9b3430aed5",
   "metadata": {},
   "outputs": [],
   "source": []
  },
  {
   "cell_type": "code",
   "execution_count": null,
   "id": "c69bdcda-f5b9-4e0e-baf1-db163311f8f6",
   "metadata": {},
   "outputs": [],
   "source": []
  },
  {
   "cell_type": "code",
   "execution_count": null,
   "id": "629a0eb2-b519-4da2-a884-4f538ec760cb",
   "metadata": {},
   "outputs": [],
   "source": []
  },
  {
   "cell_type": "code",
   "execution_count": null,
   "id": "2cd0d4a9-379c-421a-88fd-30863b2fc08c",
   "metadata": {},
   "outputs": [],
   "source": []
  },
  {
   "cell_type": "code",
   "execution_count": null,
   "id": "42a96fce-3a42-48f1-ada3-6d927da1a4f2",
   "metadata": {},
   "outputs": [],
   "source": []
  },
  {
   "cell_type": "code",
   "execution_count": null,
   "id": "ce89e795-f50b-4191-a11d-5b041d099fa6",
   "metadata": {},
   "outputs": [],
   "source": []
  },
  {
   "cell_type": "code",
   "execution_count": null,
   "id": "a946a4e6-f8d8-4cc0-becf-b16e5e152c17",
   "metadata": {},
   "outputs": [],
   "source": []
  },
  {
   "cell_type": "code",
   "execution_count": null,
   "id": "33de05b6-c1b8-40e6-8b45-c9de691f3edb",
   "metadata": {},
   "outputs": [],
   "source": []
  },
  {
   "cell_type": "code",
   "execution_count": null,
   "id": "6829380e-5f51-47a6-8a41-d682b4c15136",
   "metadata": {},
   "outputs": [],
   "source": []
  },
  {
   "cell_type": "code",
   "execution_count": null,
   "id": "882241a3-a4e6-425e-9021-b786abe22f51",
   "metadata": {},
   "outputs": [],
   "source": []
  },
  {
   "cell_type": "code",
   "execution_count": null,
   "id": "dd33356f-38fc-4531-b3f7-6be67e2f71dd",
   "metadata": {},
   "outputs": [],
   "source": []
  },
  {
   "cell_type": "code",
   "execution_count": null,
   "id": "4e17babf-efe5-40f5-83ec-ca5b79f160df",
   "metadata": {},
   "outputs": [],
   "source": []
  },
  {
   "cell_type": "code",
   "execution_count": null,
   "id": "9bc5e2c6-8fdc-43bd-9855-e1f7d4ce4900",
   "metadata": {},
   "outputs": [],
   "source": []
  },
  {
   "cell_type": "code",
   "execution_count": null,
   "id": "39474d97-acba-46c8-8263-e81aee2d2da4",
   "metadata": {},
   "outputs": [],
   "source": []
  },
  {
   "cell_type": "code",
   "execution_count": null,
   "id": "aa08edff-d21f-4091-bed0-957c8ed2ac1a",
   "metadata": {},
   "outputs": [],
   "source": []
  },
  {
   "cell_type": "code",
   "execution_count": null,
   "id": "f02379e4-7160-4721-b4c8-878f1c21ab6e",
   "metadata": {},
   "outputs": [],
   "source": []
  },
  {
   "cell_type": "code",
   "execution_count": null,
   "id": "f95017f6-106a-4cd5-ad61-85294a53591b",
   "metadata": {},
   "outputs": [],
   "source": []
  },
  {
   "cell_type": "code",
   "execution_count": null,
   "id": "12a14f91-961a-4400-be49-05b48a098021",
   "metadata": {},
   "outputs": [],
   "source": []
  },
  {
   "cell_type": "code",
   "execution_count": null,
   "id": "cb9c0fc4-7f10-453f-888b-61332ef7600c",
   "metadata": {},
   "outputs": [],
   "source": []
  },
  {
   "cell_type": "code",
   "execution_count": null,
   "id": "2de800d1-79bf-4940-bb18-edf9954f6987",
   "metadata": {},
   "outputs": [],
   "source": []
  }
 ],
 "metadata": {
  "kernelspec": {
   "display_name": "Python 3 (ipykernel)",
   "language": "python",
   "name": "python3"
  },
  "language_info": {
   "codemirror_mode": {
    "name": "ipython",
    "version": 3
   },
   "file_extension": ".py",
   "mimetype": "text/x-python",
   "name": "python",
   "nbconvert_exporter": "python",
   "pygments_lexer": "ipython3",
   "version": "3.11.3"
  }
 },
 "nbformat": 4,
 "nbformat_minor": 5
}
